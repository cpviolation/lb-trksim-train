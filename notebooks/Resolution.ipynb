{
 "cells": [
  {
   "cell_type": "code",
   "execution_count": 1,
   "id": "15a3fe2a-349f-4dc5-82e9-4e069061a663",
   "metadata": {},
   "outputs": [],
   "source": [
    "### Defining Environment variables pointing to user folders\n",
    "from os import environ, path, makedirs\n",
    "from json import load\n",
    "\n",
    "environ.setdefault('HOME_DIR', \"/mlinfn/shared/lamarr/\"+ environ['USERNAME'])\n",
    "environ.setdefault('TRAINING_DATA_FOLDER',\"/j100\")\n",
    "environ.setdefault('MODEL_STORAGE'  ,environ['HOME_DIR']+\"/trained_models\"+environ['TRAINING_DATA_FOLDER'])\n",
    "environ.setdefault('FEATHER_FOLDER' ,environ['HOME_DIR']+\"/lb-trksim-train/notebooks/feather_folder\"+environ['TRAINING_DATA_FOLDER'])\n",
    "environ.setdefault(\"TRAIN_DATA\"     ,environ['FEATHER_FOLDER']+\"/resolution-train\")\n",
    "environ.setdefault(\"VALIDATION_DATA\",environ['FEATHER_FOLDER']+\"/resolution-validation\")\n",
    "\n",
    "environ.setdefault(\"MODEL_VARIANT\",\"\")\n",
    "default_output_model = \"/models/resolution/saved_model.pb\"\n",
    "if environ['MODEL_VARIANT'] != '':\n",
    "    model_path,model_name = path.split(default_output_model)\n",
    "    default_output_model = path.join(model_path,environ['MODEL_VARIANT'], model_name)\n",
    "environ.setdefault('OUTPUT_MODEL',environ['MODEL_STORAGE']+default_output_model)\n",
    "\n",
    "with open(\"Models_definitions.json\") as mdl_file: # definition of variant models\n",
    "    models_def = load(mdl_file)\n",
    "    environ.setdefault('MODEL_DEFINITION',models_def['resolution'].get(environ['MODEL_VARIANT'],\"ResolutionGAN(gen_layers=10,discr_layers=10,ref_layers=10,X_shape=X.shape,y_shape=y.shape)\"))\n",
    "\n",
    "_ = environ.setdefault('NB_EXPORT',\"True\") # whether export notebooks"
   ]
  },
  {
   "cell_type": "code",
   "execution_count": 2,
   "id": "0373a539-1e7f-4508-a1dc-ed83ddf03ad9",
   "metadata": {},
   "outputs": [],
   "source": [
    "%run construct_models.py # script containing models definitions"
   ]
  },
  {
   "cell_type": "markdown",
   "id": "6569db22-c890-4ad3-9fc4-5fd28430b6b5",
   "metadata": {},
   "source": [
    "# Training Resolution model\n",
    "##### Tested on kernel `TensorFow on GPU` as defined in the image `landerlini/lhcbaf:v0p8`\n",
    "\n",
    "This notebook is part of a pipeline. It requires the preprocessing step defined in the \n",
    "[GAN preprocessing notebook](./Preprocessing-GANs.ipynb) and the trained model is \n",
    "validated in the [Resolution-validation](./Resolution-validation.ipynb) notebook.\n",
    "\n",
    "### Environment and libraries\n",
    "As for the other trainings, we are handling the GPU with TensorFlow.\n",
    "To make sure the GPU is found, we print below the system name of the accelerator."
   ]
  },
  {
   "cell_type": "code",
   "execution_count": 3,
   "id": "0053432e-8516-41f3-9945-4b86bb2ae011",
   "metadata": {},
   "outputs": [
    {
     "name": "stderr",
     "output_type": "stream",
     "text": [
      "/envs/root/lib/python3.9/site-packages/tqdm/auto.py:21: TqdmWarning: IProgress not found. Please update jupyter and ipywidgets. See https://ipywidgets.readthedocs.io/en/stable/user_install.html\n",
      "  from .autonotebook import tqdm as notebook_tqdm\n"
     ]
    },
    {
     "name": "stdout",
     "output_type": "stream",
     "text": [
      "GPU: /device:GPU:0\n"
     ]
    }
   ],
   "source": [
    "import numpy as np \n",
    "import pandas as pd \n",
    "import dask.dataframe as ddf\n",
    "import os\n",
    "from os import environ\n",
    "\n",
    "## Remove annoying warnings \n",
    "environ['TF_CPP_MIN_LOG_LEVEL'] = '3' \n",
    "import tensorflow as tf\n",
    "\n",
    "print (\"GPU:\", tf.test.gpu_device_name())"
   ]
  },
  {
   "cell_type": "markdown",
   "id": "48f16ab9-3e18-4e66-9394-6c002d37ca6e",
   "metadata": {},
   "source": [
    "## Loading the data\n",
    "\n",
    "The data are loaded with our custom `FeatherReader` helper class, defined in the local module [`feather_io`](./feather_io.py).\n",
    "\n",
    "In this notebook, we are using:\n",
    " * *training data*: to optimize the weights of the network\n",
    " * *validation data*: to evaluate overtraining effects"
   ]
  },
  {
   "cell_type": "code",
   "execution_count": 4,
   "id": "3470d95b-ade6-457f-bc89-66b847980a42",
   "metadata": {},
   "outputs": [],
   "source": [
    "from feather_io import FeatherReader    \n",
    "\n",
    "train_dataset = FeatherReader(environ.get(\"TRAIN_DATA\", \"resolution-train\")).as_tf_dataset()\n",
    "validation_dataset = FeatherReader(environ.get(\"VALIDATION_DATA\", \"resolution-validation\")).as_tf_dataset()"
   ]
  },
  {
   "cell_type": "markdown",
   "id": "88afb5c2-1326-4cc4-960f-927f905da79e",
   "metadata": {},
   "source": [
    "A chunk of data is loaded to ease the construction of the model, for example defining the shapes of the input and output tensors."
   ]
  },
  {
   "cell_type": "code",
   "execution_count": 5,
   "id": "772e1c5f-43c1-494f-8dc1-4018dd819049",
   "metadata": {},
   "outputs": [
    {
     "data": {
      "text/plain": [
       "TensorShape([352184, 9])"
      ]
     },
     "execution_count": 5,
     "metadata": {},
     "output_type": "execute_result"
    }
   ],
   "source": [
    "X, y = next(iter(train_dataset.batch(1_000_000)))\n",
    "y.shape"
   ]
  },
  {
   "cell_type": "markdown",
   "id": "46254391-2b40-4a76-9917-58eb985c7487",
   "metadata": {},
   "source": [
    "## Definition of the model\n",
    "The GANs used in this module are composed of three different neural networks trained simultaneously, namely:\n",
    " * a *generator* neural network that takes as an input the *condition* (such as the generator-level features) and the *random noise* and formulate predictions for the output\n",
    " * a *discriminator* neural network trained to identify whether a sample was part of the reference dataset or was produced by the generator\n",
    " * a *referee* network that mimics the configuration of the discriminator, is trained with a much larger learning rate.\n",
    " \n",
    "Generator and discrminator are part of the architecture of GANs since [they were proposed in 2014](https://arxiv.org/abs/1406.2661),\n",
    "with the underlying idea that the generator has to be trained to worsen the classification ability of the discriminator.\n",
    "Generator and discriminator are players of a game in which they try to drive the classification loss function towards\n",
    "higher and lower values, respectively. The outcome of the game that we wish to reach an equilibrium between \n",
    "the two players (Nash equilibrium) that forces both players to improve their abilities along the training \n",
    "and results into a generator providing samples with distributions almost indistinguishable from those of the \n",
    "reference sample.\n",
    "\n",
    "Unfortunately, using the loss function of the discriminator as adversarial objective of two neural networks \n",
    "makes it harder to interpret it as metric for the goodness of the trained model.\n",
    "A high value of the loss may be obtained with both an excellent generator evaluated by an excellent discriminator, \n",
    "or by an awful generator evaluated by an awful discriminator.\n",
    "To evaluate the progress of the training and assess the overall quality of the generator, we introduced a third\n",
    "neural network to the game that does not contribute to the training of the generator, but is a spectator providing \n",
    "and independent assessment of the agreement between the generated and the trained sample. We call this the *referee\n",
    "network*. Since it does not provide a feedback to the generator, larger jumps in the parameter space do not cause\n",
    "the training procedure of the generator to derail because of confusing information. Therefore, the learning rate can be larger.\n",
    "A large learning rate is also useful to provide timely updates on the status of the network, identifying quickly \n",
    "the discrepancies between the generated and the reference sample.\n",
    "\n",
    "The referee network was found to provide useful information when comparing the loss on the \n",
    "training and validation datasets. Indeed, we observed the ability of the *discriminator* \n",
    "to learn \"by heart\" some of the outlayers in the reference sample, resulting in a classification\n",
    "that does not generalize to the validation dataset.\n",
    "\n",
    "As for other tasks, we observed that L2 regularization is useful to contrast overtraining.\n",
    "In addition, L2 regularization is expected to contrast sharp boundaries in the classification\n",
    "function that may lead to explosions of the gradient when training the generator.\n",
    "\n",
    "As discussed for the acceptance models, we adopted very deep neural networks with skip connections to \n",
    "achieve decent results with limited effort in hyperparameter optimization. This choice might be reviewed\n",
    "with additional effort on tuning."
   ]
  },
  {
   "cell_type": "markdown",
   "id": "bf5a2a5c-514f-4471-bd68-b1dd6ff14362",
   "metadata": {},
   "source": [
    "### Generator architecture\n",
    "The generator takes the input conditions and the random noise as inputs and provides the target features as an output.\n",
    "In formula,\n",
    "$$\n",
    "g: \\mathbb R^{N_I} \\otimes \\mathbb R^{N_R} \\to \\mathbb R^{N_O} \n",
    "$$\n",
    "where $N_I$ and $N_O$ respresent the number of input and output features, respectively; while $N_R$ is the \n",
    "dimension of the random noise\n",
    "\n",
    "The activation function of the last layer is linear to avoid any constraint on the generated features.\n"
   ]
  },
  {
   "cell_type": "code",
   "execution_count": 6,
   "id": "0d7e26b0-b8ef-480e-a3b9-cb100b2ccac9",
   "metadata": {},
   "outputs": [],
   "source": [
    "generator,discriminator,referee = eval(environ[\"MODEL_DEFINITION\"])"
   ]
  },
  {
   "cell_type": "code",
   "execution_count": 7,
   "id": "cff3b5f7-27d9-4cb4-b523-ee399a19e9f8",
   "metadata": {},
   "outputs": [
    {
     "name": "stdout",
     "output_type": "stream",
     "text": [
      "Model: \"model\"\n",
      "__________________________________________________________________________________________________\n",
      " Layer (type)                   Output Shape         Param #     Connected to                     \n",
      "==================================================================================================\n",
      " input_1 (InputLayer)           [(None, 12)]         0           []                               \n",
      "                                                                                                  \n",
      " input_2 (InputLayer)           [(None, 128)]        0           []                               \n",
      "                                                                                                  \n",
      " concatenate (Concatenate)      (None, 140)          0           ['input_1[0][0]',                \n",
      "                                                                  'input_2[0][0]']                \n",
      "                                                                                                  \n",
      " dense (Dense)                  (None, 128)          18048       ['concatenate[0][0]']            \n",
      "                                                                                                  \n",
      " dense_1 (Dense)                (None, 128)          16512       ['dense[0][0]']                  \n",
      "                                                                                                  \n",
      " tf.__operators__.add (TFOpLamb  (None, 128)         0           ['dense[0][0]',                  \n",
      " da)                                                              'dense_1[0][0]']                \n",
      "                                                                                                  \n",
      " dense_2 (Dense)                (None, 128)          16512       ['tf.__operators__.add[0][0]']   \n",
      "                                                                                                  \n",
      " tf.__operators__.add_1 (TFOpLa  (None, 128)         0           ['tf.__operators__.add[0][0]',   \n",
      " mbda)                                                            'dense_2[0][0]']                \n",
      "                                                                                                  \n",
      " dense_3 (Dense)                (None, 128)          16512       ['tf.__operators__.add_1[0][0]'] \n",
      "                                                                                                  \n",
      " tf.__operators__.add_2 (TFOpLa  (None, 128)         0           ['tf.__operators__.add_1[0][0]', \n",
      " mbda)                                                            'dense_3[0][0]']                \n",
      "                                                                                                  \n",
      " dense_4 (Dense)                (None, 128)          16512       ['tf.__operators__.add_2[0][0]'] \n",
      "                                                                                                  \n",
      " tf.__operators__.add_3 (TFOpLa  (None, 128)         0           ['tf.__operators__.add_2[0][0]', \n",
      " mbda)                                                            'dense_4[0][0]']                \n",
      "                                                                                                  \n",
      " dense_5 (Dense)                (None, 128)          16512       ['tf.__operators__.add_3[0][0]'] \n",
      "                                                                                                  \n",
      " tf.__operators__.add_4 (TFOpLa  (None, 128)         0           ['tf.__operators__.add_3[0][0]', \n",
      " mbda)                                                            'dense_5[0][0]']                \n",
      "                                                                                                  \n",
      " dense_6 (Dense)                (None, 128)          16512       ['tf.__operators__.add_4[0][0]'] \n",
      "                                                                                                  \n",
      " tf.__operators__.add_5 (TFOpLa  (None, 128)         0           ['tf.__operators__.add_4[0][0]', \n",
      " mbda)                                                            'dense_6[0][0]']                \n",
      "                                                                                                  \n",
      " dense_7 (Dense)                (None, 128)          16512       ['tf.__operators__.add_5[0][0]'] \n",
      "                                                                                                  \n",
      " tf.__operators__.add_6 (TFOpLa  (None, 128)         0           ['tf.__operators__.add_5[0][0]', \n",
      " mbda)                                                            'dense_7[0][0]']                \n",
      "                                                                                                  \n",
      " dense_8 (Dense)                (None, 128)          16512       ['tf.__operators__.add_6[0][0]'] \n",
      "                                                                                                  \n",
      " tf.__operators__.add_7 (TFOpLa  (None, 128)         0           ['tf.__operators__.add_6[0][0]', \n",
      " mbda)                                                            'dense_8[0][0]']                \n",
      "                                                                                                  \n",
      " dense_9 (Dense)                (None, 128)          16512       ['tf.__operators__.add_7[0][0]'] \n",
      "                                                                                                  \n",
      " tf.__operators__.add_8 (TFOpLa  (None, 128)         0           ['tf.__operators__.add_7[0][0]', \n",
      " mbda)                                                            'dense_9[0][0]']                \n",
      "                                                                                                  \n",
      " dense_10 (Dense)               (None, 128)          16512       ['tf.__operators__.add_8[0][0]'] \n",
      "                                                                                                  \n",
      " tf.__operators__.add_9 (TFOpLa  (None, 128)         0           ['tf.__operators__.add_8[0][0]', \n",
      " mbda)                                                            'dense_10[0][0]']               \n",
      "                                                                                                  \n",
      " dense_11 (Dense)               (None, 9)            1161        ['tf.__operators__.add_9[0][0]'] \n",
      "                                                                                                  \n",
      "==================================================================================================\n",
      "Total params: 184,329\n",
      "Trainable params: 184,329\n",
      "Non-trainable params: 0\n",
      "__________________________________________________________________________________________________\n"
     ]
    }
   ],
   "source": [
    "random = generator.inputs[1]\n",
    "generator.summary()"
   ]
  },
  {
   "cell_type": "markdown",
   "id": "4a57c782-2ae6-40d4-821a-65c8bc26eb2d",
   "metadata": {
    "tags": []
   },
   "source": [
    "### Discriminator\n",
    "The generator takes as an input the conditions and the target features (either generated or from the reference sample) and provide the probability for the sample of being part of the reference sample.\n",
    "\n",
    "In formula,\n",
    "$$\n",
    "d^{(th)}: \\mathbb R^{N_I} \\otimes \\mathbb R^{N_O} \\to [0, 1] \\subset \\mathbb R.\n",
    "$$\n",
    "\n",
    "Usually, to map the response of a neural network in the interval $[0, 1]$, the sigmoid function is used.\n",
    "At implementation level, we decided to move the evaluation of the sigmoid from the activation of the last layer to the computation of the loss function.\n",
    "This is believed to improve the numerical stability of the computation by avoiding taking the exponential of a logarithm.\n",
    "\n",
    "In practice, our implemented discriminator will be described by\n",
    "$$\n",
    "d^{(impl)}: \\mathbb R^{N_I} \\otimes \\mathbb R^{N_O} \\to \\mathbb R.\n",
    "$$\n",
    "\n",
    "\n",
    "In terms of implemntation, the tensor we are passing as an input to the neural network for each batch is composed as depicted\n",
    "in the following table\n",
    "\n",
    "<table width=300>\n",
    "    <tr><th colspan=2>$X$<th><th>$y$</tr>\n",
    "    <tr><td>Input conditions (gen. level features)<td><b>Reference</b> target features<td><td><b>1</b></tr>\n",
    "    <tr><td>Input conditions (gen. level features)<td><b>Generated</b> target features<td><td><b>0</b></tr>\n",
    "</table>\n",
    "\n",
    "The input conditions are repeated twice, but in the first half of the batch \n",
    "they are completed with the output features of the reference samples and labeld as $1$.\n",
    "In the second half of the batch they are completed with randomly generated features and labeld with $0$.\n"
   ]
  },
  {
   "cell_type": "code",
   "execution_count": 8,
   "id": "7b907fb2-489e-4e3d-a8dd-e7902b9c2d9f",
   "metadata": {},
   "outputs": [
    {
     "name": "stdout",
     "output_type": "stream",
     "text": [
      "Model: \"model_1\"\n",
      "__________________________________________________________________________________________________\n",
      " Layer (type)                   Output Shape         Param #     Connected to                     \n",
      "==================================================================================================\n",
      " input_3 (InputLayer)           [(None, 12)]         0           []                               \n",
      "                                                                                                  \n",
      " input_4 (InputLayer)           [(None, 9)]          0           []                               \n",
      "                                                                                                  \n",
      " input_5 (InputLayer)           [(None, 9)]          0           []                               \n",
      "                                                                                                  \n",
      " concatenate_2 (Concatenate)    (None, 12)           0           ['input_3[0][0]',                \n",
      "                                                                  'input_3[0][0]']                \n",
      "                                                                                                  \n",
      " concatenate_1 (Concatenate)    (None, 9)            0           ['input_4[0][0]',                \n",
      "                                                                  'input_5[0][0]']                \n",
      "                                                                                                  \n",
      " concatenate_3 (Concatenate)    (None, 21)           0           ['concatenate_2[0][0]',          \n",
      "                                                                  'concatenate_1[0][0]']          \n",
      "                                                                                                  \n",
      " dense_12 (Dense)               (None, 128)          2816        ['concatenate_3[0][0]']          \n",
      "                                                                                                  \n",
      " dense_13 (Dense)               (None, 128)          16512       ['dense_12[0][0]']               \n",
      "                                                                                                  \n",
      " tf.__operators__.add_10 (TFOpL  (None, 128)         0           ['dense_12[0][0]',               \n",
      " ambda)                                                           'dense_13[0][0]']               \n",
      "                                                                                                  \n",
      " dense_14 (Dense)               (None, 128)          16512       ['tf.__operators__.add_10[0][0]']\n",
      "                                                                                                  \n",
      " tf.__operators__.add_11 (TFOpL  (None, 128)         0           ['tf.__operators__.add_10[0][0]',\n",
      " ambda)                                                           'dense_14[0][0]']               \n",
      "                                                                                                  \n",
      " dense_15 (Dense)               (None, 128)          16512       ['tf.__operators__.add_11[0][0]']\n",
      "                                                                                                  \n",
      " tf.__operators__.add_12 (TFOpL  (None, 128)         0           ['tf.__operators__.add_11[0][0]',\n",
      " ambda)                                                           'dense_15[0][0]']               \n",
      "                                                                                                  \n",
      " dense_16 (Dense)               (None, 128)          16512       ['tf.__operators__.add_12[0][0]']\n",
      "                                                                                                  \n",
      " tf.__operators__.add_13 (TFOpL  (None, 128)         0           ['tf.__operators__.add_12[0][0]',\n",
      " ambda)                                                           'dense_16[0][0]']               \n",
      "                                                                                                  \n",
      " dense_17 (Dense)               (None, 128)          16512       ['tf.__operators__.add_13[0][0]']\n",
      "                                                                                                  \n",
      " tf.__operators__.add_14 (TFOpL  (None, 128)         0           ['tf.__operators__.add_13[0][0]',\n",
      " ambda)                                                           'dense_17[0][0]']               \n",
      "                                                                                                  \n",
      " dense_18 (Dense)               (None, 128)          16512       ['tf.__operators__.add_14[0][0]']\n",
      "                                                                                                  \n",
      " tf.__operators__.add_15 (TFOpL  (None, 128)         0           ['tf.__operators__.add_14[0][0]',\n",
      " ambda)                                                           'dense_18[0][0]']               \n",
      "                                                                                                  \n",
      " dense_19 (Dense)               (None, 128)          16512       ['tf.__operators__.add_15[0][0]']\n",
      "                                                                                                  \n",
      " tf.__operators__.add_16 (TFOpL  (None, 128)         0           ['tf.__operators__.add_15[0][0]',\n",
      " ambda)                                                           'dense_19[0][0]']               \n",
      "                                                                                                  \n",
      " dense_20 (Dense)               (None, 128)          16512       ['tf.__operators__.add_16[0][0]']\n",
      "                                                                                                  \n",
      " tf.__operators__.add_17 (TFOpL  (None, 128)         0           ['tf.__operators__.add_16[0][0]',\n",
      " ambda)                                                           'dense_20[0][0]']               \n",
      "                                                                                                  \n",
      " dense_21 (Dense)               (None, 128)          16512       ['tf.__operators__.add_17[0][0]']\n",
      "                                                                                                  \n",
      " tf.__operators__.add_18 (TFOpL  (None, 128)         0           ['tf.__operators__.add_17[0][0]',\n",
      " ambda)                                                           'dense_21[0][0]']               \n",
      "                                                                                                  \n",
      " dense_22 (Dense)               (None, 128)          16512       ['tf.__operators__.add_18[0][0]']\n",
      "                                                                                                  \n",
      " tf.__operators__.add_19 (TFOpL  (None, 128)         0           ['tf.__operators__.add_18[0][0]',\n",
      " ambda)                                                           'dense_22[0][0]']               \n",
      "                                                                                                  \n",
      " dense_23 (Dense)               (None, 1)            129         ['tf.__operators__.add_19[0][0]']\n",
      "                                                                                                  \n",
      "==================================================================================================\n",
      "Total params: 168,065\n",
      "Trainable params: 168,065\n",
      "Non-trainable params: 0\n",
      "__________________________________________________________________________________________________\n"
     ]
    }
   ],
   "source": [
    "discriminator.summary()"
   ]
  },
  {
   "cell_type": "markdown",
   "id": "c313516e-dedf-4824-8441-54b75465c9c4",
   "metadata": {},
   "source": [
    "### Referee network\n",
    "The referee network mimics the discriminator network, therefore\n",
    "$$\n",
    "r: \\mathbb R^{N_I} \\otimes \\mathbb R^{N_O} \\to \\mathbb R\n",
    "$$\n",
    "The input tensor is built in the same way as for the discriminator."
   ]
  },
  {
   "cell_type": "code",
   "execution_count": 9,
   "id": "bca2fae3-c0c9-4417-b682-ed0dfecc1802",
   "metadata": {},
   "outputs": [
    {
     "name": "stdout",
     "output_type": "stream",
     "text": [
      "Model: \"model_2\"\n",
      "__________________________________________________________________________________________________\n",
      " Layer (type)                   Output Shape         Param #     Connected to                     \n",
      "==================================================================================================\n",
      " input_6 (InputLayer)           [(None, 12)]         0           []                               \n",
      "                                                                                                  \n",
      " input_7 (InputLayer)           [(None, 9)]          0           []                               \n",
      "                                                                                                  \n",
      " input_8 (InputLayer)           [(None, 9)]          0           []                               \n",
      "                                                                                                  \n",
      " concatenate_5 (Concatenate)    (None, 12)           0           ['input_6[0][0]',                \n",
      "                                                                  'input_6[0][0]']                \n",
      "                                                                                                  \n",
      " concatenate_4 (Concatenate)    (None, 9)            0           ['input_7[0][0]',                \n",
      "                                                                  'input_8[0][0]']                \n",
      "                                                                                                  \n",
      " concatenate_6 (Concatenate)    (None, 21)           0           ['concatenate_5[0][0]',          \n",
      "                                                                  'concatenate_4[0][0]']          \n",
      "                                                                                                  \n",
      " dense_24 (Dense)               (None, 128)          2816        ['concatenate_6[0][0]']          \n",
      "                                                                                                  \n",
      " dense_25 (Dense)               (None, 128)          16512       ['dense_24[0][0]']               \n",
      "                                                                                                  \n",
      " tf.__operators__.add_20 (TFOpL  (None, 128)         0           ['dense_24[0][0]',               \n",
      " ambda)                                                           'dense_25[0][0]']               \n",
      "                                                                                                  \n",
      " dense_26 (Dense)               (None, 128)          16512       ['tf.__operators__.add_20[0][0]']\n",
      "                                                                                                  \n",
      " tf.__operators__.add_21 (TFOpL  (None, 128)         0           ['tf.__operators__.add_20[0][0]',\n",
      " ambda)                                                           'dense_26[0][0]']               \n",
      "                                                                                                  \n",
      " dense_27 (Dense)               (None, 128)          16512       ['tf.__operators__.add_21[0][0]']\n",
      "                                                                                                  \n",
      " tf.__operators__.add_22 (TFOpL  (None, 128)         0           ['tf.__operators__.add_21[0][0]',\n",
      " ambda)                                                           'dense_27[0][0]']               \n",
      "                                                                                                  \n",
      " dense_28 (Dense)               (None, 128)          16512       ['tf.__operators__.add_22[0][0]']\n",
      "                                                                                                  \n",
      " tf.__operators__.add_23 (TFOpL  (None, 128)         0           ['tf.__operators__.add_22[0][0]',\n",
      " ambda)                                                           'dense_28[0][0]']               \n",
      "                                                                                                  \n",
      " dense_29 (Dense)               (None, 128)          16512       ['tf.__operators__.add_23[0][0]']\n",
      "                                                                                                  \n",
      " tf.__operators__.add_24 (TFOpL  (None, 128)         0           ['tf.__operators__.add_23[0][0]',\n",
      " ambda)                                                           'dense_29[0][0]']               \n",
      "                                                                                                  \n",
      " dense_30 (Dense)               (None, 128)          16512       ['tf.__operators__.add_24[0][0]']\n",
      "                                                                                                  \n",
      " tf.__operators__.add_25 (TFOpL  (None, 128)         0           ['tf.__operators__.add_24[0][0]',\n",
      " ambda)                                                           'dense_30[0][0]']               \n",
      "                                                                                                  \n",
      " dense_31 (Dense)               (None, 128)          16512       ['tf.__operators__.add_25[0][0]']\n",
      "                                                                                                  \n",
      " tf.__operators__.add_26 (TFOpL  (None, 128)         0           ['tf.__operators__.add_25[0][0]',\n",
      " ambda)                                                           'dense_31[0][0]']               \n",
      "                                                                                                  \n",
      " dense_32 (Dense)               (None, 128)          16512       ['tf.__operators__.add_26[0][0]']\n",
      "                                                                                                  \n",
      " tf.__operators__.add_27 (TFOpL  (None, 128)         0           ['tf.__operators__.add_26[0][0]',\n",
      " ambda)                                                           'dense_32[0][0]']               \n",
      "                                                                                                  \n",
      " dense_33 (Dense)               (None, 128)          16512       ['tf.__operators__.add_27[0][0]']\n",
      "                                                                                                  \n",
      " tf.__operators__.add_28 (TFOpL  (None, 128)         0           ['tf.__operators__.add_27[0][0]',\n",
      " ambda)                                                           'dense_33[0][0]']               \n",
      "                                                                                                  \n",
      " dense_34 (Dense)               (None, 128)          16512       ['tf.__operators__.add_28[0][0]']\n",
      "                                                                                                  \n",
      " tf.__operators__.add_29 (TFOpL  (None, 128)         0           ['tf.__operators__.add_28[0][0]',\n",
      " ambda)                                                           'dense_34[0][0]']               \n",
      "                                                                                                  \n",
      " dense_35 (Dense)               (None, 1)            129         ['tf.__operators__.add_29[0][0]']\n",
      "                                                                                                  \n",
      "==================================================================================================\n",
      "Total params: 168,065\n",
      "Trainable params: 168,065\n",
      "Non-trainable params: 0\n",
      "__________________________________________________________________________________________________\n"
     ]
    }
   ],
   "source": [
    "referee.summary()"
   ]
  },
  {
   "cell_type": "markdown",
   "id": "2ea93963-2169-422f-99df-1bb2eaf8c3a8",
   "metadata": {},
   "source": [
    "### Training step\n",
    "\n",
    "The training step is defined with the lower-level tensorflow API because we need to carefully\n",
    "tune which weights we wish to update based on each evaluation of a loss function.\n",
    "\n",
    "Technically, we are using the tensorflow [GradientTape](https://www.tensorflow.org/api_docs/python/tf/GradientTape) \n",
    "to keep track of the gradient while we describe the computation of the loss function.\n",
    "We will have a different tape for each neural network, recording the derivatives of the \n",
    "loss functions with respect to the weights of that particular network.\n",
    "\n",
    "#### Notes on the chosen loss function\n",
    "The loss function for the classification task is clearly a Binary Cross Entropy (BCE).\n",
    "However we adopt two non-default options for its computation:\n",
    " * `from_logit=True`, to improve the numerical stability of the gradient computation, which\n",
    "   is of particular importance for GANs because of the very long training procedure that \n",
    "   may inflate the errors due to many subsequent iterations\n",
    " * `label_smoothing=0.1`, to introduce a penalty against overconfident classification, which \n",
    "   corresponds to the *plateaux* of the sigmoid function, where the gradient is null, providing\n",
    "   no useful information for the generator's training.\n"
   ]
  },
  {
   "cell_type": "code",
   "execution_count": 10,
   "id": "ffcea06f-544e-4bde-82f1-d158d316284a",
   "metadata": {},
   "outputs": [],
   "source": [
    "compute_loss = tf.keras.losses.BinaryCrossentropy(from_logits=True, label_smoothing=0.1)\n",
    "g_optimizer = tf.keras.optimizers.Adam(1e-4)\n",
    "d_optimizer = tf.keras.optimizers.Adam(1e-4)\n",
    "r_optimizer = tf.keras.optimizers.Adam(5e-4)\n",
    "\n",
    "@tf.function\n",
    "def train_step(dataset):\n",
    "    # Unpack the dataset to retrieve input and output\n",
    "    X, y_ref = dataset\n",
    "    \n",
    "    # Compute the batch size\n",
    "    batch_size = tf.shape(X)[0]\n",
    "    \n",
    "    # Prepares the tensor of labels for the discriminator, based on the batch_size\n",
    "    label_true = tf.concat((tf.ones(batch_size), tf.zeros(batch_size)), axis=0)\n",
    "\n",
    "    # Generate the random noise. Once per batch.\n",
    "    r = tf.random.normal([batch_size, random.shape[1]], 0., 1.)\n",
    "    \n",
    "    # Begins the computation of the loss, tracking the gradient\n",
    "    with tf.GradientTape(watch_accessed_variables=False) as tape_generator:\n",
    "        with tf.GradientTape(watch_accessed_variables=False) as tape_discriminator:\n",
    "            # The gradient will be computed with respect to the variables defined here\n",
    "            tape_generator.watch(generator.weights)\n",
    "            tape_discriminator.watch(discriminator.weights)\n",
    "            \n",
    "            # Run the generator\n",
    "            y_gen = generator((X, r))\n",
    "\n",
    "            # Run the discriminator and obtain the logits\n",
    "            label_pred = discriminator((X, y_ref, y_gen))\n",
    "            \n",
    "            # Convert the logits into a loss function\n",
    "            d_loss = compute_loss(label_true, label_pred)\n",
    "            \n",
    "            # Invert the loss function of the discriminator to obtain the loss \n",
    "            # of the generator\n",
    "            g_loss = -d_loss\n",
    "            \n",
    "    # Begins the computation of the loss of the referee network\n",
    "    # Note that it is completely indepenent of the generator training\n",
    "    with tf.GradientTape() as tape_referee:\n",
    "        # Defines the variables\n",
    "        tape_referee.watch(referee.weights)\n",
    "        # Runs the referee discriminator\n",
    "        label_referee = referee((X, y_ref, y_gen))\n",
    "        # Compute the loss of the referee network\n",
    "        r_loss = compute_loss(label_true, label_referee)\n",
    "\n",
    "    # Compute the gradients of the loss of each NN wrt. to its weights\n",
    "    g_vars = generator.weights\n",
    "    d_vars = discriminator.weights\n",
    "    r_vars = referee.weights\n",
    "    \n",
    "    d_grads = tape_discriminator.gradient(d_loss, d_vars)\n",
    "    g_grads = tape_generator.gradient(g_loss, g_vars)\n",
    "    r_grads = tape_referee.gradient(r_loss, r_vars)\n",
    "    \n",
    "    ## Apply the gradients\n",
    "    g_optimizer.apply_gradients(zip(g_grads, g_vars))\n",
    "    d_optimizer.apply_gradients(zip(d_grads, d_vars))\n",
    "    r_optimizer.apply_gradients(zip(r_grads, r_vars))\n",
    "    \n",
    "    ## Return the value of the loss for monitoring purpose\n",
    "    return r_loss\n",
    "\n",
    "    \n",
    "\n",
    "@tf.function\n",
    "def test_step(dataset):\n",
    "    X, y_ref = dataset\n",
    "    batch_size = tf.shape(X)[0]\n",
    "    r = tf.random.normal([batch_size, random.shape[1]], 0., 1.)\n",
    "    \n",
    "    y_gen = generator((X, r))\n",
    "\n",
    "    label_pred = referee((X, y_ref, y_gen))\n",
    "    label_true = tf.concat((tf.ones(batch_size), tf.zeros(batch_size)), axis=0)\n",
    "\n",
    "    return compute_loss(label_true, label_pred)\n",
    "    "
   ]
  },
  {
   "cell_type": "markdown",
   "id": "02d598c1-add7-4d42-94b2-0f107ce694f8",
   "metadata": {
    "tags": []
   },
   "source": [
    "## Training\n",
    "\n",
    " * Batch size: 1k\n",
    " * Number of epochs: 1000"
   ]
  },
  {
   "cell_type": "code",
   "execution_count": 11,
   "id": "67c18301-3951-47d5-8810-3c6ef411a7a4",
   "metadata": {},
   "outputs": [
    {
     "name": "stderr",
     "output_type": "stream",
     "text": [
      "Training (validation) loss: 0.280 (0.298):   3%|▎         | 28/1000 [01:06<38:34,  2.38s/it] \n"
     ]
    },
    {
     "ename": "KeyboardInterrupt",
     "evalue": "",
     "output_type": "error",
     "traceback": [
      "\u001b[0;31m---------------------------------------------------------------------------\u001b[0m",
      "\u001b[0;31mKeyboardInterrupt\u001b[0m                         Traceback (most recent call last)",
      "Cell \u001b[0;32mIn[11], line 13\u001b[0m\n\u001b[1;32m     11\u001b[0m epoch_losses \u001b[38;5;241m=\u001b[39m []\n\u001b[1;32m     12\u001b[0m \u001b[38;5;28;01mfor\u001b[39;00m dset \u001b[38;5;129;01min\u001b[39;00m train_dataset\u001b[38;5;241m.\u001b[39mbatch(\u001b[38;5;241m1000\u001b[39m):\n\u001b[0;32m---> 13\u001b[0m     epoch_losses\u001b[38;5;241m.\u001b[39mappend(\u001b[43mtrain_step\u001b[49m\u001b[43m(\u001b[49m\u001b[43mdset\u001b[49m\u001b[43m)\u001b[49m)\n\u001b[1;32m     14\u001b[0m losses\u001b[38;5;241m.\u001b[39mappend(np\u001b[38;5;241m.\u001b[39mmean(epoch_losses))\n\u001b[1;32m     15\u001b[0m validation_loss\u001b[38;5;241m.\u001b[39mappend(test_step(vdst)\u001b[38;5;241m.\u001b[39mnumpy())\n",
      "File \u001b[0;32m/envs/root/lib/python3.9/site-packages/tensorflow/python/util/traceback_utils.py:150\u001b[0m, in \u001b[0;36mfilter_traceback.<locals>.error_handler\u001b[0;34m(*args, **kwargs)\u001b[0m\n\u001b[1;32m    148\u001b[0m filtered_tb \u001b[38;5;241m=\u001b[39m \u001b[38;5;28;01mNone\u001b[39;00m\n\u001b[1;32m    149\u001b[0m \u001b[38;5;28;01mtry\u001b[39;00m:\n\u001b[0;32m--> 150\u001b[0m   \u001b[38;5;28;01mreturn\u001b[39;00m \u001b[43mfn\u001b[49m\u001b[43m(\u001b[49m\u001b[38;5;241;43m*\u001b[39;49m\u001b[43margs\u001b[49m\u001b[43m,\u001b[49m\u001b[43m \u001b[49m\u001b[38;5;241;43m*\u001b[39;49m\u001b[38;5;241;43m*\u001b[39;49m\u001b[43mkwargs\u001b[49m\u001b[43m)\u001b[49m\n\u001b[1;32m    151\u001b[0m \u001b[38;5;28;01mexcept\u001b[39;00m \u001b[38;5;167;01mException\u001b[39;00m \u001b[38;5;28;01mas\u001b[39;00m e:\n\u001b[1;32m    152\u001b[0m   filtered_tb \u001b[38;5;241m=\u001b[39m _process_traceback_frames(e\u001b[38;5;241m.\u001b[39m__traceback__)\n",
      "File \u001b[0;32m/envs/root/lib/python3.9/site-packages/tensorflow/python/eager/def_function.py:915\u001b[0m, in \u001b[0;36mFunction.__call__\u001b[0;34m(self, *args, **kwds)\u001b[0m\n\u001b[1;32m    912\u001b[0m compiler \u001b[38;5;241m=\u001b[39m \u001b[38;5;124m\"\u001b[39m\u001b[38;5;124mxla\u001b[39m\u001b[38;5;124m\"\u001b[39m \u001b[38;5;28;01mif\u001b[39;00m \u001b[38;5;28mself\u001b[39m\u001b[38;5;241m.\u001b[39m_jit_compile \u001b[38;5;28;01melse\u001b[39;00m \u001b[38;5;124m\"\u001b[39m\u001b[38;5;124mnonXla\u001b[39m\u001b[38;5;124m\"\u001b[39m\n\u001b[1;32m    914\u001b[0m \u001b[38;5;28;01mwith\u001b[39;00m OptionalXlaContext(\u001b[38;5;28mself\u001b[39m\u001b[38;5;241m.\u001b[39m_jit_compile):\n\u001b[0;32m--> 915\u001b[0m   result \u001b[38;5;241m=\u001b[39m \u001b[38;5;28;43mself\u001b[39;49m\u001b[38;5;241;43m.\u001b[39;49m\u001b[43m_call\u001b[49m\u001b[43m(\u001b[49m\u001b[38;5;241;43m*\u001b[39;49m\u001b[43margs\u001b[49m\u001b[43m,\u001b[49m\u001b[43m \u001b[49m\u001b[38;5;241;43m*\u001b[39;49m\u001b[38;5;241;43m*\u001b[39;49m\u001b[43mkwds\u001b[49m\u001b[43m)\u001b[49m\n\u001b[1;32m    917\u001b[0m new_tracing_count \u001b[38;5;241m=\u001b[39m \u001b[38;5;28mself\u001b[39m\u001b[38;5;241m.\u001b[39mexperimental_get_tracing_count()\n\u001b[1;32m    918\u001b[0m without_tracing \u001b[38;5;241m=\u001b[39m (tracing_count \u001b[38;5;241m==\u001b[39m new_tracing_count)\n",
      "File \u001b[0;32m/envs/root/lib/python3.9/site-packages/tensorflow/python/eager/def_function.py:947\u001b[0m, in \u001b[0;36mFunction._call\u001b[0;34m(self, *args, **kwds)\u001b[0m\n\u001b[1;32m    944\u001b[0m   \u001b[38;5;28mself\u001b[39m\u001b[38;5;241m.\u001b[39m_lock\u001b[38;5;241m.\u001b[39mrelease()\n\u001b[1;32m    945\u001b[0m   \u001b[38;5;66;03m# In this case we have created variables on the first call, so we run the\u001b[39;00m\n\u001b[1;32m    946\u001b[0m   \u001b[38;5;66;03m# defunned version which is guaranteed to never create variables.\u001b[39;00m\n\u001b[0;32m--> 947\u001b[0m   \u001b[38;5;28;01mreturn\u001b[39;00m \u001b[38;5;28;43mself\u001b[39;49m\u001b[38;5;241;43m.\u001b[39;49m\u001b[43m_stateless_fn\u001b[49m\u001b[43m(\u001b[49m\u001b[38;5;241;43m*\u001b[39;49m\u001b[43margs\u001b[49m\u001b[43m,\u001b[49m\u001b[43m \u001b[49m\u001b[38;5;241;43m*\u001b[39;49m\u001b[38;5;241;43m*\u001b[39;49m\u001b[43mkwds\u001b[49m\u001b[43m)\u001b[49m  \u001b[38;5;66;03m# pylint: disable=not-callable\u001b[39;00m\n\u001b[1;32m    948\u001b[0m \u001b[38;5;28;01melif\u001b[39;00m \u001b[38;5;28mself\u001b[39m\u001b[38;5;241m.\u001b[39m_stateful_fn \u001b[38;5;129;01mis\u001b[39;00m \u001b[38;5;129;01mnot\u001b[39;00m \u001b[38;5;28;01mNone\u001b[39;00m:\n\u001b[1;32m    949\u001b[0m   \u001b[38;5;66;03m# Release the lock early so that multiple threads can perform the call\u001b[39;00m\n\u001b[1;32m    950\u001b[0m   \u001b[38;5;66;03m# in parallel.\u001b[39;00m\n\u001b[1;32m    951\u001b[0m   \u001b[38;5;28mself\u001b[39m\u001b[38;5;241m.\u001b[39m_lock\u001b[38;5;241m.\u001b[39mrelease()\n",
      "File \u001b[0;32m/envs/root/lib/python3.9/site-packages/tensorflow/python/eager/function.py:2453\u001b[0m, in \u001b[0;36mFunction.__call__\u001b[0;34m(self, *args, **kwargs)\u001b[0m\n\u001b[1;32m   2450\u001b[0m \u001b[38;5;28;01mwith\u001b[39;00m \u001b[38;5;28mself\u001b[39m\u001b[38;5;241m.\u001b[39m_lock:\n\u001b[1;32m   2451\u001b[0m   (graph_function,\n\u001b[1;32m   2452\u001b[0m    filtered_flat_args) \u001b[38;5;241m=\u001b[39m \u001b[38;5;28mself\u001b[39m\u001b[38;5;241m.\u001b[39m_maybe_define_function(args, kwargs)\n\u001b[0;32m-> 2453\u001b[0m \u001b[38;5;28;01mreturn\u001b[39;00m \u001b[43mgraph_function\u001b[49m\u001b[38;5;241;43m.\u001b[39;49m\u001b[43m_call_flat\u001b[49m\u001b[43m(\u001b[49m\n\u001b[1;32m   2454\u001b[0m \u001b[43m    \u001b[49m\u001b[43mfiltered_flat_args\u001b[49m\u001b[43m,\u001b[49m\u001b[43m \u001b[49m\u001b[43mcaptured_inputs\u001b[49m\u001b[38;5;241;43m=\u001b[39;49m\u001b[43mgraph_function\u001b[49m\u001b[38;5;241;43m.\u001b[39;49m\u001b[43mcaptured_inputs\u001b[49m\u001b[43m)\u001b[49m\n",
      "File \u001b[0;32m/envs/root/lib/python3.9/site-packages/tensorflow/python/eager/function.py:1860\u001b[0m, in \u001b[0;36mConcreteFunction._call_flat\u001b[0;34m(self, args, captured_inputs, cancellation_manager)\u001b[0m\n\u001b[1;32m   1856\u001b[0m possible_gradient_type \u001b[38;5;241m=\u001b[39m gradients_util\u001b[38;5;241m.\u001b[39mPossibleTapeGradientTypes(args)\n\u001b[1;32m   1857\u001b[0m \u001b[38;5;28;01mif\u001b[39;00m (possible_gradient_type \u001b[38;5;241m==\u001b[39m gradients_util\u001b[38;5;241m.\u001b[39mPOSSIBLE_GRADIENT_TYPES_NONE\n\u001b[1;32m   1858\u001b[0m     \u001b[38;5;129;01mand\u001b[39;00m executing_eagerly):\n\u001b[1;32m   1859\u001b[0m   \u001b[38;5;66;03m# No tape is watching; skip to running the function.\u001b[39;00m\n\u001b[0;32m-> 1860\u001b[0m   \u001b[38;5;28;01mreturn\u001b[39;00m \u001b[38;5;28mself\u001b[39m\u001b[38;5;241m.\u001b[39m_build_call_outputs(\u001b[38;5;28;43mself\u001b[39;49m\u001b[38;5;241;43m.\u001b[39;49m\u001b[43m_inference_function\u001b[49m\u001b[38;5;241;43m.\u001b[39;49m\u001b[43mcall\u001b[49m\u001b[43m(\u001b[49m\n\u001b[1;32m   1861\u001b[0m \u001b[43m      \u001b[49m\u001b[43mctx\u001b[49m\u001b[43m,\u001b[49m\u001b[43m \u001b[49m\u001b[43margs\u001b[49m\u001b[43m,\u001b[49m\u001b[43m \u001b[49m\u001b[43mcancellation_manager\u001b[49m\u001b[38;5;241;43m=\u001b[39;49m\u001b[43mcancellation_manager\u001b[49m\u001b[43m)\u001b[49m)\n\u001b[1;32m   1862\u001b[0m forward_backward \u001b[38;5;241m=\u001b[39m \u001b[38;5;28mself\u001b[39m\u001b[38;5;241m.\u001b[39m_select_forward_and_backward_functions(\n\u001b[1;32m   1863\u001b[0m     args,\n\u001b[1;32m   1864\u001b[0m     possible_gradient_type,\n\u001b[1;32m   1865\u001b[0m     executing_eagerly)\n\u001b[1;32m   1866\u001b[0m forward_function, args_with_tangents \u001b[38;5;241m=\u001b[39m forward_backward\u001b[38;5;241m.\u001b[39mforward()\n",
      "File \u001b[0;32m/envs/root/lib/python3.9/site-packages/tensorflow/python/eager/function.py:497\u001b[0m, in \u001b[0;36m_EagerDefinedFunction.call\u001b[0;34m(self, ctx, args, cancellation_manager)\u001b[0m\n\u001b[1;32m    495\u001b[0m \u001b[38;5;28;01mwith\u001b[39;00m _InterpolateFunctionError(\u001b[38;5;28mself\u001b[39m):\n\u001b[1;32m    496\u001b[0m   \u001b[38;5;28;01mif\u001b[39;00m cancellation_manager \u001b[38;5;129;01mis\u001b[39;00m \u001b[38;5;28;01mNone\u001b[39;00m:\n\u001b[0;32m--> 497\u001b[0m     outputs \u001b[38;5;241m=\u001b[39m \u001b[43mexecute\u001b[49m\u001b[38;5;241;43m.\u001b[39;49m\u001b[43mexecute\u001b[49m\u001b[43m(\u001b[49m\n\u001b[1;32m    498\u001b[0m \u001b[43m        \u001b[49m\u001b[38;5;28;43mstr\u001b[39;49m\u001b[43m(\u001b[49m\u001b[38;5;28;43mself\u001b[39;49m\u001b[38;5;241;43m.\u001b[39;49m\u001b[43msignature\u001b[49m\u001b[38;5;241;43m.\u001b[39;49m\u001b[43mname\u001b[49m\u001b[43m)\u001b[49m\u001b[43m,\u001b[49m\n\u001b[1;32m    499\u001b[0m \u001b[43m        \u001b[49m\u001b[43mnum_outputs\u001b[49m\u001b[38;5;241;43m=\u001b[39;49m\u001b[38;5;28;43mself\u001b[39;49m\u001b[38;5;241;43m.\u001b[39;49m\u001b[43m_num_outputs\u001b[49m\u001b[43m,\u001b[49m\n\u001b[1;32m    500\u001b[0m \u001b[43m        \u001b[49m\u001b[43minputs\u001b[49m\u001b[38;5;241;43m=\u001b[39;49m\u001b[43margs\u001b[49m\u001b[43m,\u001b[49m\n\u001b[1;32m    501\u001b[0m \u001b[43m        \u001b[49m\u001b[43mattrs\u001b[49m\u001b[38;5;241;43m=\u001b[39;49m\u001b[43mattrs\u001b[49m\u001b[43m,\u001b[49m\n\u001b[1;32m    502\u001b[0m \u001b[43m        \u001b[49m\u001b[43mctx\u001b[49m\u001b[38;5;241;43m=\u001b[39;49m\u001b[43mctx\u001b[49m\u001b[43m)\u001b[49m\n\u001b[1;32m    503\u001b[0m   \u001b[38;5;28;01melse\u001b[39;00m:\n\u001b[1;32m    504\u001b[0m     outputs \u001b[38;5;241m=\u001b[39m execute\u001b[38;5;241m.\u001b[39mexecute_with_cancellation(\n\u001b[1;32m    505\u001b[0m         \u001b[38;5;28mstr\u001b[39m(\u001b[38;5;28mself\u001b[39m\u001b[38;5;241m.\u001b[39msignature\u001b[38;5;241m.\u001b[39mname),\n\u001b[1;32m    506\u001b[0m         num_outputs\u001b[38;5;241m=\u001b[39m\u001b[38;5;28mself\u001b[39m\u001b[38;5;241m.\u001b[39m_num_outputs,\n\u001b[0;32m   (...)\u001b[0m\n\u001b[1;32m    509\u001b[0m         ctx\u001b[38;5;241m=\u001b[39mctx,\n\u001b[1;32m    510\u001b[0m         cancellation_manager\u001b[38;5;241m=\u001b[39mcancellation_manager)\n",
      "File \u001b[0;32m/envs/root/lib/python3.9/site-packages/tensorflow/python/eager/execute.py:54\u001b[0m, in \u001b[0;36mquick_execute\u001b[0;34m(op_name, num_outputs, inputs, attrs, ctx, name)\u001b[0m\n\u001b[1;32m     52\u001b[0m \u001b[38;5;28;01mtry\u001b[39;00m:\n\u001b[1;32m     53\u001b[0m   ctx\u001b[38;5;241m.\u001b[39mensure_initialized()\n\u001b[0;32m---> 54\u001b[0m   tensors \u001b[38;5;241m=\u001b[39m \u001b[43mpywrap_tfe\u001b[49m\u001b[38;5;241;43m.\u001b[39;49m\u001b[43mTFE_Py_Execute\u001b[49m\u001b[43m(\u001b[49m\u001b[43mctx\u001b[49m\u001b[38;5;241;43m.\u001b[39;49m\u001b[43m_handle\u001b[49m\u001b[43m,\u001b[49m\u001b[43m \u001b[49m\u001b[43mdevice_name\u001b[49m\u001b[43m,\u001b[49m\u001b[43m \u001b[49m\u001b[43mop_name\u001b[49m\u001b[43m,\u001b[49m\n\u001b[1;32m     55\u001b[0m \u001b[43m                                      \u001b[49m\u001b[43minputs\u001b[49m\u001b[43m,\u001b[49m\u001b[43m \u001b[49m\u001b[43mattrs\u001b[49m\u001b[43m,\u001b[49m\u001b[43m \u001b[49m\u001b[43mnum_outputs\u001b[49m\u001b[43m)\u001b[49m\n\u001b[1;32m     56\u001b[0m \u001b[38;5;28;01mexcept\u001b[39;00m core\u001b[38;5;241m.\u001b[39m_NotOkStatusException \u001b[38;5;28;01mas\u001b[39;00m e:\n\u001b[1;32m     57\u001b[0m   \u001b[38;5;28;01mif\u001b[39;00m name \u001b[38;5;129;01mis\u001b[39;00m \u001b[38;5;129;01mnot\u001b[39;00m \u001b[38;5;28;01mNone\u001b[39;00m:\n",
      "\u001b[0;31mKeyboardInterrupt\u001b[0m: "
     ]
    }
   ],
   "source": [
    "from tqdm import trange, tqdm\n",
    "\n",
    "losses = []\n",
    "validation_loss = []\n",
    "\n",
    "vdst = next(iter(validation_dataset.batch(100_000)))\n",
    "\n",
    "progress_bar = trange(1000)\n",
    "\n",
    "for epoch in progress_bar:\n",
    "    epoch_losses = []\n",
    "    for dset in train_dataset.batch(1000):\n",
    "        epoch_losses.append(train_step(dset))\n",
    "    losses.append(np.mean(epoch_losses))\n",
    "    validation_loss.append(test_step(vdst).numpy())\n",
    "    \n",
    "    progress_bar.set_description(f\"Training (validation) loss: {losses[-1]:.3f} ({validation_loss[-1]:.3f})\")"
   ]
  },
  {
   "cell_type": "markdown",
   "id": "4c474e7b-ee4c-4200-9796-1ec9158c48ca",
   "metadata": {},
   "source": [
    "The evolution of the loss function as evaluated by the referee network is reported below.\n",
    "A dashed line represent the ideal value of the BCE when evaluated on two identical datasets with an ideal classifier."
   ]
  },
  {
   "cell_type": "code",
   "execution_count": 13,
   "id": "f21e7869-88bb-4579-8474-c6e5e70c9ec8",
   "metadata": {},
   "outputs": [
    {
     "data": {
      "image/png": "[encoded data removed]",
      "text/plain": [
       "<Figure size 640x480 with 1 Axes>"
      ]
     },
     "metadata": {},
     "output_type": "display_data"
    }
   ],
   "source": [
    "history = {\n",
    "    \"loss\":losses,\n",
    "    \"val_loss\":validation_loss\n",
    "}\n",
    "\n",
    "import matplotlib.pyplot as plt\n",
    "plt.plot(losses, label=\"Training data\")\n",
    "plt.plot(validation_loss, label=\"Validation data\")\n",
    "plt.plot([0, len(losses)], [np.log(2)]*2, 'k--')\n",
    "\n",
    "plt.xlabel(\"Epoch\")\n",
    "\n",
    "\n",
    "plt.ylabel(\"Binary crossentropy\")\n",
    "plt.legend()\n",
    "plt.show()"
   ]
  },
  {
   "cell_type": "markdown",
   "id": "2ee9e6f7-7be3-4ab3-8478-aa1a6000ac65",
   "metadata": {
    "tags": []
   },
   "source": [
    "## Exporting the model\n",
    "The model is exported to the same directory were the preprocessing steps `tX` and `tY` were stored."
   ]
  },
  {
   "cell_type": "code",
   "execution_count": 19,
   "id": "ef92cb47-5f65-4a7a-a6d0-cc47f8b1bd78",
   "metadata": {},
   "outputs": [
    {
     "name": "stdout",
     "output_type": "stream",
     "text": [
      "WARNING:tensorflow:Compiled the loaded model, but the compiled metrics have yet to be built. `model.compile_metrics` will be empty until you train or evaluate the model.\n",
      "INFO:tensorflow:Assets written to: /mlinfn/shared/lamarr/scapelli/trained_models/j100/models/resolution/assets\n"
     ]
    }
   ],
   "source": [
    "from models_utils import GetModelProperties,MakeMD\n",
    "from json import dump\n",
    "\n",
    "base_dir = path.dirname(environ['OUTPUT_MODEL'])\n",
    "makedirs(base_dir,exist_ok=True)\n",
    "generator.save(base_dir)\n",
    "\n",
    "# save model and training information\n",
    "jsonfile = \"model_info.json\"\n",
    "info_path = path.join(base_dir, jsonfile)\n",
    "props = GetModelProperties(generator,history=str(history),optimizer=g_optimizer)\n",
    "\n",
    "with open(info_path,'w') as json_file:\n",
    "    dump(props,json_file)\n",
    "\n",
    "# write model description in MD file\n",
    "MakeMD(props,mdfile=path.join(base_dir, \"model_info.md\"))"
   ]
  },
  {
   "cell_type": "markdown",
   "id": "f28318b8-239d-4e00-8a95-b839fcb58b99",
   "metadata": {},
   "source": [
    "## Conclusion\n",
    "In this notebook we discussed the training procedure of the GAN model used to parametrize the resolution.\n",
    "\n",
    "In particular, we discussed\n",
    " * the overall structure of the DNN system;\n",
    " * the architecture of the generator, discriminator and of a referee network we introduced to ease monitoring, debugging an hyperparameter optimization\n",
    " * the procedure for optimizing the weights of the three networks based on three different computations of the gradients\n",
    " * the outcome of the training procedure as visualized by the evolution of the loss of the referee network\n",
    "\n",
    "Finally, we exported the model for deployment and further validation.\n"
   ]
  },
  {
   "cell_type": "code",
   "execution_count": null,
   "id": "a5a277c8-a92e-4c36-a8d0-975a17481903",
   "metadata": {},
   "outputs": [],
   "source": [
    "### export notebooks for comparisons\n",
    "if environ.get('NB_EXPORT',\"False\")==\"True\":\n",
    "    from os import system,makedirs\n",
    "    \n",
    "    nb_save  = f\"{environ['HOME_DIR']}/notebooks_exports\"  # export output dir\n",
    "    nb_save  = nb_save+environ['TRAINING_DATA_FOLDER']     # according to train data\n",
    "    if environ['MODEL_VARIANT'] != '':\n",
    "        nb_save  = nb_save+'/'+environ['MODEL_VARIANT']    # according to model variant\n",
    "    makedirs(nb_save,exist_ok=True)                       \n",
    "    \n",
    "    nbs_path = f\"{environ['HOME_DIR']}/lb-trksim-train/notebooks\" # notebooks folder\n",
    "    nb_filename = \"Resolution.ipynb\"                              # notebook name\n",
    "    extensions  = [\"html\"]                                  # export formats\n",
    "    for ext in extensions:\n",
    "        system(\"jupyter nbconvert --log-level=40 --no-input --output-dir {0} --to {1} {2}/{3}\".format(nb_save,ext.upper(),nbs_path,nb_filename))\n",
    "    print(\"Exported {} as {} in {}\".format(nb_filename,','.join(extensions),nb_save))"
   ]
  }
 ],
 "metadata": {
  "kernelspec": {
   "display_name": "HEP",
   "language": "python",
   "name": "hep"
  },
  "language_info": {
   "codemirror_mode": {
    "name": "ipython",
    "version": 3
   },
   "file_extension": ".py",
   "mimetype": "text/x-python",
   "name": "python",
   "nbconvert_exporter": "python",
   "pygments_lexer": "ipython3",
   "version": "3.9.15"
  }
 },
 "nbformat": 4,
 "nbformat_minor": 5
}
