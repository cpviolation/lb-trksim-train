{
 "cells": [
  {
   "cell_type": "code",
   "execution_count": 5,
   "id": "cf7b018b-09b6-4942-b8cc-138b2ca1f8c2",
   "metadata": {},
   "outputs": [],
   "source": [
    "### Defining Environment variables pointing to user folders\n",
    "from os import environ, path, makedirs\n",
    "from json import load\n",
    "\n",
    "environ.setdefault('HOME_DIR', \"/workarea/local/shared/\"+ environ['USERNAME'])\n",
    "environ.setdefault('TRAINING_DATA_FOLDER',\"/j100\")\n",
    "environ.setdefault('MODEL_STORAGE'  ,environ['HOME_DIR']+\"/trained_models\"+environ['TRAINING_DATA_FOLDER'])\n",
    "environ.setdefault('FEATHER_FOLDER' ,environ['HOME_DIR']+\"/lb-trksim-train/notebooks/feather_folder\"+environ['TRAINING_DATA_FOLDER'])\n",
    "environ.setdefault(\"TRAIN_DATA\"     , environ['FEATHER_FOLDER']+\"/efficiency-train\")\n",
    "environ.setdefault(\"VALIDATION_DATA\", environ['FEATHER_FOLDER']+\"/efficiency-validation\")\n",
    "\n",
    "environ.setdefault(\"MODEL_VARIANT\",\"\")\n",
    "default_output_model = \"/models/efficiency/saved_model.pb\"\n",
    "if environ['MODEL_VARIANT'] != '':\n",
    "    model_path,model_name = path.split(default_output_model)\n",
    "    default_output_model = path.join(model_path,environ['MODEL_VARIANT'], model_name)\n",
    "environ.setdefault('OUTPUT_MODEL',environ['MODEL_STORAGE']+default_output_model)\n",
    "\n",
    "with open(\"Models_definitions.json\") as mdl_file: # definition of variant models\n",
    "    models_def = load(mdl_file)\n",
    "    environ.setdefault('MODEL_DEFINITION',models_def['efficiency'].get(environ['MODEL_VARIANT'],\"EfficiencyNN(layers=5,X_shape=X.shape,y_shape=y.shape)\"))\n",
    "\n",
    "_ = environ.setdefault('NB_EXPORT',\"True\") # whether export notebooks"
   ]
  },
  {
   "cell_type": "code",
   "execution_count": 7,
   "id": "3df3add9-d259-4b0a-81e2-ef7bcca4e025",
   "metadata": {},
   "outputs": [],
   "source": [
    "%run construct_models.py # script containing models definitions"
   ]
  },
  {
   "cell_type": "markdown",
   "id": "b64c732a-a7a3-43c0-93a7-aaa47aeb30b7",
   "metadata": {},
   "source": [
    "# Training of the efficiency model\n",
    "##### Notebook tested within the environment `TensorFlow on GPU` available in the docker image [`landerlini/lhcbaf:v0p8`](https://hub.docker.com/r/landerlini/lhcbaf)\n",
    "\n",
    "This notebook is part of a pipeline, in particular it requires the data preprocessed as defined in the notebook [Preprocessing.ipynb](./Preprocessing.ipynb) and the validation of the trained model is demanded to the notebook [Efficiency-validation.ipynb](./Efficiency-validation.ipynb).\n",
    "\n",
    "Here, we define the training procedure for the Deep Neural Network model defining the class each track is reconstructed as.\n",
    "As evident from the preprocessing step, we restrain the classes to:\n",
    " * long tracks (traversing the whole detector)\n",
    " * upstream tracks (traversing the VELO and the Tracker Turincensis)\n",
    " * downstream tracks (traversing the Tracker Turicensis and the downstream tracker, TT).\n",
    " \n",
    "We include as a class the \"unreconstructed\" category which includes both the non-reconstructed particles and those reconstructed as other classes.\n",
    " \n",
    "The neural network we will train is designed to predict the probability each track is reconstructed as a given track.\n",
    "In the deployment of the model we will assign the particle to a single class, by drawing one of the classes above based on the probabilities obtained from the network.\n",
    "\n",
    "The classes are mutually exclusive, each particle can be assigned to at most one of the reconstruction classes.\n",
    "Hence, we describe the problem as a multiclass classification with a multinomial probability function and a Categorical Cross-entropy as loss function."
   ]
  },
  {
   "cell_type": "markdown",
   "id": "f23ea746-94f5-47ce-9260-38dc6cf4d132",
   "metadata": {},
   "source": [
    "## Libraries and environment setup\n",
    "\n",
    "As for the [training of the acceptance model](./Acceptance.ipynb), we are using here the standard software stack for TensorFlow on GPU."
   ]
  },
  {
   "cell_type": "code",
   "execution_count": 8,
   "id": "8193534e-829a-4c24-b72f-8129cd6f98e2",
   "metadata": {},
   "outputs": [],
   "source": [
    "import numpy as np\n",
    "import matplotlib.pyplot as plt\n",
    "import pandas as pd\n",
    "\n",
    "import os\n",
    "from os import environ\n",
    "\n",
    "## Remove annoying warnings \n",
    "environ['TF_CPP_MIN_LOG_LEVEL'] = '3' \n",
    "import tensorflow as tf"
   ]
  },
  {
   "cell_type": "markdown",
   "id": "efc52c47-922b-49b7-bbc9-050f454048ce",
   "metadata": {},
   "source": [
    "We ensure the GPU is properly loaded and assigned to TensorFlow as hardware accelerator for the training.\n",
    "\n",
    "If the GPU is loaded properly, the following code block should result in a string similar to `'/devince:GPU:0'`."
   ]
  },
  {
   "cell_type": "code",
   "execution_count": 9,
   "id": "1f29d256",
   "metadata": {
    "collapsed": false,
    "jupyter": {
     "outputs_hidden": false
    },
    "pycharm": {
     "name": "#%%\n"
    }
   },
   "outputs": [
    {
     "name": "stderr",
     "output_type": "stream",
     "text": [
      "2023-05-15 13:51:28.451306: I tensorflow/core/platform/cpu_feature_guard.cc:193] This TensorFlow binary is optimized with oneAPI Deep Neural Network Library (oneDNN) to use the following CPU instructions in performance-critical operations:  SSE4.1 SSE4.2 AVX AVX2 AVX512F AVX512_VNNI FMA\n",
      "To enable them in other operations, rebuild TensorFlow with the appropriate compiler flags.\n"
     ]
    },
    {
     "data": {
      "text/plain": [
       "''"
      ]
     },
     "execution_count": 9,
     "metadata": {},
     "output_type": "execute_result"
    }
   ],
   "source": [
    "tf.test.gpu_device_name()"
   ]
  },
  {
   "cell_type": "markdown",
   "id": "51dc0195-ba7e-4bbf-a1ab-4884711484e8",
   "metadata": {},
   "source": [
    "## Loading data \n",
    "\n",
    "We are reading the data using our custom implementation of `FeatherReader` streaming the data directly to TensorFlow.\n",
    "In particular, we are loading:\n",
    " * the training dataset to optimize the weights;\n",
    " * the validation dataset to evaluate possible overtraining and select model and tune the regularization hyper-parameters and techniques."
   ]
  },
  {
   "cell_type": "code",
   "execution_count": 10,
   "id": "5e7c6bff-691b-4bba-b5f8-df053b1d9f69",
   "metadata": {},
   "outputs": [
    {
     "name": "stderr",
     "output_type": "stream",
     "text": [
      "/usr/local/miniconda3/lib/python3.9/site-packages/tqdm/auto.py:22: TqdmWarning: IProgress not found. Please update jupyter and ipywidgets. See https://ipywidgets.readthedocs.io/en/stable/user_install.html\n",
      "  from .autonotebook import tqdm as notebook_tqdm\n"
     ]
    }
   ],
   "source": [
    "from feather_io import FeatherReader    \n",
    "data_reader_train =  FeatherReader(environ.get(\"TRAIN_DATA\", \"efficiency-train\"))\n",
    "train_dataset = data_reader_train.as_tf_dataset()\n",
    "data_reader_validation =  FeatherReader(environ.get(\"VALIDATION_DATA\", \"efficiency-validation\"))\n",
    "validation_dataset = data_reader_validation.as_tf_dataset()"
   ]
  },
  {
   "cell_type": "markdown",
   "id": "b98b3d93-fee2-4c96-ba34-8f1601d4af47",
   "metadata": {},
   "source": [
    "We also load to RAM a small chunk of data to ease the model building."
   ]
  },
  {
   "cell_type": "code",
   "execution_count": 11,
   "id": "e1786ea4-e8ef-4f26-9e83-11b9afd9db1e",
   "metadata": {},
   "outputs": [
    {
     "data": {
      "text/plain": [
       "TensorShape([1000000, 4])"
      ]
     },
     "execution_count": 11,
     "metadata": {},
     "output_type": "execute_result"
    }
   ],
   "source": [
    "X, y = next(iter(train_dataset.batch(1_000_000)))\n",
    "y.shape"
   ]
  },
  {
   "cell_type": "markdown",
   "id": "97649c7e-4e22-42d2-aea6-92c8d2a74509",
   "metadata": {},
   "source": [
    "## Model definition\n",
    "\n",
    "We define the neural network as a deep network with skip connections to limit the gradient vanishing problem.\n",
    "\n",
    "Note that the activation of the last layer is a [softmax](https://keras.io/api/layers/activations/#softmax-function) as expected by the [Categorical Cross-entropy loss function](https://keras.io/api/losses/probabilistic_losses/#categoricalcrossentropy-class).\n",
    "\n",
    "Unfortunately, the `scikinC` package that we are relying on to deploy these models in Lamarr does not support the `softmax` activation function is indicated as a string, but needs it defined as an independent layer."
   ]
  },
  {
   "cell_type": "code",
   "execution_count": 14,
   "id": "2e121387-f00f-4a10-9f3d-655e7f9df517",
   "metadata": {},
   "outputs": [
    {
     "name": "stdout",
     "output_type": "stream",
     "text": [
      "Model: \"model\"\n",
      "__________________________________________________________________________________________________\n",
      " Layer (type)                   Output Shape         Param #     Connected to                     \n",
      "==================================================================================================\n",
      " input_1 (InputLayer)           [(None, 12)]         0           []                               \n",
      "                                                                                                  \n",
      " dense (Dense)                  (None, 128)          1664        ['input_1[0][0]']                \n",
      "                                                                                                  \n",
      " dense_1 (Dense)                (None, 128)          16512       ['dense[0][0]']                  \n",
      "                                                                                                  \n",
      " add (Add)                      (None, 128)          0           ['dense[0][0]',                  \n",
      "                                                                  'dense_1[0][0]']                \n",
      "                                                                                                  \n",
      " dense_2 (Dense)                (None, 128)          16512       ['add[0][0]']                    \n",
      "                                                                                                  \n",
      " add_1 (Add)                    (None, 128)          0           ['add[0][0]',                    \n",
      "                                                                  'dense_2[0][0]']                \n",
      "                                                                                                  \n",
      " dense_3 (Dense)                (None, 128)          16512       ['add_1[0][0]']                  \n",
      "                                                                                                  \n",
      " add_2 (Add)                    (None, 128)          0           ['add_1[0][0]',                  \n",
      "                                                                  'dense_3[0][0]']                \n",
      "                                                                                                  \n",
      " dense_4 (Dense)                (None, 128)          16512       ['add_2[0][0]']                  \n",
      "                                                                                                  \n",
      " add_3 (Add)                    (None, 128)          0           ['add_2[0][0]',                  \n",
      "                                                                  'dense_4[0][0]']                \n",
      "                                                                                                  \n",
      " dense_5 (Dense)                (None, 128)          16512       ['add_3[0][0]']                  \n",
      "                                                                                                  \n",
      " add_4 (Add)                    (None, 128)          0           ['add_3[0][0]',                  \n",
      "                                                                  'dense_5[0][0]']                \n",
      "                                                                                                  \n",
      " dense_6 (Dense)                (None, 4)            516         ['add_4[0][0]']                  \n",
      "                                                                                                  \n",
      " softmax (Softmax)              (None, 4)            0           ['dense_6[0][0]']                \n",
      "                                                                                                  \n",
      "==================================================================================================\n",
      "Total params: 84,740\n",
      "Trainable params: 84,740\n",
      "Non-trainable params: 0\n",
      "__________________________________________________________________________________________________\n"
     ]
    }
   ],
   "source": [
    "model = eval(environ[\"MODEL_DEFINITION\"])\n",
    "model.summary()"
   ]
  },
  {
   "cell_type": "markdown",
   "id": "b0e9ce14-1bd8-49fa-834d-8bacf439ce8e",
   "metadata": {},
   "source": [
    "The configuration of the training is standard for the multiclass classification task.\n",
    "\n",
    " * [`CategoricalCrossentropy`](https://keras.io/api/losses/probabilistic_losses/#categoricalcrossentropy-class) loss function\n",
    " * [`RMSprop`](https://keras.io/api/optimizers/rmsprop/) optimizer"
   ]
  },
  {
   "cell_type": "code",
   "execution_count": 8,
   "id": "ca8c457b-076b-4340-996f-695ae7598c3c",
   "metadata": {},
   "outputs": [],
   "source": [
    "from tensorflow.keras.losses import CategoricalCrossentropy\n",
    "from tensorflow.keras.optimizers import RMSprop\n",
    "from tensorflow.keras.metrics import RootMeanSquaredError"
   ]
  },
  {
   "cell_type": "markdown",
   "id": "880946c9-8e5d-48eb-9fe8-a89a267bb231",
   "metadata": {},
   "source": [
    "Once again we split the training procedure in two steps, we train with a very high learning rate as long as it brings to some improvement in the value of the loss function. Then we drastically reduce it to a much smaller value.\n",
    "\n",
    "Note that to limit the local minima in the loss function and ease convergence towards the global minimum at such a high learning rate, we apply a small [smoothing of the labels](https://towardsdatascience.com/what-is-label-smoothing-108debd7ef06). \n",
    "This results into a non-probabilistic meaning of the generated output, which is unaccepable to our purpose.\n",
    "Hence, we reset the label smoothing to zero for the second (and last) part of the training with a reduced learning rate.\n",
    "\n"
   ]
  },
  {
   "cell_type": "code",
   "execution_count": 9,
   "id": "134972ba-596f-45fc-a754-22ab990fcf10",
   "metadata": {},
   "outputs": [
    {
     "name": "stdout",
     "output_type": "stream",
     "text": [
      "Epoch 1/50\n",
      "501/501 [==============================] - 143s 283ms/step - loss: 0.7905 - mean_squared_error: 0.0435 - val_loss: 0.4003 - val_mean_squared_error: 0.0259\n",
      "Epoch 2/50\n",
      "501/501 [==============================] - 140s 278ms/step - loss: 0.4516 - mean_squared_error: 0.0355 - val_loss: 0.7990 - val_mean_squared_error: 0.0542\n",
      "Epoch 3/50\n",
      "501/501 [==============================] - 141s 280ms/step - loss: 0.4090 - mean_squared_error: 0.0329 - val_loss: 0.5637 - val_mean_squared_error: 0.0509\n",
      "Epoch 4/50\n",
      "501/501 [==============================] - 140s 279ms/step - loss: 0.4172 - mean_squared_error: 0.0335 - val_loss: 0.3169 - val_mean_squared_error: 0.0267\n",
      "Epoch 5/50\n",
      "501/501 [==============================] - 139s 277ms/step - loss: 0.4277 - mean_squared_error: 0.0324 - val_loss: 0.2731 - val_mean_squared_error: 0.0249\n",
      "Epoch 6/50\n",
      "501/501 [==============================] - 140s 278ms/step - loss: 0.3918 - mean_squared_error: 0.0313 - val_loss: 0.3348 - val_mean_squared_error: 0.0259\n",
      "Epoch 7/50\n",
      "501/501 [==============================] - 140s 279ms/step - loss: 0.3924 - mean_squared_error: 0.0314 - val_loss: 0.2969 - val_mean_squared_error: 0.0276\n",
      "Epoch 8/50\n",
      "501/501 [==============================] - 142s 282ms/step - loss: 0.3549 - mean_squared_error: 0.0301 - val_loss: 0.2713 - val_mean_squared_error: 0.0243\n",
      "Epoch 9/50\n",
      "501/501 [==============================] - 140s 279ms/step - loss: 0.3647 - mean_squared_error: 0.0307 - val_loss: 0.4414 - val_mean_squared_error: 0.0280\n",
      "Epoch 10/50\n",
      "501/501 [==============================] - 142s 282ms/step - loss: 0.3737 - mean_squared_error: 0.0309 - val_loss: 0.2662 - val_mean_squared_error: 0.0247\n",
      "Epoch 11/50\n",
      "501/501 [==============================] - 142s 282ms/step - loss: 0.3589 - mean_squared_error: 0.0300 - val_loss: 0.2854 - val_mean_squared_error: 0.0262\n",
      "Epoch 12/50\n",
      "501/501 [==============================] - 142s 281ms/step - loss: 0.3740 - mean_squared_error: 0.0308 - val_loss: 0.2598 - val_mean_squared_error: 0.0246\n",
      "Epoch 13/50\n",
      "501/501 [==============================] - 140s 278ms/step - loss: 0.3616 - mean_squared_error: 0.0304 - val_loss: 0.2711 - val_mean_squared_error: 0.0245\n",
      "Epoch 14/50\n",
      "501/501 [==============================] - 140s 279ms/step - loss: 0.3824 - mean_squared_error: 0.0317 - val_loss: 0.2691 - val_mean_squared_error: 0.0264\n",
      "Epoch 15/50\n",
      "501/501 [==============================] - 140s 278ms/step - loss: 0.3448 - mean_squared_error: 0.0290 - val_loss: 0.2523 - val_mean_squared_error: 0.0249\n",
      "Epoch 16/50\n",
      "501/501 [==============================] - 144s 286ms/step - loss: 0.3416 - mean_squared_error: 0.0294 - val_loss: 0.2878 - val_mean_squared_error: 0.0280\n",
      "Epoch 17/50\n",
      "501/501 [==============================] - 144s 287ms/step - loss: 0.3916 - mean_squared_error: 0.0312 - val_loss: 0.7508 - val_mean_squared_error: 0.0521\n",
      "Epoch 18/50\n",
      "501/501 [==============================] - 141s 281ms/step - loss: 0.3723 - mean_squared_error: 0.0305 - val_loss: 0.2913 - val_mean_squared_error: 0.0255\n"
     ]
    }
   ],
   "source": [
    "model.compile(loss=CategoricalCrossentropy(label_smoothing=0.01), optimizer=RMSprop(10e-3), metrics=[RootMeanSquaredError()])\n",
    "early_stopping = tf.keras.callbacks.EarlyStopping(monitor='val_loss', patience=3)\n",
    "\n",
    "batch_size=100_000\n",
    "\n",
    "training_data = train_dataset.batch(batch_size, drop_remainder=True).prefetch(tf.data.AUTOTUNE)\n",
    "validation_data=next(iter(validation_dataset.batch(batch_size)))\n",
    "\n",
    "history = model.fit(training_data, epochs=50, validation_data=validation_data, callbacks=[early_stopping])"
   ]
  },
  {
   "cell_type": "code",
   "execution_count": 10,
   "id": "d65cec0c-e525-4d8f-a0bc-127f6bd10347",
   "metadata": {},
   "outputs": [
    {
     "name": "stdout",
     "output_type": "stream",
     "text": [
      "Epoch 1/50\n",
      "501/501 [==============================] - 141s 280ms/step - loss: 0.2000 - mean_squared_error: 0.0238 - val_loss: 0.1961 - val_mean_squared_error: 0.0239\n",
      "Epoch 2/50\n",
      "501/501 [==============================] - 142s 282ms/step - loss: 0.1937 - mean_squared_error: 0.0236 - val_loss: 0.1922 - val_mean_squared_error: 0.0237\n",
      "Epoch 3/50\n",
      "501/501 [==============================] - 140s 279ms/step - loss: 0.1919 - mean_squared_error: 0.0236 - val_loss: 0.1904 - val_mean_squared_error: 0.0234\n",
      "Epoch 4/50\n",
      "501/501 [==============================] - 140s 278ms/step - loss: 0.1907 - mean_squared_error: 0.0236 - val_loss: 0.1899 - val_mean_squared_error: 0.0234\n",
      "Epoch 5/50\n",
      "501/501 [==============================] - 141s 280ms/step - loss: 0.1898 - mean_squared_error: 0.0235 - val_loss: 0.1913 - val_mean_squared_error: 0.0241\n",
      "Epoch 6/50\n",
      "501/501 [==============================] - 140s 278ms/step - loss: 0.1892 - mean_squared_error: 0.0235 - val_loss: 0.1892 - val_mean_squared_error: 0.0238\n",
      "Epoch 7/50\n",
      "501/501 [==============================] - 140s 278ms/step - loss: 0.1886 - mean_squared_error: 0.0235 - val_loss: 0.1873 - val_mean_squared_error: 0.0233\n",
      "Epoch 8/50\n",
      "501/501 [==============================] - 142s 282ms/step - loss: 0.1880 - mean_squared_error: 0.0235 - val_loss: 0.1866 - val_mean_squared_error: 0.0235\n",
      "Epoch 9/50\n",
      "501/501 [==============================] - 139s 276ms/step - loss: 0.1877 - mean_squared_error: 0.0235 - val_loss: 0.1858 - val_mean_squared_error: 0.0233\n",
      "Epoch 10/50\n",
      "501/501 [==============================] - 140s 278ms/step - loss: 0.1872 - mean_squared_error: 0.0235 - val_loss: 0.1854 - val_mean_squared_error: 0.0233\n",
      "Epoch 11/50\n",
      "501/501 [==============================] - 140s 278ms/step - loss: 0.1869 - mean_squared_error: 0.0235 - val_loss: 0.1854 - val_mean_squared_error: 0.0232\n",
      "Epoch 12/50\n",
      "501/501 [==============================] - 140s 279ms/step - loss: 0.1865 - mean_squared_error: 0.0235 - val_loss: 0.1871 - val_mean_squared_error: 0.0239\n",
      "Epoch 13/50\n",
      "501/501 [==============================] - 138s 275ms/step - loss: 0.1863 - mean_squared_error: 0.0235 - val_loss: 0.1845 - val_mean_squared_error: 0.0233\n",
      "Epoch 14/50\n",
      "501/501 [==============================] - 139s 277ms/step - loss: 0.1861 - mean_squared_error: 0.0235 - val_loss: 0.1843 - val_mean_squared_error: 0.0233\n",
      "Epoch 15/50\n",
      "501/501 [==============================] - 139s 276ms/step - loss: 0.1859 - mean_squared_error: 0.0235 - val_loss: 0.1841 - val_mean_squared_error: 0.0233\n",
      "Epoch 16/50\n",
      "501/501 [==============================] - 139s 276ms/step - loss: 0.1856 - mean_squared_error: 0.0235 - val_loss: 0.1842 - val_mean_squared_error: 0.0232\n",
      "Epoch 17/50\n",
      "501/501 [==============================] - 142s 283ms/step - loss: 0.1855 - mean_squared_error: 0.0235 - val_loss: 0.1838 - val_mean_squared_error: 0.0233\n",
      "Epoch 18/50\n",
      "501/501 [==============================] - 141s 281ms/step - loss: 0.1853 - mean_squared_error: 0.0235 - val_loss: 0.1845 - val_mean_squared_error: 0.0236\n",
      "Epoch 19/50\n",
      "501/501 [==============================] - 139s 277ms/step - loss: 0.1852 - mean_squared_error: 0.0235 - val_loss: 0.1834 - val_mean_squared_error: 0.0233\n",
      "Epoch 20/50\n",
      "501/501 [==============================] - 139s 276ms/step - loss: 0.1850 - mean_squared_error: 0.0235 - val_loss: 0.1874 - val_mean_squared_error: 0.0241\n",
      "Epoch 21/50\n",
      "501/501 [==============================] - 142s 283ms/step - loss: 0.1849 - mean_squared_error: 0.0235 - val_loss: 0.1850 - val_mean_squared_error: 0.0233\n",
      "Epoch 22/50\n",
      "501/501 [==============================] - 140s 279ms/step - loss: 0.1847 - mean_squared_error: 0.0234 - val_loss: 0.1835 - val_mean_squared_error: 0.0234\n",
      "Epoch 23/50\n",
      "501/501 [==============================] - 141s 281ms/step - loss: 0.1846 - mean_squared_error: 0.0235 - val_loss: 0.1837 - val_mean_squared_error: 0.0235\n",
      "Epoch 24/50\n",
      "501/501 [==============================] - 140s 278ms/step - loss: 0.1845 - mean_squared_error: 0.0235 - val_loss: 0.1828 - val_mean_squared_error: 0.0233\n",
      "Epoch 25/50\n",
      "501/501 [==============================] - 140s 279ms/step - loss: 0.1844 - mean_squared_error: 0.0234 - val_loss: 0.1827 - val_mean_squared_error: 0.0232\n",
      "Epoch 26/50\n",
      "501/501 [==============================] - 142s 283ms/step - loss: 0.1843 - mean_squared_error: 0.0234 - val_loss: 0.1826 - val_mean_squared_error: 0.0233\n",
      "Epoch 27/50\n",
      "501/501 [==============================] - 140s 278ms/step - loss: 0.1842 - mean_squared_error: 0.0234 - val_loss: 0.1825 - val_mean_squared_error: 0.0233\n",
      "Epoch 28/50\n",
      "501/501 [==============================] - 141s 280ms/step - loss: 0.1841 - mean_squared_error: 0.0234 - val_loss: 0.1828 - val_mean_squared_error: 0.0234\n",
      "Epoch 29/50\n",
      "501/501 [==============================] - 139s 277ms/step - loss: 0.1841 - mean_squared_error: 0.0234 - val_loss: 0.1825 - val_mean_squared_error: 0.0234\n",
      "Epoch 30/50\n",
      "501/501 [==============================] - 140s 279ms/step - loss: 0.1840 - mean_squared_error: 0.0234 - val_loss: 0.1822 - val_mean_squared_error: 0.0232\n",
      "Epoch 31/50\n",
      "501/501 [==============================] - 139s 277ms/step - loss: 0.1839 - mean_squared_error: 0.0234 - val_loss: 0.1822 - val_mean_squared_error: 0.0233\n",
      "Epoch 32/50\n",
      "501/501 [==============================] - 140s 279ms/step - loss: 0.1838 - mean_squared_error: 0.0234 - val_loss: 0.1821 - val_mean_squared_error: 0.0233\n",
      "Epoch 33/50\n",
      "501/501 [==============================] - 138s 275ms/step - loss: 0.1837 - mean_squared_error: 0.0234 - val_loss: 0.1820 - val_mean_squared_error: 0.0232\n",
      "Epoch 34/50\n",
      "501/501 [==============================] - 141s 280ms/step - loss: 0.1837 - mean_squared_error: 0.0234 - val_loss: 0.1827 - val_mean_squared_error: 0.0235\n",
      "Epoch 35/50\n",
      "501/501 [==============================] - 142s 283ms/step - loss: 0.1836 - mean_squared_error: 0.0234 - val_loss: 0.1818 - val_mean_squared_error: 0.0232\n",
      "Epoch 36/50\n",
      "501/501 [==============================] - 139s 276ms/step - loss: 0.1835 - mean_squared_error: 0.0234 - val_loss: 0.1830 - val_mean_squared_error: 0.0236\n",
      "Epoch 37/50\n",
      "501/501 [==============================] - 137s 273ms/step - loss: 0.1835 - mean_squared_error: 0.0234 - val_loss: 0.1827 - val_mean_squared_error: 0.0235\n",
      "Epoch 38/50\n",
      "501/501 [==============================] - 139s 276ms/step - loss: 0.1834 - mean_squared_error: 0.0234 - val_loss: 0.1816 - val_mean_squared_error: 0.0232\n",
      "Epoch 39/50\n",
      "501/501 [==============================] - 139s 277ms/step - loss: 0.1833 - mean_squared_error: 0.0234 - val_loss: 0.1850 - val_mean_squared_error: 0.0234\n",
      "Epoch 40/50\n",
      "501/501 [==============================] - 139s 277ms/step - loss: 0.1833 - mean_squared_error: 0.0234 - val_loss: 0.1817 - val_mean_squared_error: 0.0233\n",
      "Epoch 41/50\n",
      "501/501 [==============================] - 140s 278ms/step - loss: 0.1833 - mean_squared_error: 0.0234 - val_loss: 0.1822 - val_mean_squared_error: 0.0232\n",
      "Epoch 42/50\n",
      "501/501 [==============================] - 143s 284ms/step - loss: 0.1832 - mean_squared_error: 0.0234 - val_loss: 0.1824 - val_mean_squared_error: 0.0232\n",
      "Epoch 43/50\n",
      "501/501 [==============================] - 141s 280ms/step - loss: 0.1831 - mean_squared_error: 0.0234 - val_loss: 0.1815 - val_mean_squared_error: 0.0232\n",
      "Epoch 44/50\n",
      "501/501 [==============================] - 140s 278ms/step - loss: 0.1831 - mean_squared_error: 0.0234 - val_loss: 0.1814 - val_mean_squared_error: 0.0232\n",
      "Epoch 45/50\n",
      "501/501 [==============================] - 139s 276ms/step - loss: 0.1831 - mean_squared_error: 0.0234 - val_loss: 0.1813 - val_mean_squared_error: 0.0231\n",
      "Epoch 46/50\n",
      "501/501 [==============================] - 142s 282ms/step - loss: 0.1830 - mean_squared_error: 0.0234 - val_loss: 0.1824 - val_mean_squared_error: 0.0235\n",
      "Epoch 47/50\n",
      "501/501 [==============================] - 138s 275ms/step - loss: 0.1830 - mean_squared_error: 0.0234 - val_loss: 0.1822 - val_mean_squared_error: 0.0235\n",
      "Epoch 48/50\n",
      "501/501 [==============================] - 142s 282ms/step - loss: 0.1829 - mean_squared_error: 0.0234 - val_loss: 0.1833 - val_mean_squared_error: 0.0232\n",
      "Epoch 49/50\n",
      "501/501 [==============================] - 142s 282ms/step - loss: 0.1829 - mean_squared_error: 0.0234 - val_loss: 0.1829 - val_mean_squared_error: 0.0232\n",
      "Epoch 50/50\n",
      "501/501 [==============================] - 139s 276ms/step - loss: 0.1828 - mean_squared_error: 0.0234 - val_loss: 0.1810 - val_mean_squared_error: 0.0232\n"
     ]
    }
   ],
   "source": [
    "model.compile(loss=CategoricalCrossentropy(label_smoothing=0.00), optimizer=RMSprop(1e-3), metrics=[RootMeanSquaredError()])\n",
    "early_stopping = tf.keras.callbacks.EarlyStopping(monitor='val_loss', patience=5)\n",
    "history_ft = model.fit(training_data, epochs=50, validation_data=validation_data, callbacks=[early_stopping])"
   ]
  },
  {
   "cell_type": "markdown",
   "id": "d913c613-7c14-45a7-8ad3-10981d604bdb",
   "metadata": {},
   "source": [
    "The two training phases are well visible in the plot below reporting the full history of the training procedure."
   ]
  },
  {
   "cell_type": "code",
   "execution_count": 11,
   "id": "a8a5d610-777b-4c14-b3d8-f84b39ae4ea0",
   "metadata": {},
   "outputs": [
    {
     "data": {
      "image/png": "[encoded data removed]",
      "text/plain": [
       "<Figure size 640x480 with 1 Axes>"
      ]
     },
     "metadata": {},
     "output_type": "display_data"
    }
   ],
   "source": [
    "plt.plot(history.history['loss'] + history_ft.history['loss'], label=\"Loss (train)\")\n",
    "plt.plot(history.history['val_loss'] + history_ft.history['val_loss'], label=\"Loss (validation)\")\n",
    "plt.xlabel(\"Epoch\")\n",
    "plt.ylabel(\"Binary cross-entropy\")\n",
    "plt.yscale('linear')\n",
    "plt.legend()\n",
    "plt.show()"
   ]
  },
  {
   "cell_type": "markdown",
   "id": "2d72519c-6f55-4f06-b12a-da5788cf069a",
   "metadata": {},
   "source": [
    "## A first rough validation (sanity checks)\n",
    "\n",
    "As done for the [acceptance training](./Acceptance.ipynb), we perform simple and quick checks on the trained model to ensure that the model makes sense, while demanding the most important part of the validation to a [dedicated notebook](./Efficiency-validation.ipynb).\n",
    "\n",
    "First we plot the distribution of the original labels and of the predictions for the various categories. "
   ]
  },
  {
   "cell_type": "code",
   "execution_count": 12,
   "id": "82af7a02",
   "metadata": {
    "collapsed": false,
    "jupyter": {
     "outputs_hidden": false
    },
    "pycharm": {
     "name": "#%%\n"
    }
   },
   "outputs": [
    {
     "name": "stdout",
     "output_type": "stream",
     "text": [
      "1/1 [==============================] - 1s 804ms/step\n",
      "1.0\n"
     ]
    },
    {
     "data": {
      "image/png": "[encoded data removed]",
      "text/plain": [
       "<Figure size 2000x300 with 4 Axes>"
      ]
     },
     "metadata": {},
     "output_type": "display_data"
    }
   ],
   "source": [
    "head = data_reader_validation.as_dask_dataframe().head(1_000_000, npartitions=-1)\n",
    "Xv = head[data_reader_validation.features].values\n",
    "yv = head[data_reader_validation.labels].values\n",
    "yv_hat = model.predict(Xv, batch_size=len(Xv))\n",
    "\n",
    "print (yv.sum(axis=1).mean(axis=0))\n",
    "\n",
    "n_classes = len(data_reader_validation.labels)\n",
    "plt.figure(figsize=(5*n_classes, 3))\n",
    "\n",
    "for iVar, varname in enumerate(data_reader_validation.labels, 0):\n",
    "    plt.subplot(1, n_classes, iVar+1)\n",
    "    \n",
    "    bins = np.linspace(0, 1, 11)\n",
    "    plt.hist(yv[:, iVar], bins=bins, label=\"Training labels\")\n",
    "    plt.hist(yv_hat[:, iVar], bins=bins, histtype='step', linewidth=2, label=\"Prediction\")\n",
    "    plt.title(varname.replace(\"_\", \" \").capitalize())\n",
    "    plt.xlabel(\"Label\")\n",
    "    plt.legend()\n",
    "    plt.yscale('log')\n",
    "plt.show()"
   ]
  },
  {
   "cell_type": "markdown",
   "id": "9b4db9fc-586f-4083-bf47-460b16088f90",
   "metadata": {},
   "source": [
    "Then we use the probability of belonging to the `long track` class as a weight to compare the distribution of candidates reconstructed as long tracks in the detailed simulation with candidates probably reconstructable as `long tracks` according to Lamarr."
   ]
  },
  {
   "cell_type": "code",
   "execution_count": 13,
   "id": "86b205bd",
   "metadata": {
    "collapsed": false,
    "jupyter": {
     "outputs_hidden": false
    },
    "pycharm": {
     "name": "#%%\n"
    }
   },
   "outputs": [
    {
     "data": {
      "image/png": "[encoded data removed]",
      "text/plain": [
       "<Figure size 640x480 with 1 Axes>"
      ]
     },
     "metadata": {},
     "output_type": "display_data"
    }
   ],
   "source": [
    "log_p = head['mc_log10_p']\n",
    "mask_long = head['recoed_as_long'] == 1\n",
    "w_long = yv_hat[:, data_reader_validation.labels.index('recoed_as_long')]\n",
    "\n",
    "bins = np.linspace(-4, 4, 121)\n",
    "denominator, _ = np.histogram(log_p, bins=bins)\n",
    "true_numerator, _ = np.histogram(log_p[mask_long], bins=bins)\n",
    "predicted_numerator, _ = np.histogram(log_p, bins=bins, weights=w_long)\n",
    "\n",
    "plt.hist((bins[1:] + bins[:-1])/2, bins=bins, weights=denominator, label=\"In acceptance\", histtype='step')\n",
    "plt.hist((bins[1:] + bins[:-1])/2, bins=bins, weights=true_numerator, label=\"Long tracks (validation)\", color='#8e8')\n",
    "plt.hist((bins[1:] + bins[:-1])/2, bins=bins, weights=predicted_numerator, label=\"Long tracks (model)\", histtype='step', linewidth=2)\n",
    "\n",
    "plt.xlabel(r\"$\\log_{10} \\left(p / (1 \\mathrm{MeV}/c\\right)$\")\n",
    "plt.legend()\n",
    "plt.show()"
   ]
  },
  {
   "cell_type": "markdown",
   "id": "11a371cc-e5f5-42b6-8288-925913261113",
   "metadata": {
    "tags": []
   },
   "source": [
    "# Exporting the model\n",
    "\n",
    "As a last step, we export the model to the same directory where we stored the preprocessing steps."
   ]
  },
  {
   "cell_type": "code",
   "execution_count": 14,
   "id": "e0989f48-83a5-4635-8fc9-c2647dfea999",
   "metadata": {},
   "outputs": [
    {
     "name": "stdout",
     "output_type": "stream",
     "text": [
      "INFO:tensorflow:Assets written to: /workarea/local/shared/scapelli/trained_models/2016MU/10134000/models/efficiency/assets\n"
     ]
    }
   ],
   "source": [
    "from models_utils import GetModelProperties,MakeMD\n",
    "from json import dump\n",
    "\n",
    "base_dir = path.dirname(environ['OUTPUT_MODEL'])\n",
    "makedirs(base_dir,exist_ok=True)\n",
    "model.save(base_dir)\n",
    "\n",
    "# save model and training information\n",
    "jsonfile = \"model_info.json\"\n",
    "info_path = path.join(base_dir, jsonfile)\n",
    "props = GetModelProperties(model,history=history_ft)\n",
    "\n",
    "with open(path.join(base_dir, jsonfile),'w') as json_file:\n",
    "    dump(props,json_file)\n",
    "\n",
    "# write model description in MD file\n",
    "MakeMD(props,mdfile=path.join(base_dir, \"model_info.md\"))"
   ]
  },
  {
   "cell_type": "markdown",
   "id": "b602f781-0b3b-417f-aa0b-4e928ad0dbc8",
   "metadata": {
    "jupyter": {
     "outputs_hidden": false
    },
    "pycharm": {
     "name": "#%%\n"
    }
   },
   "source": [
    "# Conclusion\n",
    "\n",
    "In this notebook we trained a model for the track reconstruction efficiency, implemented a very simple sanity check to ensure that the trained model makes sense, and finally we exported it to perform a more complete validation in a dedicated notebook.\n"
   ]
  },
  {
   "cell_type": "code",
   "execution_count": 15,
   "id": "f5f0270a-b0df-419d-b112-0c85736c66da",
   "metadata": {},
   "outputs": [
    {
     "name": "stdout",
     "output_type": "stream",
     "text": [
      "Exported Efficiency.ipynb as html,pdf in /workarea/local/shared/scapelli/notebooks_exports/2016MU/10134000\n"
     ]
    }
   ],
   "source": [
    "### export notebooks for comparisons\n",
    "if environ.get('NB_EXPORT',\"False\")==\"True\":\n",
    "    from os import system,rename,path\n",
    "    nb_save  = \"/workarea/local/shared/scapelli/notebooks_exports\"         # export output dir\n",
    "    nb_save  = nb_save+environ['TRAINING_DATA_FOLDER']                     # according to train data\n",
    "    if environ['MODEL_VARIANT'] != '':\n",
    "        nb_save  = nb_save+'/'+environ['MODEL_VARIANT']                    # according to model variant\n",
    "    if not path.isdir(nb_save): makedirs(nb_save,exist_ok=True)            # create if not exists\n",
    "    nbs_path = \"/workarea/local/shared/scapelli/lb-trksim-train/notebooks\" # notebooks folder\n",
    "    nb_filename = \"Efficiency.ipynb\"                                       # notebook name\n",
    "    extensions  = [\"html\",\"pdf\"]                                           # export formats\n",
    "    for ext in extensions:\n",
    "        system(\"jupyter nbconvert --log-level=40 --no-input --output-dir {0} --to {1} {2}/{3}\".format(nb_save,ext.upper(),nbs_path,nb_filename))\n",
    "    print(\"Exported {} as {} in {}\".format(nb_filename,','.join(extensions),nb_save))"
   ]
  }
 ],
 "metadata": {
  "kernelspec": {
   "display_name": "LHCb Analysis Facility",
   "language": "python",
   "name": "lhcb"
  },
  "language_info": {
   "codemirror_mode": {
    "name": "ipython",
    "version": 3
   },
   "file_extension": ".py",
   "mimetype": "text/x-python",
   "name": "python",
   "nbconvert_exporter": "python",
   "pygments_lexer": "ipython3",
   "version": "3.9.15"
  }
 },
 "nbformat": 4,
 "nbformat_minor": 5
}
