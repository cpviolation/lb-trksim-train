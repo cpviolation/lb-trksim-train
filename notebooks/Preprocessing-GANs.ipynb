{
 "cells": [
  {
   "cell_type": "code",
   "execution_count": 1,
   "id": "2b0e8f69-f658-4dac-a667-899442144bb8",
   "metadata": {},
   "outputs": [],
   "source": [
    "### Defining Environment variables pointing to user folders\n",
    "from os import environ\n",
    "from glob import glob\n",
    "\n",
    "environ.setdefault('DATA_STORAGE',\"/mlinfn/minio/lhcb-data/anderlinil/LamarrBenderTrain\")\n",
    "\n",
    "environ.setdefault('HOME_DIR', \"/mlinfn/shared/lamarr/\"+ environ['USERNAME'])\n",
    "environ.setdefault('TRAINING_DATA_FOLDER',\"/2016MU/10134000\")\n",
    "environ.setdefault('MODEL_STORAGE',environ['HOME_DIR']+\"/trained_models\"+environ['TRAINING_DATA_FOLDER'])\n",
    "\n",
    "environ.setdefault('INPUT_PATH',environ['DATA_STORAGE']+environ['TRAINING_DATA_FOLDER']+\"/*.root\")\n",
    "environ.setdefault('INPUT_FILES',\" \".join(glob(environ['INPUT_PATH'])))\n",
    "\n",
    "environ.setdefault(\"FEATHER_FOLDER\"       , environ['HOME_DIR']+\"/lb-trksim-train/notebooks/feather_folder\"+environ['TRAINING_DATA_FOLDER'])\n",
    "environ.setdefault(\"RESOLUTION_TRAIN\"     , environ[\"FEATHER_FOLDER\"]+\"/resolution-train\")\n",
    "environ.setdefault(\"RESOLUTION_TEST\"      , environ[\"FEATHER_FOLDER\"]+\"/resolution-test\")\n",
    "environ.setdefault(\"RESOLUTION_VALIDATION\", environ[\"FEATHER_FOLDER\"]+\"/resolution-validation\")\n",
    "environ.setdefault(\"COVARIANCE_TRAIN\"     , environ[\"FEATHER_FOLDER\"]+\"/covariance-train\")\n",
    "environ.setdefault(\"COVARIANCE_TEST\"      , environ[\"FEATHER_FOLDER\"]+\"/covariance-test\")\n",
    "environ.setdefault(\"COVARIANCE_VALIDATION\", environ[\"FEATHER_FOLDER\"]+\"/covariance-validation\")\n",
    "\n",
    "_ = environ.setdefault('NB_EXPORT',\"True\")"
   ]
  },
  {
   "cell_type": "markdown",
   "id": "f5d61090-9d94-4321-9404-6055116490eb",
   "metadata": {},
   "source": [
    "# Preprocessing steps for *Resolution* and *Covariance* models\n",
    "##### Tested on environment `LHCb Analysis Facility` of Docker image `landerli/lhcbaf:v0p8`\n",
    "\n",
    "This notebook loads, prepares and caches the data for the training of the resolution and covariance models.\n",
    "Both resolution and covariance rely on GANs and benefit from larger statistics if compared to acceptance and efficiency models.\n",
    "Nonetheless, the preprocessing procedure is similar: data are loaded from the remote storage and coverted from ROOT to pandas DataFrames, then a `QuantileTransformer` is applied. \n",
    "\n",
    "In addition, we will introduce a custom `DecorrTransformer` that decorrelate features by covariance matrix diagionalization. This step is particularly important for modeling the covariance because of the strong correlation arising between different element of the covariance matrix. While strong correlation is usually manageable by Neural Networks, here the correlated features are part of the reference dataset that the generator should learn reproducing by minimizing some measure of the distance between distributions. \n",
    "In the original forumulation of GANs, that we are using here with minor tweaks, the measure of the distance between the generated and reference distribution saturates when the two distributions are disjoint. Strong correlation between variables makes it more difficult to avoid disjoint distributions and causes less predictable training outcome. "
   ]
  },
  {
   "cell_type": "markdown",
   "id": "11f56818-18fd-4a4d-8d25-a218481c779b",
   "metadata": {},
   "source": [
    "## Technologies and libraries\n",
    "On top of the standard Python echosystem we are using:\n",
    " * `uproot` to convert data from ROOT TTrees to `pandas DataFrames`\n",
    " * dask DataFrame to enable processing datasets larger than the available RAM (Out-of-memory computation). \n",
    " * `Arrow Featether` data format to cache in local storage the training dataset\n",
    "     * refer to [`feather_io.py`](./feather_io.py) for a custom wrapper to Feather"
   ]
  },
  {
   "cell_type": "code",
   "execution_count": 2,
   "id": "68eabd3d-d743-471a-9066-4c7639660fd2",
   "metadata": {},
   "outputs": [
    {
     "name": "stderr",
     "output_type": "stream",
     "text": [
      "/envs/root/lib/python3.9/site-packages/tqdm/auto.py:21: TqdmWarning: IProgress not found. Please update jupyter and ipywidgets. See https://ipywidgets.readthedocs.io/en/stable/user_install.html\n",
      "  from .autonotebook import tqdm as notebook_tqdm\n"
     ]
    }
   ],
   "source": [
    "import numpy as np\n",
    "import pandas as pd \n",
    "import dask.dataframe as ddf\n",
    "import uproot\n",
    "from os import environ"
   ]
  },
  {
   "cell_type": "markdown",
   "id": "1807f0bc-426b-459e-b013-baf9dcc25e10",
   "metadata": {},
   "source": [
    "### Loading data\n",
    "Input data are obtained from the environment variable `$INPUT_FILES`.\n",
    "For debugging purpose a default value is provided."
   ]
  },
  {
   "cell_type": "code",
   "execution_count": 3,
   "id": "f54883e1-5dae-4fc7-af68-144991df50d3",
   "metadata": {},
   "outputs": [
    {
     "name": "stdout",
     "output_type": "stream",
     "text": [
      "Found 194 files from /mlinfn/minio/lhcb-data/anderlinil/LamarrBenderTrain/2016MU/10134000/*.root\n"
     ]
    }
   ],
   "source": [
    "from glob import glob\n",
    "file_pattern = \"/mlinfn/minio/lhcb-data/anderlinil/LamarrBenderTrain/j100/*.root\" # default path\n",
    "default_file_path = environ.get(\"INPUT_PATH\", file_pattern)\n",
    "file_list = environ.get(\"INPUT_FILES\", \" \".join(glob(default_file_path))).split(\" \")\n",
    "\n",
    "print (f\"Found {len(file_list)} files from {default_file_path}\")  "
   ]
  },
  {
   "cell_type": "markdown",
   "id": "03f89130-9509-4a71-a38c-e2a9e581b475",
   "metadata": {},
   "source": [
    "### Conversion from `ROOT TTree` to `Pandas DataFrame`\n",
    "\n",
    "Training data is obtained from a Bender job running on simulated data.\n",
    "The ROOT files obtained from Bender are structured in multiple `TDirector`ies for the training of different models.\n",
    "Here we are considering only the *Tracking* part, corresponding to the `TDirectory` named `\"TrackingTuple\"`.\n",
    "\n",
    "Two `TTree`s are defined:\n",
    " * `sim` with the generator-level particles, possibly matched to reconstructed tracks\n",
    " * `reco` reconstructed tracks with additional information on the reconstructed track parameters and their uncertainties.\n",
    "\n"
   ]
  },
  {
   "cell_type": "code",
   "execution_count": 4,
   "id": "100316ab-80e8-4edc-8a46-89ebcad467c0",
   "metadata": {},
   "outputs": [],
   "source": [
    "def read_root(filename, tree=None):\n",
    "    if tree is None:\n",
    "        return uproot.open(filename)\n",
    "    \n",
    "    return pd.DataFrame(uproot.open(filename)[tree].arrays(library='np'))\n",
    "\n",
    "from functools import partial\n",
    "reco = (ddf\n",
    "        .from_map (partial(read_root, tree=\"TrackingTupler/reco\"), file_list)\n",
    "        .query(\"(type == 3) or (type == 4) or (type == 5)\")\n",
    "       )"
   ]
  },
  {
   "cell_type": "markdown",
   "id": "df0cb637-a59d-4635-aa46-9fd977aff72d",
   "metadata": {},
   "source": [
    "### `reco`: reconstructed particles\n",
    "\n",
    "The complete list of variables defined for particles passing the reconstruction step is shown below."
   ]
  },
  {
   "cell_type": "code",
   "execution_count": 5,
   "id": "718abf42-a92b-4194-aa7f-cad6c2a1e5fa",
   "metadata": {},
   "outputs": [
    {
     "name": "stdout",
     "output_type": "stream",
     "text": [
      "mc_key                   true_mass_ClosestToBeam  cov_BegRich1_0_1         cov_AtT_1_3              cov_EndRich2_3_4        \n",
      "evtNumber                x_ClosestToBeam          cov_BegRich1_1_1         cov_AtT_2_3              cov_EndRich2_4_4        \n",
      "runNumber                y_ClosestToBeam          cov_BegRich1_0_2         cov_AtT_3_3             \n",
      "PID                      z_ClosestToBeam          cov_BegRich1_1_2         cov_AtT_0_4             \n",
      "clone                    qop_ClosestToBeam        cov_BegRich1_2_2         cov_AtT_1_4             \n",
      "purity                   cov_ClosestToBeam_0_0    cov_BegRich1_0_3         cov_AtT_2_4             \n",
      "type                     cov_ClosestToBeam_0_1    cov_BegRich1_1_3         cov_AtT_3_4             \n",
      "history                  cov_ClosestToBeam_1_1    cov_BegRich1_2_3         cov_AtT_4_4             \n",
      "fitHistory               cov_ClosestToBeam_0_2    cov_BegRich1_3_3         px_BegRich2             \n",
      "ghostProb                cov_ClosestToBeam_1_2    cov_BegRich1_0_4         py_BegRich2             \n",
      "likelihood               cov_ClosestToBeam_2_2    cov_BegRich1_1_4         pz_BegRich2             \n",
      "fitStatus                cov_ClosestToBeam_0_3    cov_BegRich1_2_4         x_BegRich2              \n",
      "chi2PerDoF               cov_ClosestToBeam_1_3    cov_BegRich1_3_4         y_BegRich2              \n",
      "nDoF                     cov_ClosestToBeam_2_3    cov_BegRich1_4_4         z_BegRich2              \n",
      "hasT                     cov_ClosestToBeam_3_3    px_EndRich1              tx_BegRich2             \n",
      "hasVelo                  cov_ClosestToBeam_0_4    py_EndRich1              ty_BegRich2             \n",
      "hasTT                    cov_ClosestToBeam_1_4    pz_EndRich1              qop_BegRich2            \n",
      "mc_tx                    cov_ClosestToBeam_2_4    x_EndRich1               phi_BegRich2            \n",
      "mc_ty                    cov_ClosestToBeam_3_4    y_EndRich1               eta_BegRich2            \n",
      "mc_px                    cov_ClosestToBeam_4_4    z_EndRich1               cov_BegRich2_0_0        \n",
      "mc_py                    px_EndVelo               tx_EndRich1              cov_BegRich2_0_1        \n",
      "mc_pz                    py_EndVelo               ty_EndRich1              cov_BegRich2_1_1        \n",
      "mc_p                     pz_EndVelo               qop_EndRich1             cov_BegRich2_0_2        \n",
      "mc_pt                    x_EndVelo                phi_EndRich1             cov_BegRich2_1_2        \n",
      "mc_eta                   y_EndVelo                eta_EndRich1             cov_BegRich2_2_2        \n",
      "mc_phi                   z_EndVelo                cov_EndRich1_0_0         cov_BegRich2_0_3        \n",
      "mc_mass                  tx_EndVelo               cov_EndRich1_0_1         cov_BegRich2_1_3        \n",
      "reco_tx                  ty_EndVelo               cov_EndRich1_1_1         cov_BegRich2_2_3        \n",
      "reco_ty                  qop_EndVelo              cov_EndRich1_0_2         cov_BegRich2_3_3        \n",
      "reco_px                  phi_EndVelo              cov_EndRich1_1_2         cov_BegRich2_0_4        \n",
      "reco_py                  eta_EndVelo              cov_EndRich1_2_2         cov_BegRich2_1_4        \n",
      "reco_pz                  cov_EndVelo_0_0          cov_EndRich1_0_3         cov_BegRich2_2_4        \n",
      "reco_p                   cov_EndVelo_0_1          cov_EndRich1_1_3         cov_BegRich2_3_4        \n",
      "reco_pt                  cov_EndVelo_1_1          cov_EndRich1_2_3         cov_BegRich2_4_4        \n",
      "reco_eta                 cov_EndVelo_0_2          cov_EndRich1_3_3         px_EndRich2             \n",
      "reco_phi                 cov_EndVelo_1_2          cov_EndRich1_0_4         py_EndRich2             \n",
      "true_x_ClosestToBeam     cov_EndVelo_2_2          cov_EndRich1_1_4         pz_EndRich2             \n",
      "true_y_ClosestToBeam     cov_EndVelo_0_3          cov_EndRich1_2_4         x_EndRich2              \n",
      "true_z_ClosestToBeam     cov_EndVelo_1_3          cov_EndRich1_3_4         y_EndRich2              \n",
      "tx_ClosestToBeam         cov_EndVelo_2_3          cov_EndRich1_4_4         z_EndRich2              \n",
      "ty_ClosestToBeam         cov_EndVelo_3_3          px_AtT                   tx_EndRich2             \n",
      "px_ClosestToBeam         cov_EndVelo_0_4          py_AtT                   ty_EndRich2             \n",
      "py_ClosestToBeam         cov_EndVelo_1_4          pz_AtT                   qop_EndRich2            \n",
      "pz_ClosestToBeam         cov_EndVelo_2_4          x_AtT                    phi_EndRich2            \n",
      "p_ClosestToBeam          cov_EndVelo_3_4          y_AtT                    eta_EndRich2            \n",
      "pt_ClosestToBeam         cov_EndVelo_4_4          z_AtT                    cov_EndRich2_0_0        \n",
      "eta_ClosestToBeam        px_BegRich1              tx_AtT                   cov_EndRich2_0_1        \n",
      "phi_ClosestToBeam        py_BegRich1              ty_AtT                   cov_EndRich2_1_1        \n",
      "mass_ClosestToBeam       pz_BegRich1              qop_AtT                  cov_EndRich2_0_2        \n",
      "true_tx_ClosestToBeam    x_BegRich1               phi_AtT                  cov_EndRich2_1_2        \n",
      "true_ty_ClosestToBeam    y_BegRich1               eta_AtT                  cov_EndRich2_2_2        \n",
      "true_px_ClosestToBeam    z_BegRich1               cov_AtT_0_0              cov_EndRich2_0_3        \n",
      "true_py_ClosestToBeam    tx_BegRich1              cov_AtT_0_1              cov_EndRich2_1_3        \n",
      "true_pz_ClosestToBeam    ty_BegRich1              cov_AtT_1_1              cov_EndRich2_2_3        \n",
      "true_p_ClosestToBeam     qop_BegRich1             cov_AtT_0_2              cov_EndRich2_3_3        \n",
      "true_pt_ClosestToBeam    phi_BegRich1             cov_AtT_1_2              cov_EndRich2_0_4        \n",
      "true_eta_ClosestToBeam   eta_BegRich1             cov_AtT_2_2              cov_EndRich2_1_4        \n",
      "true_phi_ClosestToBeam   cov_BegRich1_0_0         cov_AtT_0_3              cov_EndRich2_2_4        \n"
     ]
    }
   ],
   "source": [
    "n_rows = len(reco.columns)//4\n",
    "print (\"\\n\".join([\" \".join([f\"{c:24s}\" for c in reco.columns[i::n_rows]]) for i in range(n_rows)]))"
   ]
  },
  {
   "cell_type": "markdown",
   "id": "2e1af4ef-158b-41c7-86f2-0b9b6463e23f",
   "metadata": {},
   "source": [
    "# Resolution model\n",
    "\n",
    "For consistency with the acceptance and efficiency models, we are defining:\n",
    " * `mc_log10_p` as $\\log_{10}(p)$, which ease the job to the Quantile transformer;\n",
    " * `is_e`, `is_mu` and `is_h` providing boolean values used to define whether a particle is an electron, a muon or a hadron (pion, kaon or proton);\n",
    " * `nDoF_f` obtained by adding a random number, uniformly distributed in the range $[0, 1]$ to the number of degrees of freedom of the track fit.\n",
    "\n",
    "In addition we are defining:\n",
    " * the boolean flags `long`, `upstream` and `downstream` which encode the particle type in one-hot-encoded classes\n",
    " * `dx`, `dy`, `dz`, `dtx`, `dty` and `dp` representing the difference between the reconstructed and generator-level quantity of the position ($x$, $y$, and $z$), the slope ($t_x$ and $t_y$) and the momentum ($p$), as evaluated in the `ClosestToBeam` track state."
   ]
  },
  {
   "cell_type": "code",
   "execution_count": 6,
   "id": "92a8ea6e-be35-4460-8988-2fcf9f053eeb",
   "metadata": {},
   "outputs": [],
   "source": [
    "reco['mc_log10_p'] = np.log10(reco.mc_p)\n",
    "reco['mc_is_e'] = abs(reco.PID).isin([11]).astype(np.float32)\n",
    "reco['mc_is_mu'] = abs(reco.PID).isin([13]).astype(np.float32)\n",
    "reco['mc_is_h'] = abs(reco.PID).isin([211, 321, 2212]).astype(np.float32)\n",
    "reco['long'] = (reco.type==3).astype(np.float32)\n",
    "reco['upstream'] = (reco.type==4).astype(np.float32)\n",
    "reco['downstream'] = (reco.type==5).astype(np.float32)\n",
    "reco['dx'] = reco.x_ClosestToBeam - reco.true_x_ClosestToBeam\n",
    "reco['dy'] = reco.y_ClosestToBeam - reco.true_y_ClosestToBeam\n",
    "reco['dz'] = reco.z_ClosestToBeam - reco.true_z_ClosestToBeam\n",
    "reco['dtx'] = reco.tx_ClosestToBeam - reco.true_tx_ClosestToBeam\n",
    "reco['dty'] = reco.ty_ClosestToBeam - reco.true_ty_ClosestToBeam\n",
    "reco['dp'] = reco.reco_p - reco.mc_p\n",
    "reco = reco.map_partitions(lambda df: df.assign(nDoF_f = df.nDoF + np.random.uniform(0, 1, len(df))))"
   ]
  },
  {
   "cell_type": "markdown",
   "id": "09005f9e-fa7b-43c3-8f24-3e8a0c143b4d",
   "metadata": {},
   "source": [
    "### Features\n",
    "\n",
    "The resolution model takes as inputs the generator-level position, slope and momentum of the particle in where its trajectory minimizes the distance from the $z$ axis (`ClosestToBeam`), three boolean flags representing the nature of the particle (electron, muon or hadron) and three boolean flags representing the track category as defined by the efficiency model.\n",
    "\n",
    "The resolution model should provide as an output the difference between the reconstructed values and the input feature, plus track-quality metrics such as the number of degrees of freedom and the $\\chi^2$ of the track fit, and the ghost probability.\n",
    "\n",
    "Clearly, in the training sample these quantities are obtained with reconstruction algorithms performing the track fit. In Lamarr, these parameters will be generated randomly trying to reproduce the distributions observed in the training dataset.\n"
   ]
  },
  {
   "cell_type": "code",
   "execution_count": 7,
   "id": "bdf42c4e-7c08-45cd-9a26-26dc95435680",
   "metadata": {},
   "outputs": [
    {
     "data": {
      "text/html": [
       "<P><B>Input features (real)</B><UL><LI> <PRE>true_x_ClosestToBeam</PRE> \n",
       "<LI> <PRE>true_y_ClosestToBeam</PRE> \n",
       "<LI> <PRE>true_z_ClosestToBeam</PRE> \n",
       "<LI> <PRE>true_tx_ClosestToBeam</PRE> \n",
       "<LI> <PRE>true_ty_ClosestToBeam</PRE> \n",
       "<LI> <PRE>mc_log10_p</PRE> </UL><HR>"
      ],
      "text/plain": [
       "<IPython.core.display.HTML object>"
      ]
     },
     "metadata": {},
     "output_type": "display_data"
    },
    {
     "data": {
      "text/html": [
       "<P><B>Input features (boolean)</B><UL><LI> <PRE>mc_is_e</PRE> \n",
       "<LI> <PRE>mc_is_mu</PRE> \n",
       "<LI> <PRE>mc_is_h</PRE> \n",
       "<LI> <PRE>long</PRE> \n",
       "<LI> <PRE>upstream</PRE> \n",
       "<LI> <PRE>downstream</PRE> </UL><HR>"
      ],
      "text/plain": [
       "<IPython.core.display.HTML object>"
      ]
     },
     "metadata": {},
     "output_type": "display_data"
    },
    {
     "data": {
      "text/html": [
       "<P><B>Output features (real)</B><UL><LI> <PRE>dx</PRE> \n",
       "<LI> <PRE>dy</PRE> \n",
       "<LI> <PRE>dz</PRE> \n",
       "<LI> <PRE>dtx</PRE> \n",
       "<LI> <PRE>dty</PRE> \n",
       "<LI> <PRE>dp</PRE> \n",
       "<LI> <PRE>chi2PerDoF</PRE> \n",
       "<LI> <PRE>nDoF_f</PRE> \n",
       "<LI> <PRE>ghostProb</PRE> </UL><HR>"
      ],
      "text/plain": [
       "<IPython.core.display.HTML object>"
      ]
     },
     "metadata": {},
     "output_type": "display_data"
    }
   ],
   "source": [
    "res_real_conditions = [\n",
    "    'true_x_ClosestToBeam', 'true_y_ClosestToBeam', 'true_z_ClosestToBeam', \n",
    "    'true_tx_ClosestToBeam', 'true_ty_ClosestToBeam', 'mc_log10_p'\n",
    "]\n",
    "\n",
    "res_flags = ['mc_is_e', 'mc_is_mu', 'mc_is_h', 'long', 'upstream', 'downstream']\n",
    "\n",
    "res_conditions = res_real_conditions + res_flags\n",
    "res_target = ['dx', 'dy', 'dz', 'dtx', 'dty', 'dp', 'chi2PerDoF', 'nDoF_f', 'ghostProb']\n",
    "\n",
    "from IPython.display import HTML\n",
    "def list_vars(title, var_list):\n",
    "    display(HTML (f\"<P><B>{title}</B><UL>\" + \"\\n\".join(f\"<LI> <PRE>{var}</PRE> \" for var in var_list) + \"</UL><HR>\"))\n",
    "\n",
    "list_vars(\"Input features (real)\", res_real_conditions)\n",
    "list_vars(\"Input features (boolean)\", res_flags)\n",
    "list_vars(\"Output features (real)\", res_target)"
   ]
  },
  {
   "cell_type": "markdown",
   "id": "fbb82eba-8202-4567-8e78-efac9d70ff4d",
   "metadata": {},
   "source": [
    "### Some statistics\n",
    "We report below some basic statistics on the dataset defined to train the resolution model.\n",
    "These plots might highlight pathological contributions to the distributions, such as error values resulting in large spikes or outliers  inconsistent with the core of the distribution.\n",
    "\n",
    "#### Some rows \n",
    "Only a fraction of the whole dataset is used for this study and then for defining the preprocessing step."
   ]
  },
  {
   "cell_type": "code",
   "execution_count": 8,
   "id": "85234a24-6226-4bda-831d-a899d1405cbf",
   "metadata": {},
   "outputs": [
    {
     "data": {
      "text/html": [
       "The number of rows used in this notebook is 300000"
      ],
      "text/plain": [
       "<IPython.core.display.HTML object>"
      ]
     },
     "metadata": {},
     "output_type": "display_data"
    },
    {
     "data": {
      "text/html": [
       "<div>\n",
       "<style scoped>\n",
       "    .dataframe tbody tr th:only-of-type {\n",
       "        vertical-align: middle;\n",
       "    }\n",
       "\n",
       "    .dataframe tbody tr th {\n",
       "        vertical-align: top;\n",
       "    }\n",
       "\n",
       "    .dataframe thead th {\n",
       "        text-align: right;\n",
       "    }\n",
       "</style>\n",
       "<table border=\"1\" class=\"dataframe\">\n",
       "  <thead>\n",
       "    <tr style=\"text-align: right;\">\n",
       "      <th></th>\n",
       "      <th>true_x_ClosestToBeam</th>\n",
       "      <th>true_y_ClosestToBeam</th>\n",
       "      <th>true_z_ClosestToBeam</th>\n",
       "      <th>true_tx_ClosestToBeam</th>\n",
       "      <th>true_ty_ClosestToBeam</th>\n",
       "      <th>mc_log10_p</th>\n",
       "      <th>mc_is_e</th>\n",
       "      <th>mc_is_mu</th>\n",
       "      <th>mc_is_h</th>\n",
       "      <th>long</th>\n",
       "      <th>...</th>\n",
       "      <th>downstream</th>\n",
       "      <th>dx</th>\n",
       "      <th>dy</th>\n",
       "      <th>dz</th>\n",
       "      <th>dtx</th>\n",
       "      <th>dty</th>\n",
       "      <th>dp</th>\n",
       "      <th>chi2PerDoF</th>\n",
       "      <th>nDoF_f</th>\n",
       "      <th>ghostProb</th>\n",
       "    </tr>\n",
       "  </thead>\n",
       "  <tbody>\n",
       "    <tr>\n",
       "      <th>4</th>\n",
       "      <td>0.490365</td>\n",
       "      <td>-0.477634</td>\n",
       "      <td>7.548103</td>\n",
       "      <td>0.076353</td>\n",
       "      <td>0.078388</td>\n",
       "      <td>3.903246</td>\n",
       "      <td>0.0</td>\n",
       "      <td>0.0</td>\n",
       "      <td>1.0</td>\n",
       "      <td>1.0</td>\n",
       "      <td>...</td>\n",
       "      <td>0.0</td>\n",
       "      <td>-0.039365</td>\n",
       "      <td>0.001734</td>\n",
       "      <td>-0.534503</td>\n",
       "      <td>0.000036</td>\n",
       "      <td>-0.000573</td>\n",
       "      <td>35.630371</td>\n",
       "      <td>1.010721</td>\n",
       "      <td>35.225800</td>\n",
       "      <td>0.002876</td>\n",
       "    </tr>\n",
       "    <tr>\n",
       "      <th>5</th>\n",
       "      <td>0.560771</td>\n",
       "      <td>0.216658</td>\n",
       "      <td>17.590837</td>\n",
       "      <td>-0.027688</td>\n",
       "      <td>0.071665</td>\n",
       "      <td>3.567113</td>\n",
       "      <td>1.0</td>\n",
       "      <td>0.0</td>\n",
       "      <td>0.0</td>\n",
       "      <td>1.0</td>\n",
       "      <td>...</td>\n",
       "      <td>0.0</td>\n",
       "      <td>0.048729</td>\n",
       "      <td>-0.046258</td>\n",
       "      <td>1.441362</td>\n",
       "      <td>-0.000567</td>\n",
       "      <td>0.000933</td>\n",
       "      <td>-4.984375</td>\n",
       "      <td>1.200072</td>\n",
       "      <td>37.308065</td>\n",
       "      <td>0.011449</td>\n",
       "    </tr>\n",
       "    <tr>\n",
       "      <th>7</th>\n",
       "      <td>0.595299</td>\n",
       "      <td>-0.428453</td>\n",
       "      <td>15.470662</td>\n",
       "      <td>-0.036398</td>\n",
       "      <td>-0.050572</td>\n",
       "      <td>3.825427</td>\n",
       "      <td>0.0</td>\n",
       "      <td>0.0</td>\n",
       "      <td>1.0</td>\n",
       "      <td>1.0</td>\n",
       "      <td>...</td>\n",
       "      <td>0.0</td>\n",
       "      <td>-0.082999</td>\n",
       "      <td>0.072653</td>\n",
       "      <td>-0.890262</td>\n",
       "      <td>0.000743</td>\n",
       "      <td>-0.000080</td>\n",
       "      <td>35.061523</td>\n",
       "      <td>0.642418</td>\n",
       "      <td>29.766196</td>\n",
       "      <td>0.004388</td>\n",
       "    </tr>\n",
       "    <tr>\n",
       "      <th>8</th>\n",
       "      <td>-0.736912</td>\n",
       "      <td>5.212535</td>\n",
       "      <td>226.350449</td>\n",
       "      <td>0.087482</td>\n",
       "      <td>0.012368</td>\n",
       "      <td>3.395407</td>\n",
       "      <td>0.0</td>\n",
       "      <td>0.0</td>\n",
       "      <td>1.0</td>\n",
       "      <td>1.0</td>\n",
       "      <td>...</td>\n",
       "      <td>0.0</td>\n",
       "      <td>-0.159888</td>\n",
       "      <td>-0.236236</td>\n",
       "      <td>-2.436447</td>\n",
       "      <td>-0.000112</td>\n",
       "      <td>0.001636</td>\n",
       "      <td>21.905762</td>\n",
       "      <td>0.589242</td>\n",
       "      <td>31.195186</td>\n",
       "      <td>0.004228</td>\n",
       "    </tr>\n",
       "    <tr>\n",
       "      <th>9</th>\n",
       "      <td>0.415492</td>\n",
       "      <td>0.288020</td>\n",
       "      <td>2.268929</td>\n",
       "      <td>0.038918</td>\n",
       "      <td>-0.056142</td>\n",
       "      <td>3.999995</td>\n",
       "      <td>0.0</td>\n",
       "      <td>0.0</td>\n",
       "      <td>1.0</td>\n",
       "      <td>1.0</td>\n",
       "      <td>...</td>\n",
       "      <td>0.0</td>\n",
       "      <td>-0.002792</td>\n",
       "      <td>0.059280</td>\n",
       "      <td>-0.680029</td>\n",
       "      <td>-0.000287</td>\n",
       "      <td>-0.000029</td>\n",
       "      <td>-54.550781</td>\n",
       "      <td>1.088388</td>\n",
       "      <td>36.869881</td>\n",
       "      <td>0.003459</td>\n",
       "    </tr>\n",
       "    <tr>\n",
       "      <th>...</th>\n",
       "      <td>...</td>\n",
       "      <td>...</td>\n",
       "      <td>...</td>\n",
       "      <td>...</td>\n",
       "      <td>...</td>\n",
       "      <td>...</td>\n",
       "      <td>...</td>\n",
       "      <td>...</td>\n",
       "      <td>...</td>\n",
       "      <td>...</td>\n",
       "      <td>...</td>\n",
       "      <td>...</td>\n",
       "      <td>...</td>\n",
       "      <td>...</td>\n",
       "      <td>...</td>\n",
       "      <td>...</td>\n",
       "      <td>...</td>\n",
       "      <td>...</td>\n",
       "      <td>...</td>\n",
       "      <td>...</td>\n",
       "      <td>...</td>\n",
       "    </tr>\n",
       "    <tr>\n",
       "      <th>23646</th>\n",
       "      <td>0.910908</td>\n",
       "      <td>0.221235</td>\n",
       "      <td>6.318191</td>\n",
       "      <td>0.008962</td>\n",
       "      <td>-0.036900</td>\n",
       "      <td>4.577016</td>\n",
       "      <td>0.0</td>\n",
       "      <td>0.0</td>\n",
       "      <td>1.0</td>\n",
       "      <td>1.0</td>\n",
       "      <td>...</td>\n",
       "      <td>0.0</td>\n",
       "      <td>0.045392</td>\n",
       "      <td>-0.008935</td>\n",
       "      <td>1.450709</td>\n",
       "      <td>-0.000132</td>\n",
       "      <td>-0.000223</td>\n",
       "      <td>139.226562</td>\n",
       "      <td>0.827334</td>\n",
       "      <td>32.236720</td>\n",
       "      <td>0.003259</td>\n",
       "    </tr>\n",
       "    <tr>\n",
       "      <th>23647</th>\n",
       "      <td>1.074273</td>\n",
       "      <td>0.096656</td>\n",
       "      <td>7.153558</td>\n",
       "      <td>0.002997</td>\n",
       "      <td>-0.033312</td>\n",
       "      <td>4.407469</td>\n",
       "      <td>0.0</td>\n",
       "      <td>0.0</td>\n",
       "      <td>1.0</td>\n",
       "      <td>1.0</td>\n",
       "      <td>...</td>\n",
       "      <td>0.0</td>\n",
       "      <td>-0.046574</td>\n",
       "      <td>-0.000356</td>\n",
       "      <td>0.147642</td>\n",
       "      <td>0.000193</td>\n",
       "      <td>-0.000090</td>\n",
       "      <td>115.357422</td>\n",
       "      <td>1.066410</td>\n",
       "      <td>32.488613</td>\n",
       "      <td>0.004132</td>\n",
       "    </tr>\n",
       "    <tr>\n",
       "      <th>23648</th>\n",
       "      <td>0.068832</td>\n",
       "      <td>0.162245</td>\n",
       "      <td>21.843660</td>\n",
       "      <td>-0.085453</td>\n",
       "      <td>0.036253</td>\n",
       "      <td>3.929921</td>\n",
       "      <td>1.0</td>\n",
       "      <td>0.0</td>\n",
       "      <td>0.0</td>\n",
       "      <td>1.0</td>\n",
       "      <td>...</td>\n",
       "      <td>0.0</td>\n",
       "      <td>-0.050032</td>\n",
       "      <td>0.003455</td>\n",
       "      <td>0.512539</td>\n",
       "      <td>-0.000001</td>\n",
       "      <td>0.000025</td>\n",
       "      <td>-1141.478027</td>\n",
       "      <td>0.839126</td>\n",
       "      <td>35.381099</td>\n",
       "      <td>0.003787</td>\n",
       "    </tr>\n",
       "    <tr>\n",
       "      <th>23653</th>\n",
       "      <td>0.626500</td>\n",
       "      <td>0.266221</td>\n",
       "      <td>30.125322</td>\n",
       "      <td>0.078044</td>\n",
       "      <td>-0.183661</td>\n",
       "      <td>3.675940</td>\n",
       "      <td>0.0</td>\n",
       "      <td>0.0</td>\n",
       "      <td>1.0</td>\n",
       "      <td>1.0</td>\n",
       "      <td>...</td>\n",
       "      <td>0.0</td>\n",
       "      <td>-0.026800</td>\n",
       "      <td>-0.028621</td>\n",
       "      <td>0.021378</td>\n",
       "      <td>0.000379</td>\n",
       "      <td>0.000343</td>\n",
       "      <td>32.105469</td>\n",
       "      <td>2.079171</td>\n",
       "      <td>27.306953</td>\n",
       "      <td>0.098527</td>\n",
       "    </tr>\n",
       "    <tr>\n",
       "      <th>23654</th>\n",
       "      <td>0.826513</td>\n",
       "      <td>-0.177771</td>\n",
       "      <td>32.194164</td>\n",
       "      <td>-0.008566</td>\n",
       "      <td>-0.039828</td>\n",
       "      <td>4.280337</td>\n",
       "      <td>0.0</td>\n",
       "      <td>0.0</td>\n",
       "      <td>1.0</td>\n",
       "      <td>1.0</td>\n",
       "      <td>...</td>\n",
       "      <td>0.0</td>\n",
       "      <td>0.007087</td>\n",
       "      <td>-0.090329</td>\n",
       "      <td>-0.246464</td>\n",
       "      <td>-0.000011</td>\n",
       "      <td>0.000406</td>\n",
       "      <td>-129.294922</td>\n",
       "      <td>0.929048</td>\n",
       "      <td>34.012147</td>\n",
       "      <td>0.002677</td>\n",
       "    </tr>\n",
       "  </tbody>\n",
       "</table>\n",
       "<p>300000 rows × 21 columns</p>\n",
       "</div>"
      ],
      "text/plain": [
       "       true_x_ClosestToBeam  true_y_ClosestToBeam  true_z_ClosestToBeam  \\\n",
       "4                  0.490365             -0.477634              7.548103   \n",
       "5                  0.560771              0.216658             17.590837   \n",
       "7                  0.595299             -0.428453             15.470662   \n",
       "8                 -0.736912              5.212535            226.350449   \n",
       "9                  0.415492              0.288020              2.268929   \n",
       "...                     ...                   ...                   ...   \n",
       "23646              0.910908              0.221235              6.318191   \n",
       "23647              1.074273              0.096656              7.153558   \n",
       "23648              0.068832              0.162245             21.843660   \n",
       "23653              0.626500              0.266221             30.125322   \n",
       "23654              0.826513             -0.177771             32.194164   \n",
       "\n",
       "       true_tx_ClosestToBeam  true_ty_ClosestToBeam  mc_log10_p  mc_is_e  \\\n",
       "4                   0.076353               0.078388    3.903246      0.0   \n",
       "5                  -0.027688               0.071665    3.567113      1.0   \n",
       "7                  -0.036398              -0.050572    3.825427      0.0   \n",
       "8                   0.087482               0.012368    3.395407      0.0   \n",
       "9                   0.038918              -0.056142    3.999995      0.0   \n",
       "...                      ...                    ...         ...      ...   \n",
       "23646               0.008962              -0.036900    4.577016      0.0   \n",
       "23647               0.002997              -0.033312    4.407469      0.0   \n",
       "23648              -0.085453               0.036253    3.929921      1.0   \n",
       "23653               0.078044              -0.183661    3.675940      0.0   \n",
       "23654              -0.008566              -0.039828    4.280337      0.0   \n",
       "\n",
       "       mc_is_mu  mc_is_h  long  ...  downstream        dx        dy        dz  \\\n",
       "4           0.0      1.0   1.0  ...         0.0 -0.039365  0.001734 -0.534503   \n",
       "5           0.0      0.0   1.0  ...         0.0  0.048729 -0.046258  1.441362   \n",
       "7           0.0      1.0   1.0  ...         0.0 -0.082999  0.072653 -0.890262   \n",
       "8           0.0      1.0   1.0  ...         0.0 -0.159888 -0.236236 -2.436447   \n",
       "9           0.0      1.0   1.0  ...         0.0 -0.002792  0.059280 -0.680029   \n",
       "...         ...      ...   ...  ...         ...       ...       ...       ...   \n",
       "23646       0.0      1.0   1.0  ...         0.0  0.045392 -0.008935  1.450709   \n",
       "23647       0.0      1.0   1.0  ...         0.0 -0.046574 -0.000356  0.147642   \n",
       "23648       0.0      0.0   1.0  ...         0.0 -0.050032  0.003455  0.512539   \n",
       "23653       0.0      1.0   1.0  ...         0.0 -0.026800 -0.028621  0.021378   \n",
       "23654       0.0      1.0   1.0  ...         0.0  0.007087 -0.090329 -0.246464   \n",
       "\n",
       "            dtx       dty           dp  chi2PerDoF     nDoF_f  ghostProb  \n",
       "4      0.000036 -0.000573    35.630371    1.010721  35.225800   0.002876  \n",
       "5     -0.000567  0.000933    -4.984375    1.200072  37.308065   0.011449  \n",
       "7      0.000743 -0.000080    35.061523    0.642418  29.766196   0.004388  \n",
       "8     -0.000112  0.001636    21.905762    0.589242  31.195186   0.004228  \n",
       "9     -0.000287 -0.000029   -54.550781    1.088388  36.869881   0.003459  \n",
       "...         ...       ...          ...         ...        ...        ...  \n",
       "23646 -0.000132 -0.000223   139.226562    0.827334  32.236720   0.003259  \n",
       "23647  0.000193 -0.000090   115.357422    1.066410  32.488613   0.004132  \n",
       "23648 -0.000001  0.000025 -1141.478027    0.839126  35.381099   0.003787  \n",
       "23653  0.000379  0.000343    32.105469    2.079171  27.306953   0.098527  \n",
       "23654 -0.000011  0.000406  -129.294922    0.929048  34.012147   0.002677  \n",
       "\n",
       "[300000 rows x 21 columns]"
      ]
     },
     "execution_count": 8,
     "metadata": {},
     "output_type": "execute_result"
    }
   ],
   "source": [
    "df = reco[res_conditions + res_target].head(300_000, npartitions=10)\n",
    "display(HTML(f\"The number of rows used in this notebook is {len(df)}\"))\n",
    "df"
   ]
  },
  {
   "cell_type": "markdown",
   "id": "d8df36b3-9de3-45f0-9f91-ef3875ff9ba6",
   "metadata": {},
   "source": [
    "#### Track class representation per particle type"
   ]
  },
  {
   "cell_type": "code",
   "execution_count": 9,
   "id": "47f9ee65-b0bc-4276-8b5a-ff561bf55f42",
   "metadata": {},
   "outputs": [
    {
     "data": {
      "image/png": "[encoded data removed]",
      "text/plain": [
       "<Figure size 1200x300 with 3 Axes>"
      ]
     },
     "metadata": {},
     "output_type": "display_data"
    }
   ],
   "source": [
    "import matplotlib.pyplot as plt\n",
    "\n",
    "classes = \"long\", \"upstream\", \"downstream\"\n",
    "plt.figure(figsize=(12,3))\n",
    "for iPlot, part in enumerate(('e', 'mu', 'h'), 1):\n",
    "    plt.subplot(1,3,iPlot)\n",
    "    pdf = df.query(f'mc_is_{part}==1')\n",
    "    counts = [np.count_nonzero(pdf[c]) for c in classes]\n",
    "    plt.pie(counts, labels=classes)\n",
    "    plt.title(dict(e='Electrons', mu=\"Muons\", h=\"Hadrons\")[part])\n",
    "\n"
   ]
  },
  {
   "cell_type": "markdown",
   "id": "3d3ff5fa-81b9-42de-b2c0-a2662f4b148f",
   "metadata": {},
   "source": [
    "#### Resolution function per particle type"
   ]
  },
  {
   "cell_type": "code",
   "execution_count": 10,
   "id": "45396ae8-5a88-4440-98db-4cb58c7f78ca",
   "metadata": {},
   "outputs": [
    {
     "data": {
      "image/png": "[encoded data removed]",
      "text/plain": [
       "<Figure size 800x600 with 6 Axes>"
      ]
     },
     "metadata": {},
     "output_type": "display_data"
    }
   ],
   "source": [
    "pure_res_vars = res_target[:6]\n",
    "\n",
    "plt.figure(figsize=(8,6))\n",
    "for iPlot, var in enumerate(pure_res_vars, 1):\n",
    "    for part in ('e', 'mu', 'h'):\n",
    "        plt.subplot(2,3,iPlot)\n",
    "        label=dict(e='$e^{\\pm}$', mu=\"$\\mu^{\\pm}$\", h=\"$h^{\\pm}$\")[part]\n",
    "        plt.hist(df.query(f'mc_is_{part}==1')[var], bins=100, label=label, histtype='step', linewidth=2, density=True)\n",
    "        plt.xlabel(var)\n",
    "        plt.yscale('log')\n",
    "        plt.legend()\n",
    "\n",
    "plt.tight_layout()\n",
    "plt.show()\n"
   ]
  },
  {
   "cell_type": "markdown",
   "id": "941a16cd-3225-464f-97ac-48c1265abecb",
   "metadata": {},
   "source": [
    "#### Track-quality metrics per particle type"
   ]
  },
  {
   "cell_type": "code",
   "execution_count": 11,
   "id": "f44bcd57-d0cd-42de-99c6-18aef6f7846c",
   "metadata": {},
   "outputs": [
    {
     "data": {
      "image/png": "[encoded data removed]",
      "text/plain": [
       "<Figure size 1000x300 with 3 Axes>"
      ]
     },
     "metadata": {},
     "output_type": "display_data"
    }
   ],
   "source": [
    "track_quality = res_target[6:]\n",
    "\n",
    "plt.figure(figsize=(10,3))\n",
    "for iPlot, var in enumerate(track_quality, 1):\n",
    "    for part in ('e', 'mu', 'h'):\n",
    "        plt.subplot(1,3,iPlot)\n",
    "        label=dict(e='$e^{\\pm}$', mu=\"$\\mu^{\\pm}$\", h=\"$h^{\\pm}$\")[part]\n",
    "        plt.hist(df.query(f'mc_is_{part}==1')[var], bins=100, label=label, histtype='step', linewidth=2, density=True)\n",
    "        plt.xlabel(var)\n",
    "        plt.yscale('log')\n",
    "        if iPlot==3: plt.legend()\n",
    "\n",
    "plt.tight_layout()\n",
    "plt.show()\n"
   ]
  },
  {
   "cell_type": "markdown",
   "id": "b34b302c-11e8-4fcf-a621-8c1d62af3730",
   "metadata": {},
   "source": [
    "#### Resolution function per particle type"
   ]
  },
  {
   "cell_type": "code",
   "execution_count": 12,
   "id": "53db85b0-5a11-4f5b-8d81-6361d83ceeff",
   "metadata": {},
   "outputs": [
    {
     "data": {
      "image/png": "[encoded data removed]",
      "text/plain": [
       "<Figure size 1000x600 with 6 Axes>"
      ]
     },
     "metadata": {},
     "output_type": "display_data"
    }
   ],
   "source": [
    "pure_res_vars = res_target[:6]\n",
    "\n",
    "plt.figure(figsize=(10,6))\n",
    "for iPlot, var in enumerate(pure_res_vars, 1):\n",
    "    for track_type in ('long', 'upstream', 'downstream'):\n",
    "        plt.subplot(2,3,iPlot)\n",
    "        label=track_type.capitalize()\n",
    "        plt.hist(df.query(f'{track_type}==1')[var], bins=100, label=label, histtype='step', linewidth=2, density=True)\n",
    "        plt.xlabel(var)\n",
    "        plt.yscale('log')\n",
    "        if iPlot==6: plt.legend()\n",
    "\n",
    "plt.tight_layout()\n",
    "plt.show()\n"
   ]
  },
  {
   "cell_type": "markdown",
   "id": "34945a13-bc13-4119-8e75-f4d76b1ca47a",
   "metadata": {},
   "source": [
    "## Preprocessing  (*resolution model*)\n",
    "\n",
    "We are using the `ColumnTransformer` class from *scikit-learn* to apply different preprocessing to the real and boolean features. \n",
    "Boolean features are passed through as they are, while a `QuantumTransformer` (once again from *scikit-learn*) is used to transform the real quantities in gaussian-distributed features.\n",
    "\n",
    "As a difference with acceptance and efficiency models, for GAN-models the preprocessing of the output features is also critical.\n",
    "As all of the output features are real features, we transform everything with a `QuantileTransformer`.\n"
   ]
  },
  {
   "cell_type": "code",
   "execution_count": 13,
   "id": "97b93de8-e234-41bf-b51d-b7c9ad592add",
   "metadata": {},
   "outputs": [],
   "source": [
    "from sklearn.compose import ColumnTransformer\n",
    "from sklearn.preprocessing import QuantileTransformer\n",
    "\n",
    "n_features = len(res_real_conditions)\n",
    "n_flags = len(res_flags)\n",
    "n_target = len(res_target)\n",
    "\n",
    "tX = ColumnTransformer([\n",
    "    ('features', QuantileTransformer(output_distribution='normal'), np.arange(n_features)),\n",
    "    ('flags', \"passthrough\", n_features + np.arange(n_flags)),\n",
    "]).fit(df[res_conditions].values)\n",
    "\n",
    "tY = QuantileTransformer(output_distribution='normal').fit(df[res_target].values)"
   ]
  },
  {
   "cell_type": "markdown",
   "id": "62ca04b8-c912-4602-bdfe-84deccee8f14",
   "metadata": {},
   "source": [
    "The preprocessing steps must be stored in the same folder as the trained model for further validation and deployment."
   ]
  },
  {
   "cell_type": "code",
   "execution_count": 14,
   "id": "3272ecfe-e18b-4d06-af19-dc2fda3134b2",
   "metadata": {},
   "outputs": [
    {
     "data": {
      "text/html": [
       "<B>Preprocessing step stored in: </B><PRE>/mlinfn/shared/lamarr/scapelli/trained_models/2016MU/10134000/models/resolution/tX.pkl</PRE>"
      ],
      "text/plain": [
       "<IPython.core.display.HTML object>"
      ]
     },
     "metadata": {},
     "output_type": "display_data"
    },
    {
     "data": {
      "text/html": [
       "<B>Preprocessing step stored in: </B><PRE>/mlinfn/shared/lamarr/scapelli/trained_models/2016MU/10134000/models/resolution/tY.pkl</PRE>"
      ],
      "text/plain": [
       "<IPython.core.display.HTML object>"
      ]
     },
     "metadata": {},
     "output_type": "display_data"
    }
   ],
   "source": [
    "from preprocessing_utils import store_as_pickle, split_and_store\n",
    "\n",
    "display(store_as_pickle(tX, \"RESOLUTION_PREPROCESSING_X\", environ['MODEL_STORAGE']+\"/models/resolution/tX.pkl\"))\n",
    "display(store_as_pickle(tY, \"RESOLUTION_PREPROCESSING_Y\", environ['MODEL_STORAGE']+\"/models/resolution/tY.pkl\"))"
   ]
  },
  {
   "cell_type": "markdown",
   "id": "11a44542-fce7-4786-96ae-852310d854ca",
   "metadata": {},
   "source": [
    "### Train, test and validation\n",
    "\n",
    "The dataset is split in:\n",
    " * *train* (50%) used for training the model\n",
    " * *test* (40%) used for measuring the performance of the model\n",
    " * *validation* (10%) used in combination with the train dataset to check for overtraining effects\n",
    " \n",
    "Split data is stored on disk in chunks of 100 MB (before compression)."
   ]
  },
  {
   "cell_type": "code",
   "execution_count": null,
   "id": "ffe564cc-4e81-4ad2-8cc3-7882596bda37",
   "metadata": {},
   "outputs": [
    {
     "name": "stdout",
     "output_type": "stream",
     "text": [
      "Processing /mlinfn/shared/lamarr/scapelli/lb-trksim-train/notebooks/feather_folder/2016MU/10134000/resolution-train\n"
     ]
    }
   ],
   "source": [
    "entries = split_and_store(\n",
    "    reco[res_conditions + res_target],\n",
    "    [\n",
    "        (0.5, environ.get(\"RESOLUTION_TRAIN\", \"resolution-train\")),\n",
    "        (0.4, environ.get(\"RESOLUTION_TEST\", \"resolution-test\")),\n",
    "        (0.1, environ.get(\"RESOLUTION_VALIDATION\", \"resolution-validation\"))\n",
    "    ],\n",
    "    chunksize=\"100MB\",\n",
    "    features=res_conditions,\n",
    "    labels=res_target,\n",
    "    preprocessorX=tX,\n",
    "    preprocessorY=tY\n",
    ")\n",
    "    \n",
    "pd.DataFrame(entries, index=[\"Train\", \"Test\", \"Validation\"])"
   ]
  },
  {
   "cell_type": "markdown",
   "id": "d0be3e18-2946-451a-b4ea-99b7e86ad5c6",
   "metadata": {},
   "source": [
    "# Covariance model\n",
    "\n",
    "The covariance model will take as an input the same generator-level features as the resolution model, plus the track-quality features (possibly predicted by the resolution GAN). In this way, the correlation between the track quality and the uncertainty on the track parameters is preserved.\n",
    "\n",
    "We aim at obtaining from the model the description of the covariance matrix. However, to ease the training task we are introducing the following (reversible) simplifications:\n",
    " * as the covariance matrix is symmetric, we are learning only the diagonal and lower-triangular parts;\n",
    " * the elements of the diagional are positive, we will learn they logarithm to avoid the GAN producing negative predictions;\n",
    " * to reduce the correlation between the diagonal elements and the off-diagonal elements on the same row/column, we model the correlation instead of the covariance.\n",
    " \n",
    "> **Note.** We have not validated that the last tweak, originated from intuition, is actually needed. In principle, the decorrelation step might be sufficient to remove these correlations. However, this transform is not linear and applying it is harmless: it is lossless and the overhead for inversion is negligible. Still, we might review this step in the future.\n"
   ]
  },
  {
   "cell_type": "code",
   "execution_count": null,
   "id": "74b6ce02-2ae6-49f4-9e97-224fadcf7560",
   "metadata": {},
   "outputs": [],
   "source": [
    "def compute_log_cov(df):\n",
    "    for i in range(5):\n",
    "        df[f'log_cov_ClosestToBeam_{i}_{i}'] = np.log(df[f'cov_ClosestToBeam_{i}_{i}'])\n",
    "    return df\n",
    "\n",
    "def compute_correlation(df):\n",
    "    for i in range(5):\n",
    "        for j in range(i):\n",
    "            cov_ji = df[f'cov_ClosestToBeam_{j}_{i}']\n",
    "            cov_ii = df[f'cov_ClosestToBeam_{i}_{i}']\n",
    "            cov_jj = df[f'cov_ClosestToBeam_{j}_{j}']\n",
    "            \n",
    "            df[f'corr_ClosestToBeam_{j}_{i}'] = cov_ji/(cov_ii*cov_jj)**0.5\n",
    "    \n",
    "    return df\n",
    "\n",
    "        \n",
    "cov_genlevel_real_conditions = [\n",
    "    'true_x_ClosestToBeam', 'true_y_ClosestToBeam', 'true_z_ClosestToBeam', \n",
    "    'true_tx_ClosestToBeam', 'true_ty_ClosestToBeam', 'mc_log10_p',\n",
    "]\n",
    "cov_track_real_conditions = ['chi2PerDoF', 'nDoF_f', 'ghostProb']\n",
    "\n",
    "cov_real_conditions = cov_genlevel_real_conditions + cov_track_real_conditions\n",
    "\n",
    "cov_flags = ['mc_is_e', 'mc_is_mu', 'mc_is_h', 'long', 'upstream', 'downstream']\n",
    "\n",
    "cov_diagonals = [f'log_cov_ClosestToBeam_{i}_{i}' for i in range(5)]\n",
    "cov_corr = [f'corr_ClosestToBeam_{j}_{i}' for i in range(5) for j in range(i)]\n",
    "\n",
    "cov_conditions = cov_real_conditions + cov_flags\n",
    "cov_target = cov_diagonals + cov_corr"
   ]
  },
  {
   "cell_type": "markdown",
   "id": "8160e019-8e44-4705-acc4-712de91291ad",
   "metadata": {},
   "source": [
    "The complete list of input and output features follow:"
   ]
  },
  {
   "cell_type": "code",
   "execution_count": null,
   "id": "5ecc876f-5697-4d79-bed0-2afd92787e14",
   "metadata": {},
   "outputs": [],
   "source": [
    "list_vars(\"Input features (generator-level)\", cov_genlevel_real_conditions)\n",
    "list_vars(\"Input features (from resolution GAN)\", cov_track_real_conditions)\n",
    "list_vars(\"Input features (boolean flags)\", cov_flags)\n",
    "list_vars(\"Output features (diagonal)\", cov_diagonals)\n",
    "list_vars(\"Output features (correlations)\", cov_corr)"
   ]
  },
  {
   "cell_type": "markdown",
   "id": "84c04b7f-a538-4d57-aa94-a5460f81a62b",
   "metadata": {},
   "source": [
    "### Some distributions of the features\n",
    "As for the resolution, we plot some distributions of the input and output features before applying the *scikit-learn* preprocessing steps. As mentioned above, the purpose of these plots is to identify error values resulting in large spikes, or unphysical outlayers in the distributions.\n",
    "\n",
    "We will use a fraction of the complete dataset with 1M rows to fill these histograms and to train the preprocessing steps."
   ]
  },
  {
   "cell_type": "code",
   "execution_count": null,
   "id": "17555990-9bf8-4f88-a9d7-7cee54b7340d",
   "metadata": {},
   "outputs": [],
   "source": [
    "cov_data = (reco\n",
    "      .map_partitions(compute_log_cov)\n",
    "      .map_partitions(compute_correlation)\n",
    "      [cov_conditions + cov_target]\n",
    "     )\n",
    "\n",
    "df = cov_data.head(1_000_000, npartitions=-1)"
   ]
  },
  {
   "cell_type": "code",
   "execution_count": null,
   "id": "6546a643-ee62-4b78-948a-f674959513fd",
   "metadata": {},
   "outputs": [],
   "source": [
    "plt.figure(figsize=(20, 8))\n",
    "\n",
    "df_fig = cov_data[cov_target].head(1_000_000, npartitions=-1)\n",
    "for iVar, var in enumerate(cov_target, 1):\n",
    "    plt.subplot(3, 5, iVar)\n",
    "    low, high = np.quantile(df_fig[var].values, [1e-4, 1-1e-4])\n",
    "    \n",
    "    plt.hist(df_fig[var], bins=30)\n",
    "    plt.yscale('log')\n",
    "    ylim = plt.ylim()\n",
    "    plt.plot([low]*2, ylim, 'k--')\n",
    "    plt.plot([high]*2, ylim, 'k--')\n",
    "    plt.ylim(ylim)\n",
    "    plt.xlabel(var)\n",
    "    \n",
    "\n",
    "plt.tight_layout()\n",
    "plt.show()"
   ]
  },
  {
   "cell_type": "markdown",
   "id": "a4340ba1-85ff-4757-9a57-79ccab8c44f7",
   "metadata": {},
   "source": [
    "## Preprocessing (*covariance model*)\n",
    "\n",
    "The preprocessing of the **input features** is very similar to the one adopted for the resolution model.\n",
    "In particular, we are using a *scikit-learn* `ColumnTransformer` combining the application of a `QuantileTransformer` to the real features and ignoring (*passthrough*) the boolean flags.\n",
    "\n",
    "For the **output features** the preprocessing step is actually the sequential combination (*pipeline*) of three algorithms:\n",
    " * A [`StandardScaler`](https://scikit-learn.org/stable/modules/generated/sklearn.preprocessing.StandardScaler.html) to correct for the different order of magnitude of the different rows (and columns) of the covariance matrix, due to the unfortunate choice of units in LHCb\n",
    " * A custom `DecorrTransformer` implemented as part of the [`preprocessing_utils`](/preprocessing_utils.py) module, with:\n",
    "   * a \"fitting\" step composed of the following steps:\n",
    "     * computing the covariance matrix of the inputs (in this case, it will the covariance matrix of the covariance matrix elements which may sound confusing, but the first covariance matrix describes the correlation between different instances of the trak covariance matrix obtained fitting the hits into track objects)\n",
    "     * computing the eigen vectors of the covariance matrix\n",
    "   * a \"transformation\" step obtained multiplying the matrix defined by the eigen vectors with the inputs.\n",
    "   \n",
    "The documentation of the of the `DecorrTransformer` is copy-pasted below for reference."
   ]
  },
  {
   "cell_type": "code",
   "execution_count": null,
   "id": "360ea0ca-1538-4ec7-a12f-6f34234b2efc",
   "metadata": {},
   "outputs": [],
   "source": [
    "from preprocessing_utils import DecorrTransformer\n",
    "help(DecorrTransformer)"
   ]
  },
  {
   "cell_type": "code",
   "execution_count": null,
   "id": "42496732-1662-4bfe-af49-2ade06ba58fc",
   "metadata": {},
   "outputs": [],
   "source": [
    "from sklearn.compose import ColumnTransformer\n",
    "from sklearn.preprocessing import QuantileTransformer, MinMaxScaler, StandardScaler\n",
    "from sklearn.pipeline import Pipeline\n",
    "\n",
    "n_features = len(cov_real_conditions)\n",
    "n_flags = len(cov_flags)\n",
    "n_target = len(cov_target)\n",
    "\n",
    "tX = ColumnTransformer([\n",
    "    ('features', QuantileTransformer(output_distribution='normal'), np.arange(n_features)),\n",
    "    ('flags', \"passthrough\", n_features + np.arange(n_flags)),\n",
    "]).fit(df[cov_conditions].values)\n",
    "\n",
    "\n",
    "tY = Pipeline([\n",
    "    ('minmax', StandardScaler()),\n",
    "    ('decorr', DecorrTransformer()),\n",
    "    ('quantile', QuantileTransformer(output_distribution='normal'))\n",
    "]).fit(df[cov_target].values)\n",
    "     "
   ]
  },
  {
   "cell_type": "markdown",
   "id": "70905056-8916-45e0-afd0-1ea9db6e0789",
   "metadata": {},
   "source": [
    "### Distributions of the transformed variables\n",
    "\n",
    "The plot below represents the outcome of the preprocessing, showing the distributions of the preprocessed quantities and indicating the boundaries corresponding to the 99.98% of the dataset."
   ]
  },
  {
   "cell_type": "code",
   "execution_count": null,
   "id": "fa113704-3d03-4b47-87a3-56e55c6fd722",
   "metadata": {},
   "outputs": [],
   "source": [
    "plt.figure(figsize=(20, 8))\n",
    "\n",
    "df_fig = cov_data[cov_target].head(1_000_000, npartitions=-1)\n",
    "transformed = tY.transform(df_fig.values)\n",
    "\n",
    "for iVar, _ in enumerate(cov_target, 1):\n",
    "    plt.subplot(3, 5, iVar)\n",
    "    column = transformed[:, iVar-1]\n",
    "    low, high = np.quantile(column, [1e-4, 1-1e-4])\n",
    "    \n",
    "    plt.hist(column, bins=30)\n",
    "    plt.yscale('log')\n",
    "    ylim = plt.ylim()\n",
    "    plt.plot([low]*2, ylim, 'k--')\n",
    "    plt.plot([high]*2, ylim, 'k--')\n",
    "    plt.ylim(ylim)\n",
    "    plt.xlabel(f\"Var #{iVar}\")\n",
    "    \n",
    "plt.tight_layout()\n",
    "plt.show()"
   ]
  },
  {
   "cell_type": "markdown",
   "id": "6c838eb0-87f3-4d85-a0d4-d347450ba251",
   "metadata": {},
   "source": [
    "### Storing the preprocessing steps\n",
    "\n",
    "The preprocessing steps are stored with pickle in the same folder where we will store the trained models."
   ]
  },
  {
   "cell_type": "code",
   "execution_count": null,
   "id": "796766d8-1c76-48a6-8e27-e05a04ea0097",
   "metadata": {},
   "outputs": [],
   "source": [
    "from preprocessing_utils import store_as_pickle, split_and_store\n",
    "\n",
    "display(store_as_pickle(tX, \"COVARIANCE_PREPROCESSING_X\", environ['MODEL_STORAGE']+\"/models/covariance/tX.pkl\"))\n",
    "display(store_as_pickle(tY, \"COVARIANCE_PREPROCESSING_Y\", environ['MODEL_STORAGE']+\"/models/covariance/tY.pkl\"))"
   ]
  },
  {
   "cell_type": "markdown",
   "id": "04acbae9-3d7f-4081-a5c4-e67a61f286a3",
   "metadata": {},
   "source": [
    "Consistently with resolution model, the preprocessed dataset is split in:\n",
    " * *train* (50%) used for training the model\n",
    " * *test* (40%) used for measuring the performance of the model\n",
    " * *validation* (10%) used in combination with the train dataset to check for overtraining effects\n",
    " \n",
    "Split data is stored on disk in chunks of 100 MB (before compression)."
   ]
  },
  {
   "cell_type": "code",
   "execution_count": null,
   "id": "64f4e7dd-1360-43cd-97cb-94551f1413be",
   "metadata": {},
   "outputs": [],
   "source": [
    "entries = split_and_store(\n",
    "    cov_data,\n",
    "    [\n",
    "        (0.5, environ.get(\"COVARIANCE_TRAIN\", \"covariance-train\")),\n",
    "        (0.4, environ.get(\"COVARIANCE_TEST\", \"covariance-test\")),\n",
    "        (0.1, environ.get(\"COVARIANCE_VALIDATION\", \"covariance-validation\"))\n",
    "    ],\n",
    "    chunksize=\"100MB\",\n",
    "    features=cov_conditions,\n",
    "    labels=cov_target,\n",
    "    preprocessorX=tX,\n",
    "    preprocessorY=tY\n",
    ")\n",
    "    \n",
    "pd.DataFrame(entries, index=[\"Train\", \"Test\", \"Validation\"])"
   ]
  },
  {
   "cell_type": "markdown",
   "id": "18216b1d-48c5-4188-a7ad-4593a0dbaf62",
   "metadata": {},
   "source": [
    "# Summary and conclusion\n",
    "In this notebook, we described the preprocessing steps for the training of the resolution and the covariance model.\n",
    "Both models will rely on Generative Adversarial Networks for which we need to preprocess both the input and the output features.\n",
    "\n",
    "In summary,\n",
    " * Resolution model\n",
    "     * Preprocessing of the input:\n",
    "         * Passthrough for the boolean variables\n",
    "         * QuantileTransformer for real features\n",
    "     * Preprocessing of the output:\n",
    "         * QuantileTransformer for real features\n",
    " * Covariance model\n",
    "     * Preprocessing of the input:\n",
    "         * Passthrough for the boolean variables\n",
    "         * QuantileTransformer for real features\n",
    "     * Preprocessing of the output:\n",
    "         * Pipeline of the following transformations:\n",
    "             * MinMaxScaler \n",
    "             * Custom DecorrTransformer\n",
    "             * QuantileTransformer \n",
    "\n",
    "In addition, please note that the output of the covariance model is not the covariance matrix itself, but:\n",
    " * the $\\log$-values of the diagonal elements of the covariance matrix\n",
    " * the values of the off-diagonal elements of the correlation matrix\n",
    "\n",
    "All the QuantileTransformer employed in this notebook use a normal distribution as output."
   ]
  },
  {
   "cell_type": "code",
   "execution_count": null,
   "id": "113978ab-8723-41fe-8d13-80a39651d61e",
   "metadata": {},
   "outputs": [],
   "source": [
    "### export notebooks for comparisons\n",
    "if environ.get('NB_EXPORT',\"False\")==\"True\":\n",
    "    from os import system,makedirs\n",
    "    nb_save  = f\"{environ['HOME_DIR']}/notebooks_exports\"         # export output dir\n",
    "    nb_save  = nb_save+environ['TRAINING_DATA_FOLDER']            # according to train data\n",
    "    makedirs(nb_save,exist_ok=True)          \n",
    "    \n",
    "    nbs_path = f\"{environ['HOME_DIR']}/lb-trksim-train/notebooks\" # notebooks folder\n",
    "    nb_filename = \"Preprocessing-GANs.ipynb\"                      # notebook name\n",
    "    extensions  = [\"html\",\"pdf\"]                                  # export formats\n",
    "    for ext in extensions:\n",
    "        system(\"jupyter nbconvert --log-level=40 --no-input --output-dir {0} --to {1} {2}/{3}\".format(nb_save,ext.upper(),nbs_path,nb_filename))\n",
    "    print(\"Exported {} as {} in {}\".format(nb_filename,','.join(extensions),nb_save))"
   ]
  }
 ],
 "metadata": {
  "kernelspec": {
   "display_name": "HEP",
   "language": "python",
   "name": "hep"
  },
  "language_info": {
   "codemirror_mode": {
    "name": "ipython",
    "version": 3
   },
   "file_extension": ".py",
   "mimetype": "text/x-python",
   "name": "python",
   "nbconvert_exporter": "python",
   "pygments_lexer": "ipython3",
   "version": "3.9.15"
  }
 },
 "nbformat": 4,
 "nbformat_minor": 5
}
