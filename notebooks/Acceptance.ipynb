{
 "cells": [
  {
   "cell_type": "code",
   "execution_count": 1,
   "id": "ad51e3e0-745e-47aa-bcae-94e99dae277e",
   "metadata": {},
   "outputs": [],
   "source": [
    "### Defining Environment variables pointing to user folders\n",
    "from os import environ,path\n",
    "\n",
    "environ.setdefault('HOME_DIR', \"/workarea/local/shared/\"+ environ['USERNAME'])\n",
    "environ.setdefault('TRAINING_DATA_FOLDER',\"/j100\")\n",
    "environ.setdefault('MODEL_STORAGE',environ['HOME_DIR']+\"/trained_models\"+environ['TRAINING_DATA_FOLDER'])\n",
    "\n",
    "feather_folder = environ['HOME_DIR']+\"/lb-trksim-train/notebooks/feather_folder\"+environ['TRAINING_DATA_FOLDER']\n",
    "environ.setdefault(\"TRAIN_DATA\"     , feather_folder+\"/acceptance-train\")\n",
    "environ.setdefault(\"VALIDATION_DATA\", feather_folder+\"/acceptance-validation\")\n",
    "\n",
    "environ.setdefault(\"MODEL_VARIANT\",\"v1\")\n",
    "default_output_model = \"/models/acceptance/saved_model.pb\"\n",
    "if environ['MODEL_VARIANT'] != '':\n",
    "    model_path,model_name = path.split(default_output_model)\n",
    "    default_output_model = path.join(model_path,environ['MODEL_VARIANT'], model_name)\n",
    "environ.setdefault('OUTPUT_MODEL',environ['MODEL_STORAGE']+default_output_model)\n",
    "\n",
    "_ = environ.setdefault('NB_EXPORT',\"True\") # whether export notebooks"
   ]
  },
  {
   "cell_type": "markdown",
   "id": "5a0699d4-d4cf-41c8-a6c5-659315a44215",
   "metadata": {},
   "source": [
    "# Training of the *Acceptance model*\n",
    "##### Tested on environment `TensorFlow on GPU` from [landerlini/lhcbaf:v0p8](https://hub.docker.com/r/landerlini/lhcbaf)\n",
    "\n",
    "In this notebook we setup the training for the acceptance model, based on a Deep Neural Network.\n",
    "\n",
    "This notebook is part of a pipeline and requires the data preprocessed with the notebook [Preprocessing.ipynb](./Preprocessing.ipynb)."
   ]
  },
  {
   "cell_type": "markdown",
   "id": "d3612458-b5cf-4f2d-a689-b2c60d288ba8",
   "metadata": {},
   "source": [
    "## Enviornment setup and libraries\n",
    "\n",
    "In this notebooks we will use the standard software stack for TensorFlow machine learning applications."
   ]
  },
  {
   "cell_type": "code",
   "execution_count": 2,
   "id": "8193534e-829a-4c24-b72f-8129cd6f98e2",
   "metadata": {},
   "outputs": [],
   "source": [
    "import numpy as np\n",
    "import matplotlib.pyplot as plt\n",
    "import pandas as pd\n",
    "from os import environ\n",
    "\n",
    "## Remove annoying warnings \n",
    "environ['TF_CPP_MIN_LOG_LEVEL'] = '3' \n",
    "import tensorflow as tf"
   ]
  },
  {
   "cell_type": "markdown",
   "id": "069e1277-35fb-4374-b20e-2ed7f8f8b1da",
   "metadata": {},
   "source": [
    "To ensure a GPU is found and properly loaded in the notebook kernel to the benefit of TensorFlow, the output of the following block should be similar to `'/device:GPU:0'`.\n",
    "If a GPU is not found, the string will be empty."
   ]
  },
  {
   "cell_type": "code",
   "execution_count": 3,
   "id": "1f29d256",
   "metadata": {
    "collapsed": false,
    "jupyter": {
     "outputs_hidden": false
    },
    "pycharm": {
     "name": "#%%\n"
    }
   },
   "outputs": [
    {
     "data": {
      "text/plain": [
       "'/device:GPU:0'"
      ]
     },
     "execution_count": 3,
     "metadata": {},
     "output_type": "execute_result"
    }
   ],
   "source": [
    "tf.test.gpu_device_name()"
   ]
  },
  {
   "cell_type": "markdown",
   "id": "503649cf-0257-44cf-97d6-6e6d328d9d4b",
   "metadata": {},
   "source": [
    "## Load datasets\n",
    "\n",
    "Preprocessed datasets were stored in *Apache feather* format and can be reloaded with our custom `FeatherReader` designed to stream the datasets into TensorFlow or Dask format.\n",
    "\n",
    "We are loading in particular:\n",
    " * the **training** dataset to train the network\n",
    " * the **validation** dataset to evaluate the network performance at each epoch and identify overtraining effects"
   ]
  },
  {
   "cell_type": "code",
   "execution_count": 4,
   "id": "5e7c6bff-691b-4bba-b5f8-df053b1d9f69",
   "metadata": {},
   "outputs": [],
   "source": [
    "from feather_io import FeatherReader    \n",
    "\n",
    "train_dataset = FeatherReader(environ.get(\"TRAIN_DATA\", \"acceptance-train\")).as_tf_dataset()\n",
    "validation_dataset = FeatherReader(environ.get(\"VALIDATION_DATA\", \"acceptance-validation\")).as_tf_dataset()"
   ]
  },
  {
   "cell_type": "markdown",
   "id": "880f3727-f5cf-4790-8901-a85e098fe54a",
   "metadata": {},
   "source": [
    "We load a small batch of data to identify the number of conditional and target features and automate the definition of the neural network architecture."
   ]
  },
  {
   "cell_type": "code",
   "execution_count": 5,
   "id": "e1786ea4-e8ef-4f26-9e83-11b9afd9db1e",
   "metadata": {},
   "outputs": [
    {
     "data": {
      "text/plain": [
       "TensorShape([1000000, 12])"
      ]
     },
     "execution_count": 5,
     "metadata": {},
     "output_type": "execute_result"
    }
   ],
   "source": [
    "X, y = next(iter(train_dataset.batch(1_000_000)))\n",
    "X.shape"
   ]
  },
  {
   "cell_type": "markdown",
   "id": "8def767c-4f6a-4cd2-8521-48c886e85088",
   "metadata": {},
   "source": [
    "## Model definition\n",
    "\n",
    "The function we are modelling is not a trivial one, requiring a sufficiently deep neural network.\n",
    "In order to limit the effect of the vanishing gradient and make the trainig procedure faster, we are using the concept of Residual Layer, introducing skipping connections between the input and the output of each layer.\n",
    "\n",
    "With residual layers, the neural network is trained to learn the deviation from identity which is a much less demanding task than learning the whole transformation.\n",
    "\n",
    "The output layer of the neural network has a sigmoid activation function to be mapped into the interval 0-1 and being interpreted as the **probability for the particle of being in acceptance**.\n",
    "\n"
   ]
  },
  {
   "cell_type": "code",
   "execution_count": 6,
   "id": "0a1b3eb5",
   "metadata": {
    "collapsed": false,
    "jupyter": {
     "outputs_hidden": false
    },
    "pycharm": {
     "name": "#%%\n"
    }
   },
   "outputs": [
    {
     "name": "stdout",
     "output_type": "stream",
     "text": [
      "Model: \"model\"\n",
      "__________________________________________________________________________________________________\n",
      "Layer (type)                    Output Shape         Param #     Connected to                     \n",
      "==================================================================================================\n",
      "input_1 (InputLayer)            [(None, 12)]         0                                            \n",
      "__________________________________________________________________________________________________\n",
      "dense (Dense)                   (None, 128)          1664        input_1[0][0]                    \n",
      "__________________________________________________________________________________________________\n",
      "dense_1 (Dense)                 (None, 128)          16512       dense[0][0]                      \n",
      "__________________________________________________________________________________________________\n",
      "add (Add)                       (None, 128)          0           dense[0][0]                      \n",
      "                                                                 dense_1[0][0]                    \n",
      "__________________________________________________________________________________________________\n",
      "dense_2 (Dense)                 (None, 128)          16512       add[0][0]                        \n",
      "__________________________________________________________________________________________________\n",
      "add_1 (Add)                     (None, 128)          0           add[0][0]                        \n",
      "                                                                 dense_2[0][0]                    \n",
      "__________________________________________________________________________________________________\n",
      "dense_3 (Dense)                 (None, 128)          16512       add_1[0][0]                      \n",
      "__________________________________________________________________________________________________\n",
      "add_2 (Add)                     (None, 128)          0           add_1[0][0]                      \n",
      "                                                                 dense_3[0][0]                    \n",
      "__________________________________________________________________________________________________\n",
      "dense_4 (Dense)                 (None, 128)          16512       add_2[0][0]                      \n",
      "__________________________________________________________________________________________________\n",
      "add_3 (Add)                     (None, 128)          0           add_2[0][0]                      \n",
      "                                                                 dense_4[0][0]                    \n",
      "__________________________________________________________________________________________________\n",
      "dense_5 (Dense)                 (None, 128)          16512       add_3[0][0]                      \n",
      "__________________________________________________________________________________________________\n",
      "add_4 (Add)                     (None, 128)          0           add_3[0][0]                      \n",
      "                                                                 dense_5[0][0]                    \n",
      "__________________________________________________________________________________________________\n",
      "dense_6 (Dense)                 (None, 128)          16512       add_4[0][0]                      \n",
      "__________________________________________________________________________________________________\n",
      "add_5 (Add)                     (None, 128)          0           add_4[0][0]                      \n",
      "                                                                 dense_6[0][0]                    \n",
      "__________________________________________________________________________________________________\n",
      "dense_7 (Dense)                 (None, 128)          16512       add_5[0][0]                      \n",
      "__________________________________________________________________________________________________\n",
      "add_6 (Add)                     (None, 128)          0           add_5[0][0]                      \n",
      "                                                                 dense_7[0][0]                    \n",
      "__________________________________________________________________________________________________\n",
      "dense_8 (Dense)                 (None, 128)          16512       add_6[0][0]                      \n",
      "__________________________________________________________________________________________________\n",
      "add_7 (Add)                     (None, 128)          0           add_6[0][0]                      \n",
      "                                                                 dense_8[0][0]                    \n",
      "__________________________________________________________________________________________________\n",
      "dense_9 (Dense)                 (None, 128)          16512       add_7[0][0]                      \n",
      "__________________________________________________________________________________________________\n",
      "add_8 (Add)                     (None, 128)          0           add_7[0][0]                      \n",
      "                                                                 dense_9[0][0]                    \n",
      "__________________________________________________________________________________________________\n",
      "dense_10 (Dense)                (None, 128)          16512       add_8[0][0]                      \n",
      "__________________________________________________________________________________________________\n",
      "add_9 (Add)                     (None, 128)          0           add_8[0][0]                      \n",
      "                                                                 dense_10[0][0]                   \n",
      "__________________________________________________________________________________________________\n",
      "dense_11 (Dense)                (None, 1)            129         add_9[0][0]                      \n",
      "==================================================================================================\n",
      "Total params: 166,913\n",
      "Trainable params: 166,913\n",
      "Non-trainable params: 0\n",
      "__________________________________________________________________________________________________\n"
     ]
    }
   ],
   "source": [
    "input = tf.keras.layers.Input(batch_input_shape=[None]+X.shape[1:])\n",
    "x = tf.keras.layers.Dense(\n",
    "    128, activation='tanh',\n",
    "    kernel_initializer='he_normal',\n",
    "    kernel_regularizer=tf.keras.regularizers.L2(1e-3)\n",
    ")(input)\n",
    "\n",
    "for i in range(10):\n",
    "    r = tf.keras.layers.Dense(128, activation='tanh', kernel_initializer='zeros')(x)\n",
    "    x = tf.keras.layers.Add()([x, r])\n",
    "x = tf.keras.layers.Dense(1, activation='sigmoid', kernel_initializer='he_normal')(x)\n",
    "\n",
    "model = tf.keras.Model(inputs=[input], outputs=[x])\n",
    "model.summary()"
   ]
  },
  {
   "cell_type": "markdown",
   "id": "2a0087b1-11c1-4f6a-9070-035b6a82ded4",
   "metadata": {},
   "source": [
    "The rest of the training procedure is rather standard:\n",
    " * loss function: [binary cross-entropy](https://www.tensorflow.org/api_docs/python/tf/keras/losses/BinaryCrossentropy)\n",
    " * optimizer: [RMSprop](https://www.tensorflow.org/api_docs/python/tf/keras/optimizers/experimental/RMSprop) or [Adam](https://www.tensorflow.org/api_docs/python/tf/keras/optimizers/Adam)"
   ]
  },
  {
   "cell_type": "code",
   "execution_count": 7,
   "id": "ca8c457b-076b-4340-996f-695ae7598c3c",
   "metadata": {},
   "outputs": [],
   "source": [
    "from tensorflow.keras.losses import BinaryCrossentropy\n",
    "from tensorflow.keras.optimizers import RMSprop"
   ]
  },
  {
   "cell_type": "markdown",
   "id": "6285d8a9-5e39-4fc9-a6c1-ce4d7e5027bb",
   "metadata": {},
   "source": [
    "To speed up convergence, we split the training procedure in two steps. \n",
    "First, we proceed at high learning rate and then we operate some fine tuning of the network drastrically reducing it.\n",
    "Similar results might be obtained in a more elegant way using a keras [LearningRateScheduler](https://keras.io/api/callbacks/learning_rate_scheduler/).\n",
    "\n",
    "Instead of setting a fixed number of epochs, we switch from one learning rate to the next one upon lack of improvement for at least 5 epochs."
   ]
  },
  {
   "cell_type": "code",
   "execution_count": 9,
   "id": "134972ba-596f-45fc-a754-22ab990fcf10",
   "metadata": {},
   "outputs": [
    {
     "name": "stdout",
     "output_type": "stream",
     "text": [
      "Epoch 1/50\n",
      "26/26 [==============================] - 9s 279ms/step - loss: 1.2140 - val_loss: 0.7943\n",
      "Epoch 2/50\n",
      "26/26 [==============================] - 8s 275ms/step - loss: 0.6767 - val_loss: 0.6677\n",
      "Epoch 3/50\n",
      "26/26 [==============================] - 8s 272ms/step - loss: 0.5646 - val_loss: 0.4584\n",
      "Epoch 4/50\n",
      "26/26 [==============================] - 8s 274ms/step - loss: 0.4527 - val_loss: 0.4712\n",
      "Epoch 5/50\n",
      "26/26 [==============================] - 8s 272ms/step - loss: 0.4079 - val_loss: 0.4802\n",
      "Epoch 6/50\n",
      "26/26 [==============================] - 8s 276ms/step - loss: 0.3817 - val_loss: 0.3770\n",
      "Epoch 7/50\n",
      "26/26 [==============================] - 8s 272ms/step - loss: 0.3930 - val_loss: 0.3667\n",
      "Epoch 8/50\n",
      "26/26 [==============================] - 8s 270ms/step - loss: 0.3649 - val_loss: 0.3712\n",
      "Epoch 9/50\n",
      "26/26 [==============================] - 8s 270ms/step - loss: 0.3427 - val_loss: 0.3537\n",
      "Epoch 10/50\n",
      "26/26 [==============================] - 8s 275ms/step - loss: 0.3392 - val_loss: 0.3126\n",
      "Epoch 11/50\n",
      "26/26 [==============================] - 10s 356ms/step - loss: 0.3314 - val_loss: 0.2871\n",
      "Epoch 12/50\n",
      "26/26 [==============================] - 8s 273ms/step - loss: 0.3259 - val_loss: 0.4299\n",
      "Epoch 13/50\n",
      "26/26 [==============================] - 8s 271ms/step - loss: 0.3232 - val_loss: 0.3446\n",
      "Epoch 14/50\n",
      "26/26 [==============================] - 8s 264ms/step - loss: 0.3189 - val_loss: 0.2928\n"
     ]
    }
   ],
   "source": [
    "model.compile(loss=BinaryCrossentropy(label_smoothing=0.01), optimizer=RMSprop(10e-3))\n",
    "early_stopping = tf.keras.callbacks.EarlyStopping(monitor='val_loss', patience=3)\n",
    "\n",
    "batch_size=100_000\n",
    "\n",
    "training_data = train_dataset.batch(batch_size, drop_remainder=True).prefetch(tf.data.AUTOTUNE)\n",
    "validation_data=next(iter(validation_dataset.batch(batch_size)))\n",
    "\n",
    "history = model.fit(training_data, epochs=50, validation_data=validation_data, callbacks=[early_stopping])"
   ]
  },
  {
   "cell_type": "code",
   "execution_count": 10,
   "id": "d65cec0c-e525-4d8f-a0bc-127f6bd10347",
   "metadata": {},
   "outputs": [
    {
     "name": "stdout",
     "output_type": "stream",
     "text": [
      "Epoch 1/50\n",
      "26/26 [==============================] - 8s 264ms/step - loss: 0.2451 - val_loss: 0.2389\n",
      "Epoch 2/50\n",
      "26/26 [==============================] - 7s 263ms/step - loss: 0.2372 - val_loss: 0.2348\n",
      "Epoch 3/50\n",
      "26/26 [==============================] - 7s 256ms/step - loss: 0.2327 - val_loss: 0.2305\n",
      "Epoch 4/50\n",
      "26/26 [==============================] - 8s 266ms/step - loss: 0.2285 - val_loss: 0.2268\n",
      "Epoch 5/50\n",
      "26/26 [==============================] - 7s 262ms/step - loss: 0.2255 - val_loss: 0.2244\n",
      "Epoch 6/50\n",
      "26/26 [==============================] - 7s 263ms/step - loss: 0.2226 - val_loss: 0.2215\n",
      "Epoch 7/50\n",
      "26/26 [==============================] - 8s 273ms/step - loss: 0.2196 - val_loss: 0.2175\n",
      "Epoch 8/50\n",
      "26/26 [==============================] - 8s 267ms/step - loss: 0.2174 - val_loss: 0.2154\n",
      "Epoch 9/50\n",
      "26/26 [==============================] - 8s 272ms/step - loss: 0.2148 - val_loss: 0.2127\n",
      "Epoch 10/50\n",
      "26/26 [==============================] - 8s 266ms/step - loss: 0.2130 - val_loss: 0.2112\n",
      "Epoch 11/50\n",
      "26/26 [==============================] - 8s 267ms/step - loss: 0.2113 - val_loss: 0.2092\n",
      "Epoch 12/50\n",
      "26/26 [==============================] - 8s 270ms/step - loss: 0.2102 - val_loss: 0.2091\n",
      "Epoch 13/50\n",
      "26/26 [==============================] - 8s 272ms/step - loss: 0.2085 - val_loss: 0.2092\n",
      "Epoch 14/50\n",
      "26/26 [==============================] - 8s 269ms/step - loss: 0.2073 - val_loss: 0.2071\n",
      "Epoch 15/50\n",
      "26/26 [==============================] - 8s 269ms/step - loss: 0.2058 - val_loss: 0.2047\n",
      "Epoch 16/50\n",
      "26/26 [==============================] - 7s 255ms/step - loss: 0.2037 - val_loss: 0.2048\n",
      "Epoch 17/50\n",
      "26/26 [==============================] - 7s 254ms/step - loss: 0.2022 - val_loss: 0.2021\n",
      "Epoch 18/50\n",
      "26/26 [==============================] - 7s 262ms/step - loss: 0.2010 - val_loss: 0.1992\n",
      "Epoch 19/50\n",
      "26/26 [==============================] - 7s 261ms/step - loss: 0.1996 - val_loss: 0.2011\n",
      "Epoch 20/50\n",
      "26/26 [==============================] - 7s 257ms/step - loss: 0.1984 - val_loss: 0.1979\n",
      "Epoch 21/50\n",
      "26/26 [==============================] - 7s 261ms/step - loss: 0.1976 - val_loss: 0.1986\n",
      "Epoch 22/50\n",
      "26/26 [==============================] - 7s 259ms/step - loss: 0.1966 - val_loss: 0.1969\n",
      "Epoch 23/50\n",
      "26/26 [==============================] - 8s 270ms/step - loss: 0.1954 - val_loss: 0.1971\n",
      "Epoch 24/50\n",
      "26/26 [==============================] - 7s 249ms/step - loss: 0.1950 - val_loss: 0.1947\n",
      "Epoch 25/50\n",
      "26/26 [==============================] - 7s 261ms/step - loss: 0.1940 - val_loss: 0.1944\n",
      "Epoch 26/50\n",
      "26/26 [==============================] - 7s 257ms/step - loss: 0.1928 - val_loss: 0.1937\n",
      "Epoch 27/50\n",
      "26/26 [==============================] - 7s 255ms/step - loss: 0.1917 - val_loss: 0.1918\n",
      "Epoch 28/50\n",
      "26/26 [==============================] - 8s 266ms/step - loss: 0.1909 - val_loss: 0.1928\n",
      "Epoch 29/50\n",
      "26/26 [==============================] - 8s 281ms/step - loss: 0.1905 - val_loss: 0.1914\n",
      "Epoch 30/50\n",
      "26/26 [==============================] - 7s 263ms/step - loss: 0.1892 - val_loss: 0.1895\n",
      "Epoch 31/50\n",
      "26/26 [==============================] - 10s 358ms/step - loss: 0.1886 - val_loss: 0.1887\n",
      "Epoch 32/50\n",
      "26/26 [==============================] - 10s 361ms/step - loss: 0.1888 - val_loss: 0.1890\n",
      "Epoch 33/50\n",
      "26/26 [==============================] - 8s 271ms/step - loss: 0.1885 - val_loss: 0.1882\n",
      "Epoch 34/50\n",
      "26/26 [==============================] - 8s 272ms/step - loss: 0.1867 - val_loss: 0.1908\n",
      "Epoch 35/50\n",
      "26/26 [==============================] - 10s 353ms/step - loss: 0.1864 - val_loss: 0.1862\n",
      "Epoch 36/50\n",
      "26/26 [==============================] - 8s 267ms/step - loss: 0.1846 - val_loss: 0.1871\n",
      "Epoch 37/50\n",
      "26/26 [==============================] - 8s 271ms/step - loss: 0.1843 - val_loss: 0.1860\n",
      "Epoch 38/50\n",
      "26/26 [==============================] - 8s 274ms/step - loss: 0.1837 - val_loss: 0.1863\n",
      "Epoch 39/50\n",
      "26/26 [==============================] - 8s 263ms/step - loss: 0.1832 - val_loss: 0.1839\n",
      "Epoch 40/50\n",
      "26/26 [==============================] - 8s 266ms/step - loss: 0.1822 - val_loss: 0.1835\n",
      "Epoch 41/50\n",
      "26/26 [==============================] - 8s 273ms/step - loss: 0.1818 - val_loss: 0.1833\n",
      "Epoch 42/50\n",
      "26/26 [==============================] - 10s 356ms/step - loss: 0.1810 - val_loss: 0.1825\n",
      "Epoch 43/50\n",
      "26/26 [==============================] - 8s 268ms/step - loss: 0.1806 - val_loss: 0.1803\n",
      "Epoch 44/50\n",
      "26/26 [==============================] - 8s 270ms/step - loss: 0.1797 - val_loss: 0.1823\n",
      "Epoch 45/50\n",
      "26/26 [==============================] - 8s 273ms/step - loss: 0.1800 - val_loss: 0.1798\n",
      "Epoch 46/50\n",
      "26/26 [==============================] - 8s 270ms/step - loss: 0.1788 - val_loss: 0.1819\n",
      "Epoch 47/50\n",
      "26/26 [==============================] - 8s 266ms/step - loss: 0.1791 - val_loss: 0.1799\n",
      "Epoch 48/50\n",
      "26/26 [==============================] - 7s 261ms/step - loss: 0.1786 - val_loss: 0.1808\n",
      "Epoch 49/50\n",
      "26/26 [==============================] - 8s 277ms/step - loss: 0.1780 - val_loss: 0.1806\n",
      "Epoch 50/50\n",
      "26/26 [==============================] - 8s 268ms/step - loss: 0.1783 - val_loss: 0.1784\n"
     ]
    }
   ],
   "source": [
    "model.compile(loss=BinaryCrossentropy(label_smoothing=0.00), optimizer=RMSprop(1e-3))\n",
    "early_stopping = tf.keras.callbacks.EarlyStopping(monitor='val_loss', patience=5)\n",
    "history_ft = model.fit(training_data, epochs=50, validation_data=validation_data, callbacks=[early_stopping])"
   ]
  },
  {
   "cell_type": "markdown",
   "id": "6221a98c-9320-49cd-b8fc-0a306082864f",
   "metadata": {},
   "source": [
    "The two regimes are well visibile in the plot below, combining the two training phases in a single epoch count."
   ]
  },
  {
   "cell_type": "code",
   "execution_count": 11,
   "id": "a8a5d610-777b-4c14-b3d8-f84b39ae4ea0",
   "metadata": {},
   "outputs": [
    {
     "data": {
      "image/png": "[encoded data removed]",
      "text/plain": [
       "<Figure size 640x480 with 1 Axes>"
      ]
     },
     "metadata": {},
     "output_type": "display_data"
    }
   ],
   "source": [
    "plt.plot(history.history['loss'] + history_ft.history['loss'], label=\"Loss (train)\")\n",
    "plt.plot(history.history['val_loss'] + history_ft.history['val_loss'], label=\"Loss (validation)\")\n",
    "plt.xlabel(\"Epoch\")\n",
    "plt.ylabel(\"Binary cross-entropy\")\n",
    "plt.yscale('log')\n",
    "plt.legend()\n",
    "plt.show()"
   ]
  },
  {
   "cell_type": "markdown",
   "id": "243a88a7-a195-4e99-b443-6537e3849fca",
   "metadata": {},
   "source": [
    "## A first, rough validation\n",
    "\n",
    "While a proper validation of the model is demanded to a dedicated notebook, here we check that the training was not completely failed and provides reasonable numbers.\n",
    "\n",
    "In particular, we compare the distributions of the training lables and of the predictions.\n",
    "\n",
    "Clearly, the training labels are either 1 or 0 because a particle is either in acceptance or not. Instead, the output of the neural network is a probability and hence it will be distributed between 0 and 1. \n",
    "\n",
    "The comparison is used to ensure that both the training labels and the network output are not unreasonable, for example collapsed into a single value or with training labels belonging to a single category."
   ]
  },
  {
   "cell_type": "code",
   "execution_count": 12,
   "id": "82af7a02",
   "metadata": {
    "collapsed": false,
    "jupyter": {
     "outputs_hidden": false
    },
    "pycharm": {
     "name": "#%%\n"
    }
   },
   "outputs": [
    {
     "data": {
      "image/png": "[encoded data removed]",
      "text/plain": [
       "<Figure size 640x480 with 1 Axes>"
      ]
     },
     "metadata": {},
     "output_type": "display_data"
    }
   ],
   "source": [
    "Xv, yv = next(iter(validation_dataset.batch(1_000_000).as_numpy_iterator()))\n",
    "yv_hat = model.predict(Xv, batch_size=len(Xv))\n",
    "bins = np.linspace(0, 1, 11)\n",
    "plt.hist(yv, bins=bins, label=\"Training labels\")\n",
    "plt.hist(yv_hat, bins=bins, histtype='step', linewidth=2, label=\"Prediction\")\n",
    "plt.legend()\n",
    "plt.show()"
   ]
  },
  {
   "cell_type": "markdown",
   "id": "dc11205b-e3b6-478f-8b4d-da28fc5e3ec1",
   "metadata": {},
   "source": [
    "Then we can compare the distribution of a preprocessed variable before and after the application of the acceptance requirement.\n",
    "\n",
    "Here, for example, we consider the preprocessed log-value of the momentum.\n",
    "\n",
    "Since the variable is preprocessed, without applying any cut (**Generated**) we have a perfectly normalized Gaussian.\n",
    "\n",
    "Applying the criterion `acceptance == 1` we get another distribution that we expect to model with decent approximation by applying the response of the trained neural networks as weights to the **Generated** dataset.\n",
    "\n",
    "The comparison of the two histograms (obtained by applying a cut on the true acceptance or applying a weight on the acceptance probability) provides a first validation on the quality of the parametrization."
   ]
  },
  {
   "cell_type": "code",
   "execution_count": 13,
   "id": "86b205bd",
   "metadata": {
    "collapsed": false,
    "jupyter": {
     "outputs_hidden": false
    },
    "pycharm": {
     "name": "#%%\n"
    }
   },
   "outputs": [
    {
     "data": {
      "image/png": "[encoded data removed]",
      "text/plain": [
       "<Figure size 640x480 with 1 Axes>"
      ]
     },
     "metadata": {},
     "output_type": "display_data"
    }
   ],
   "source": [
    "log_p = Xv[:,3]\n",
    "bins = np.linspace(-4, 4, 121)\n",
    "denominator, _ = np.histogram(log_p, bins=bins)\n",
    "true_numerator, _ = np.histogram(log_p, bins=bins, weights=yv.flatten())\n",
    "predicted_numerator, _ = np.histogram(log_p, bins=bins, weights=yv_hat.flatten())\n",
    "\n",
    "plt.hist((bins[1:] + bins[:-1])/2, bins=bins, weights=denominator, label=\"Generated\", histtype='step')\n",
    "plt.hist((bins[1:] + bins[:-1])/2, bins=bins, weights=predicted_numerator, label=\"In acceptance (model)\", histtype='step', linewidth=2)\n",
    "#plt.plot((bins[1:] + bins[:-1])/2, predicted_numerator, label=\"In acceptance (model)\")\n",
    "plt.fill_between(\n",
    "    (bins[1:] + bins[:-1])/2, np.zeros(len(true_numerator)), true_numerator,\n",
    "    label=\"In acceptance (validation)\",\n",
    "    color='#88ee88'\n",
    ")\n",
    "plt.xlabel(r\"$\\log_{10} \\left(p / (1 \\mathrm{MeV}/c\\right)$\")\n",
    "plt.legend()\n",
    "plt.show()"
   ]
  },
  {
   "cell_type": "markdown",
   "id": "4155fdbf-2e13-4a66-9ff2-4ef64137f032",
   "metadata": {},
   "source": [
    "## Export the model\n",
    "Finally, we export the model to the same folder where the pretraining step was stored."
   ]
  },
  {
   "cell_type": "code",
   "execution_count": 67,
   "id": "10b34375-317b-4ed4-85fa-51494ccb0878",
   "metadata": {},
   "outputs": [],
   "source": [
    "from json import dump\n",
    "import os \n",
    "\n",
    "def Stringfy(element):\n",
    "    \"recursively convert into string all dictionary values\"\n",
    "    for k,val in element.items():\n",
    "        if isinstance(val,dict):\n",
    "            element[k] = Stringfy(val)\n",
    "        else:\n",
    "            element[k] = str(val)\n",
    "    return element\n",
    "        \n",
    "\n",
    "def WriteModelProperties(path,model=None,history=None):\n",
    "    \"\"\"write the property of the model (and history) in the path\"\"\"\n",
    "    \n",
    "    assert (model is not None or history is not None), \"either model or history must be given\"\n",
    "        \n",
    "    # create output folder if not existing\n",
    "    output_path = os.path.dirname(path)\n",
    "    if not os.path.exists(output_path) and output_path != '':\n",
    "        os.mkdir(output_path)\n",
    "    \n",
    "    info2save = dict(model={})\n",
    "    \n",
    "    if history is not None:\n",
    "        model                = history.model\n",
    "        info2save['history'] = history.history\n",
    "    \n",
    "    info2save['model']['layers'] = []\n",
    "    for L in model.layers:\n",
    "        info2save['model']['layers'].append(L.get_config())\n",
    "        info2save['model']['layers'][-1].update(\n",
    "            {\n",
    "                'module': L.__module__,\n",
    "                'class_name': L.__class__.__name__\n",
    "            })\n",
    "    \n",
    "    info2save['model']['optimizer'] = Stringfy(model.optimizer.get_config())\n",
    "    \n",
    "    with open(path, \"w\") as outfile:\n",
    "        dump(info2save, outfile)\n",
    "    print(\"Information written to: \"+path)\n",
    "    #return info2save\n",
    "        "
   ]
  },
  {
   "cell_type": "code",
   "execution_count": 22,
   "id": "e0989f48-83a5-4635-8fc9-c2647dfea999",
   "metadata": {},
   "outputs": [
    {
     "name": "stdout",
     "output_type": "stream",
     "text": [
      "INFO:tensorflow:Assets written to: /workarea/local/shared/scapelli/trained_models/j100/models/acceptance/v1/assets\n"
     ]
    },
    {
     "name": "stderr",
     "output_type": "stream",
     "text": [
      "/usr/local/miniconda3/envs/tf_on_gpu/lib/python3.9/site-packages/keras/utils/generic_utils.py:494: CustomMaskWarning: Custom mask layers require a config and must override get_config. When loading, the custom mask layer must be passed to the custom_objects argument.\n",
      "  warnings.warn('Custom mask layers require a config and must override '\n"
     ]
    }
   ],
   "source": [
    "import os\n",
    "base_dir,output_model = os.path.split(environ['OUTPUT_MODEL'])\n",
    "if not os.path.exists(base_dir):\n",
    "    os.mkdir(base_dir)\n",
    "model.save(base_dir)\n",
    "\n"
   ]
  },
  {
   "cell_type": "code",
   "execution_count": 12,
   "id": "dcb6e47c-9750-4a56-8d20-2f2cbfe75039",
   "metadata": {},
   "outputs": [
    {
     "ename": "NameError",
     "evalue": "name 'history_ft' is not defined",
     "output_type": "error",
     "traceback": [
      "\u001b[0;31m---------------------------------------------------------------------------\u001b[0m",
      "\u001b[0;31mNameError\u001b[0m                                 Traceback (most recent call last)",
      "Cell \u001b[0;32mIn[12], line 4\u001b[0m\n\u001b[1;32m      2\u001b[0m base_dir \u001b[38;5;241m=\u001b[39m path\u001b[38;5;241m.\u001b[39mdirname(environ[\u001b[38;5;124m'\u001b[39m\u001b[38;5;124mOUTPUT_MODEL\u001b[39m\u001b[38;5;124m'\u001b[39m])\n\u001b[1;32m      3\u001b[0m info_path \u001b[38;5;241m=\u001b[39m path\u001b[38;5;241m.\u001b[39mjoin(base_dir, \u001b[38;5;124m\"\u001b[39m\u001b[38;5;124mmodel_info.json\u001b[39m\u001b[38;5;124m\"\u001b[39m)\n\u001b[0;32m----> 4\u001b[0m WriteModelProperties(info_path,model,history\u001b[38;5;241m=\u001b[39m\u001b[43mhistory_ft\u001b[49m)\n",
      "\u001b[0;31mNameError\u001b[0m: name 'history_ft' is not defined"
     ]
    }
   ],
   "source": [
    "# save model and training information\n",
    "base_dir = path.dirname(environ['OUTPUT_MODEL'])\n",
    "info_path = path.join(base_dir, \"model_info.json\")\n",
    "WriteModelProperties(info_path,model,history=history_ft)"
   ]
  },
  {
   "cell_type": "code",
   "execution_count": 68,
   "id": "948d8beb-4d11-4eb5-9591-774b241b87e1",
   "metadata": {},
   "outputs": [
    {
     "name": "stdout",
     "output_type": "stream",
     "text": [
      "Information written to: /workarea/local/shared/scapelli/trained_models/j100/models/acceptance/v1/model_info.json\n"
     ]
    },
    {
     "data": {
      "text/plain": [
       "{'model': {'layers': [{'batch_input_shape': (None, 12),\n",
       "    'dtype': 'float32',\n",
       "    'sparse': False,\n",
       "    'ragged': False,\n",
       "    'name': 'input_1',\n",
       "    'module': 'keras.engine.input_layer',\n",
       "    'class_name': 'InputLayer'},\n",
       "   {'name': 'dense',\n",
       "    'trainable': True,\n",
       "    'dtype': 'float32',\n",
       "    'units': 128,\n",
       "    'activation': 'tanh',\n",
       "    'use_bias': True,\n",
       "    'kernel_initializer': {'class_name': 'HeNormal', 'config': {'seed': None}},\n",
       "    'bias_initializer': {'class_name': 'Zeros', 'config': {}},\n",
       "    'kernel_regularizer': {'class_name': 'L2',\n",
       "     'config': {'l2': 0.0010000000474974513}},\n",
       "    'bias_regularizer': None,\n",
       "    'activity_regularizer': None,\n",
       "    'kernel_constraint': None,\n",
       "    'bias_constraint': None,\n",
       "    'module': 'keras.layers.core',\n",
       "    'class_name': 'Dense'},\n",
       "   {'name': 'dense_1',\n",
       "    'trainable': True,\n",
       "    'dtype': 'float32',\n",
       "    'units': 128,\n",
       "    'activation': 'tanh',\n",
       "    'use_bias': True,\n",
       "    'kernel_initializer': {'class_name': 'Zeros', 'config': {}},\n",
       "    'bias_initializer': {'class_name': 'Zeros', 'config': {}},\n",
       "    'kernel_regularizer': None,\n",
       "    'bias_regularizer': None,\n",
       "    'activity_regularizer': None,\n",
       "    'kernel_constraint': None,\n",
       "    'bias_constraint': None,\n",
       "    'module': 'keras.layers.core',\n",
       "    'class_name': 'Dense'},\n",
       "   {'name': 'add',\n",
       "    'trainable': True,\n",
       "    'dtype': 'float32',\n",
       "    'module': 'keras.layers.merge',\n",
       "    'class_name': 'Add'},\n",
       "   {'name': 'dense_2',\n",
       "    'trainable': True,\n",
       "    'dtype': 'float32',\n",
       "    'units': 128,\n",
       "    'activation': 'tanh',\n",
       "    'use_bias': True,\n",
       "    'kernel_initializer': {'class_name': 'Zeros', 'config': {}},\n",
       "    'bias_initializer': {'class_name': 'Zeros', 'config': {}},\n",
       "    'kernel_regularizer': None,\n",
       "    'bias_regularizer': None,\n",
       "    'activity_regularizer': None,\n",
       "    'kernel_constraint': None,\n",
       "    'bias_constraint': None,\n",
       "    'module': 'keras.layers.core',\n",
       "    'class_name': 'Dense'},\n",
       "   {'name': 'add_1',\n",
       "    'trainable': True,\n",
       "    'dtype': 'float32',\n",
       "    'module': 'keras.layers.merge',\n",
       "    'class_name': 'Add'},\n",
       "   {'name': 'dense_3',\n",
       "    'trainable': True,\n",
       "    'dtype': 'float32',\n",
       "    'units': 128,\n",
       "    'activation': 'tanh',\n",
       "    'use_bias': True,\n",
       "    'kernel_initializer': {'class_name': 'Zeros', 'config': {}},\n",
       "    'bias_initializer': {'class_name': 'Zeros', 'config': {}},\n",
       "    'kernel_regularizer': None,\n",
       "    'bias_regularizer': None,\n",
       "    'activity_regularizer': None,\n",
       "    'kernel_constraint': None,\n",
       "    'bias_constraint': None,\n",
       "    'module': 'keras.layers.core',\n",
       "    'class_name': 'Dense'},\n",
       "   {'name': 'add_2',\n",
       "    'trainable': True,\n",
       "    'dtype': 'float32',\n",
       "    'module': 'keras.layers.merge',\n",
       "    'class_name': 'Add'},\n",
       "   {'name': 'dense_4',\n",
       "    'trainable': True,\n",
       "    'dtype': 'float32',\n",
       "    'units': 128,\n",
       "    'activation': 'tanh',\n",
       "    'use_bias': True,\n",
       "    'kernel_initializer': {'class_name': 'Zeros', 'config': {}},\n",
       "    'bias_initializer': {'class_name': 'Zeros', 'config': {}},\n",
       "    'kernel_regularizer': None,\n",
       "    'bias_regularizer': None,\n",
       "    'activity_regularizer': None,\n",
       "    'kernel_constraint': None,\n",
       "    'bias_constraint': None,\n",
       "    'module': 'keras.layers.core',\n",
       "    'class_name': 'Dense'},\n",
       "   {'name': 'add_3',\n",
       "    'trainable': True,\n",
       "    'dtype': 'float32',\n",
       "    'module': 'keras.layers.merge',\n",
       "    'class_name': 'Add'},\n",
       "   {'name': 'dense_5',\n",
       "    'trainable': True,\n",
       "    'dtype': 'float32',\n",
       "    'units': 128,\n",
       "    'activation': 'tanh',\n",
       "    'use_bias': True,\n",
       "    'kernel_initializer': {'class_name': 'Zeros', 'config': {}},\n",
       "    'bias_initializer': {'class_name': 'Zeros', 'config': {}},\n",
       "    'kernel_regularizer': None,\n",
       "    'bias_regularizer': None,\n",
       "    'activity_regularizer': None,\n",
       "    'kernel_constraint': None,\n",
       "    'bias_constraint': None,\n",
       "    'module': 'keras.layers.core',\n",
       "    'class_name': 'Dense'},\n",
       "   {'name': 'add_4',\n",
       "    'trainable': True,\n",
       "    'dtype': 'float32',\n",
       "    'module': 'keras.layers.merge',\n",
       "    'class_name': 'Add'},\n",
       "   {'name': 'dense_6',\n",
       "    'trainable': True,\n",
       "    'dtype': 'float32',\n",
       "    'units': 128,\n",
       "    'activation': 'tanh',\n",
       "    'use_bias': True,\n",
       "    'kernel_initializer': {'class_name': 'Zeros', 'config': {}},\n",
       "    'bias_initializer': {'class_name': 'Zeros', 'config': {}},\n",
       "    'kernel_regularizer': None,\n",
       "    'bias_regularizer': None,\n",
       "    'activity_regularizer': None,\n",
       "    'kernel_constraint': None,\n",
       "    'bias_constraint': None,\n",
       "    'module': 'keras.layers.core',\n",
       "    'class_name': 'Dense'},\n",
       "   {'name': 'add_5',\n",
       "    'trainable': True,\n",
       "    'dtype': 'float32',\n",
       "    'module': 'keras.layers.merge',\n",
       "    'class_name': 'Add'},\n",
       "   {'name': 'dense_7',\n",
       "    'trainable': True,\n",
       "    'dtype': 'float32',\n",
       "    'units': 128,\n",
       "    'activation': 'tanh',\n",
       "    'use_bias': True,\n",
       "    'kernel_initializer': {'class_name': 'Zeros', 'config': {}},\n",
       "    'bias_initializer': {'class_name': 'Zeros', 'config': {}},\n",
       "    'kernel_regularizer': None,\n",
       "    'bias_regularizer': None,\n",
       "    'activity_regularizer': None,\n",
       "    'kernel_constraint': None,\n",
       "    'bias_constraint': None,\n",
       "    'module': 'keras.layers.core',\n",
       "    'class_name': 'Dense'},\n",
       "   {'name': 'add_6',\n",
       "    'trainable': True,\n",
       "    'dtype': 'float32',\n",
       "    'module': 'keras.layers.merge',\n",
       "    'class_name': 'Add'},\n",
       "   {'name': 'dense_8',\n",
       "    'trainable': True,\n",
       "    'dtype': 'float32',\n",
       "    'units': 128,\n",
       "    'activation': 'tanh',\n",
       "    'use_bias': True,\n",
       "    'kernel_initializer': {'class_name': 'Zeros', 'config': {}},\n",
       "    'bias_initializer': {'class_name': 'Zeros', 'config': {}},\n",
       "    'kernel_regularizer': None,\n",
       "    'bias_regularizer': None,\n",
       "    'activity_regularizer': None,\n",
       "    'kernel_constraint': None,\n",
       "    'bias_constraint': None,\n",
       "    'module': 'keras.layers.core',\n",
       "    'class_name': 'Dense'},\n",
       "   {'name': 'add_7',\n",
       "    'trainable': True,\n",
       "    'dtype': 'float32',\n",
       "    'module': 'keras.layers.merge',\n",
       "    'class_name': 'Add'},\n",
       "   {'name': 'dense_9',\n",
       "    'trainable': True,\n",
       "    'dtype': 'float32',\n",
       "    'units': 128,\n",
       "    'activation': 'tanh',\n",
       "    'use_bias': True,\n",
       "    'kernel_initializer': {'class_name': 'Zeros', 'config': {}},\n",
       "    'bias_initializer': {'class_name': 'Zeros', 'config': {}},\n",
       "    'kernel_regularizer': None,\n",
       "    'bias_regularizer': None,\n",
       "    'activity_regularizer': None,\n",
       "    'kernel_constraint': None,\n",
       "    'bias_constraint': None,\n",
       "    'module': 'keras.layers.core',\n",
       "    'class_name': 'Dense'},\n",
       "   {'name': 'add_8',\n",
       "    'trainable': True,\n",
       "    'dtype': 'float32',\n",
       "    'module': 'keras.layers.merge',\n",
       "    'class_name': 'Add'},\n",
       "   {'name': 'dense_10',\n",
       "    'trainable': True,\n",
       "    'dtype': 'float32',\n",
       "    'units': 128,\n",
       "    'activation': 'tanh',\n",
       "    'use_bias': True,\n",
       "    'kernel_initializer': {'class_name': 'Zeros', 'config': {}},\n",
       "    'bias_initializer': {'class_name': 'Zeros', 'config': {}},\n",
       "    'kernel_regularizer': None,\n",
       "    'bias_regularizer': None,\n",
       "    'activity_regularizer': None,\n",
       "    'kernel_constraint': None,\n",
       "    'bias_constraint': None,\n",
       "    'module': 'keras.layers.core',\n",
       "    'class_name': 'Dense'},\n",
       "   {'name': 'add_9',\n",
       "    'trainable': True,\n",
       "    'dtype': 'float32',\n",
       "    'module': 'keras.layers.merge',\n",
       "    'class_name': 'Add'},\n",
       "   {'name': 'dense_11',\n",
       "    'trainable': True,\n",
       "    'dtype': 'float32',\n",
       "    'units': 1,\n",
       "    'activation': 'sigmoid',\n",
       "    'use_bias': True,\n",
       "    'kernel_initializer': {'class_name': 'HeNormal', 'config': {'seed': None}},\n",
       "    'bias_initializer': {'class_name': 'Zeros', 'config': {}},\n",
       "    'kernel_regularizer': None,\n",
       "    'bias_regularizer': None,\n",
       "    'activity_regularizer': None,\n",
       "    'kernel_constraint': None,\n",
       "    'bias_constraint': None,\n",
       "    'module': 'keras.layers.core',\n",
       "    'class_name': 'Dense'}],\n",
       "  'optimizer': {'name': 'RMSprop',\n",
       "   'learning_rate': '0.01',\n",
       "   'decay': '0.0',\n",
       "   'rho': '0.9',\n",
       "   'momentum': '0.0',\n",
       "   'epsilon': '1e-07',\n",
       "   'centered': 'False'}}}"
      ]
     },
     "execution_count": 68,
     "metadata": {},
     "output_type": "execute_result"
    }
   ],
   "source": [
    "WriteModelProperties(info_path,model)"
   ]
  },
  {
   "cell_type": "markdown",
   "id": "6a41945b-80fe-491e-9dcc-211c052c9f5a",
   "metadata": {},
   "source": [
    "## Conclusion\n",
    "\n",
    "In this notebook we have:\n",
    " * loaded the training and validation data\n",
    " * defined a neural network model for the acceptance\n",
    " * trained the model on simulated data\n",
    " * performed a couple of sanity checks to ensure the training procedure did not fail\n",
    " * exported the model to disk\n",
    " \n",
    "In the next notebook we will perform a more detaile validation, by splitting the sample in kinematic bins and comparing for each bin the distribution of particles in acceptance."
   ]
  },
  {
   "cell_type": "code",
   "execution_count": 27,
   "id": "716296c6-9f67-4a9a-9b1f-dabe9ee40f90",
   "metadata": {},
   "outputs": [
    {
     "name": "stdout",
     "output_type": "stream",
     "text": [
      "Exported Acceptance.ipynb as html,pdf in /workarea/local/shared/scapelli/notebooks_exports/j100/v1\n"
     ]
    }
   ],
   "source": [
    "### export notebooks for comparisons\n",
    "if environ.get('NB_EXPORT',\"False\")==\"True\":\n",
    "    import os\n",
    "    nb_save  = \"/workarea/local/shared/scapelli/notebooks_exports\"         # export output dir\n",
    "    nb_save  = nb_save+environ['TRAINING_DATA_FOLDER']                     # according to train data\n",
    "    if environ['MODEL_VARIANT'] != '':\n",
    "        nb_save  = nb_save+'/'+environ['MODEL_VARIANT']                    # according to model variant\n",
    "    if not os.path.isdir(nb_save): os.makedirs(nb_save)                    # create if not exists\n",
    "    nbs_path = \"/workarea/local/shared/scapelli/lb-trksim-train/notebooks\" # notebooks folder\n",
    "    nb_filename = \"Acceptance.ipynb\"                                       # notebook name\n",
    "    extensions  = [\"html\",\"pdf\"]                                           # export formats\n",
    "    for ext in extensions:\n",
    "        os.system(\"jupyter nbconvert --log-level=40 --no-input --output-dir {0} --to {1} {2}/{3}\".format(nb_save,ext.upper(),nbs_path,nb_filename))\n",
    "    print(\"Exported {} as {} in {}\".format(nb_filename,','.join(extensions),nb_save))"
   ]
  }
 ],
 "metadata": {
  "kernelspec": {
   "display_name": "TensorFlow on GPU",
   "language": "python",
   "name": "tf_on_gpu"
  },
  "language_info": {
   "codemirror_mode": {
    "name": "ipython",
    "version": 3
   },
   "file_extension": ".py",
   "mimetype": "text/x-python",
   "name": "python",
   "nbconvert_exporter": "python",
   "pygments_lexer": "ipython3",
   "version": "3.9.15"
  }
 },
 "nbformat": 4,
 "nbformat_minor": 5
}
