{
 "cells": [
  {
   "cell_type": "code",
   "execution_count": 1,
   "id": "ad51e3e0-745e-47aa-bcae-94e99dae277e",
   "metadata": {},
   "outputs": [],
   "source": [
    "### Defining Environment variables pointing to user folders\n",
    "from os import environ\n",
    "\n",
    "environ.setdefault('HOME_DIR', \"/workarea/local/shared/\"+ environ['USERNAME'])\n",
    "environ.setdefault('TRAINING_DATA_FOLDER',\"/j100\")\n",
    "environ.setdefault('MODEL_STORAGE',environ['HOME_DIR']+\"/trained_models\"+environ['TRAINING_DATA_FOLDER'])\n",
    "\n",
    "feather_folder = environ['HOME_DIR']+\"/lb-trksim-train/notebooks/feather_folder\"+environ['TRAINING_DATA_FOLDER']\n",
    "environ.setdefault(\"TRAIN_DATA\"     , feather_folder+\"/acceptance-train\")\n",
    "environ.setdefault(\"VALIDATION_DATA\", feather_folder+\"/acceptance-validation\")\n",
    "\n",
    "environ.setdefault('OUTPUT_MODEL',environ['MODEL_STORAGE']+\"/models/acceptance/saved_model.pb\")\n",
    "_ = environ.setdefault('NB_EXPORT',\"True\") # whether export notebooks"
   ]
  },
  {
   "cell_type": "markdown",
   "id": "5a0699d4-d4cf-41c8-a6c5-659315a44215",
   "metadata": {},
   "source": [
    "# Training of the *Acceptance model*\n",
    "##### Tested on environment `TensorFlow on GPU` from [landerlini/lhcbaf:v0p8](https://hub.docker.com/r/landerlini/lhcbaf)\n",
    "\n",
    "In this notebook we setup the training for the acceptance model, based on a Deep Neural Network.\n",
    "\n",
    "This notebook is part of a pipeline and requires the data preprocessed with the notebook [Preprocessing.ipynb](./Preprocessing.ipynb)."
   ]
  },
  {
   "cell_type": "markdown",
   "id": "d3612458-b5cf-4f2d-a689-b2c60d288ba8",
   "metadata": {},
   "source": [
    "## Enviornment setup and libraries\n",
    "\n",
    "In this notebooks we will use the standard software stack for TensorFlow machine learning applications."
   ]
  },
  {
   "cell_type": "code",
   "execution_count": 2,
   "id": "8193534e-829a-4c24-b72f-8129cd6f98e2",
   "metadata": {},
   "outputs": [],
   "source": [
    "import numpy as np\n",
    "import matplotlib.pyplot as plt\n",
    "import pandas as pd\n",
    "from os import environ\n",
    "\n",
    "## Remove annoying warnings \n",
    "environ['TF_CPP_MIN_LOG_LEVEL'] = '3' \n",
    "import tensorflow as tf"
   ]
  },
  {
   "cell_type": "markdown",
   "id": "069e1277-35fb-4374-b20e-2ed7f8f8b1da",
   "metadata": {},
   "source": [
    "To ensure a GPU is found and properly loaded in the notebook kernel to the benefit of TensorFlow, the output of the following block should be similar to `'/device:GPU:0'`.\n",
    "If a GPU is not found, the string will be empty."
   ]
  },
  {
   "cell_type": "code",
   "execution_count": 3,
   "id": "1f29d256",
   "metadata": {
    "collapsed": false,
    "jupyter": {
     "outputs_hidden": false
    },
    "pycharm": {
     "name": "#%%\n"
    }
   },
   "outputs": [
    {
     "data": {
      "text/plain": [
       "'/device:GPU:0'"
      ]
     },
     "execution_count": 3,
     "metadata": {},
     "output_type": "execute_result"
    }
   ],
   "source": [
    "tf.test.gpu_device_name()"
   ]
  },
  {
   "cell_type": "markdown",
   "id": "503649cf-0257-44cf-97d6-6e6d328d9d4b",
   "metadata": {},
   "source": [
    "## Load datasets\n",
    "\n",
    "Preprocessed datasets were stored in *Apache feather* format and can be reloaded with our custom `FeatherReader` designed to stream the datasets into TensorFlow or Dask format.\n",
    "\n",
    "We are loading in particular:\n",
    " * the **training** dataset to train the network\n",
    " * the **validation** dataset to evaluate the network performance at each epoch and identify overtraining effects"
   ]
  },
  {
   "cell_type": "code",
   "execution_count": 4,
   "id": "5e7c6bff-691b-4bba-b5f8-df053b1d9f69",
   "metadata": {},
   "outputs": [],
   "source": [
    "from feather_io import FeatherReader    \n",
    "\n",
    "train_dataset = FeatherReader(environ.get(\"TRAIN_DATA\", \"acceptance-train\")).as_tf_dataset()\n",
    "validation_dataset = FeatherReader(environ.get(\"VALIDATION_DATA\", \"acceptance-validation\")).as_tf_dataset()"
   ]
  },
  {
   "cell_type": "markdown",
   "id": "880f3727-f5cf-4790-8901-a85e098fe54a",
   "metadata": {},
   "source": [
    "We load a small batch of data to identify the number of conditional and target features and automate the definition of the neural network architecture."
   ]
  },
  {
   "cell_type": "code",
   "execution_count": 5,
   "id": "e1786ea4-e8ef-4f26-9e83-11b9afd9db1e",
   "metadata": {},
   "outputs": [
    {
     "data": {
      "text/plain": [
       "TensorShape([1000000, 12])"
      ]
     },
     "execution_count": 5,
     "metadata": {},
     "output_type": "execute_result"
    }
   ],
   "source": [
    "X, y = next(iter(train_dataset.batch(1_000_000)))\n",
    "X.shape"
   ]
  },
  {
   "cell_type": "markdown",
   "id": "8def767c-4f6a-4cd2-8521-48c886e85088",
   "metadata": {},
   "source": [
    "## Model definition\n",
    "\n",
    "The function we are modelling is not a trivial one, requiring a sufficiently deep neural network.\n",
    "In order to limit the effect of the vanishing gradient and make the trainig procedure faster, we are using the concept of Residual Layer, introducing skipping connections between the input and the output of each layer.\n",
    "\n",
    "With residual layers, the neural network is trained to learn the deviation from identity which is a much less demanding task than learning the whole transformation.\n",
    "\n",
    "The output layer of the neural network has a sigmoid activation function to be mapped into the interval 0-1 and being interpreted as the **probability for the particle of being in acceptance**.\n",
    "\n"
   ]
  },
  {
   "cell_type": "code",
   "execution_count": 6,
   "id": "0a1b3eb5",
   "metadata": {
    "collapsed": false,
    "jupyter": {
     "outputs_hidden": false
    },
    "pycharm": {
     "name": "#%%\n"
    }
   },
   "outputs": [
    {
     "name": "stdout",
     "output_type": "stream",
     "text": [
      "Model: \"model\"\n",
      "__________________________________________________________________________________________________\n",
      "Layer (type)                    Output Shape         Param #     Connected to                     \n",
      "==================================================================================================\n",
      "input_1 (InputLayer)            [(None, 12)]         0                                            \n",
      "__________________________________________________________________________________________________\n",
      "dense (Dense)                   (None, 128)          1664        input_1[0][0]                    \n",
      "__________________________________________________________________________________________________\n",
      "dense_1 (Dense)                 (None, 128)          16512       dense[0][0]                      \n",
      "__________________________________________________________________________________________________\n",
      "add (Add)                       (None, 128)          0           dense[0][0]                      \n",
      "                                                                 dense_1[0][0]                    \n",
      "__________________________________________________________________________________________________\n",
      "dense_2 (Dense)                 (None, 128)          16512       add[0][0]                        \n",
      "__________________________________________________________________________________________________\n",
      "add_1 (Add)                     (None, 128)          0           add[0][0]                        \n",
      "                                                                 dense_2[0][0]                    \n",
      "__________________________________________________________________________________________________\n",
      "dense_3 (Dense)                 (None, 128)          16512       add_1[0][0]                      \n",
      "__________________________________________________________________________________________________\n",
      "add_2 (Add)                     (None, 128)          0           add_1[0][0]                      \n",
      "                                                                 dense_3[0][0]                    \n",
      "__________________________________________________________________________________________________\n",
      "dense_4 (Dense)                 (None, 128)          16512       add_2[0][0]                      \n",
      "__________________________________________________________________________________________________\n",
      "add_3 (Add)                     (None, 128)          0           add_2[0][0]                      \n",
      "                                                                 dense_4[0][0]                    \n",
      "__________________________________________________________________________________________________\n",
      "dense_5 (Dense)                 (None, 128)          16512       add_3[0][0]                      \n",
      "__________________________________________________________________________________________________\n",
      "add_4 (Add)                     (None, 128)          0           add_3[0][0]                      \n",
      "                                                                 dense_5[0][0]                    \n",
      "__________________________________________________________________________________________________\n",
      "dense_6 (Dense)                 (None, 128)          16512       add_4[0][0]                      \n",
      "__________________________________________________________________________________________________\n",
      "add_5 (Add)                     (None, 128)          0           add_4[0][0]                      \n",
      "                                                                 dense_6[0][0]                    \n",
      "__________________________________________________________________________________________________\n",
      "dense_7 (Dense)                 (None, 128)          16512       add_5[0][0]                      \n",
      "__________________________________________________________________________________________________\n",
      "add_6 (Add)                     (None, 128)          0           add_5[0][0]                      \n",
      "                                                                 dense_7[0][0]                    \n",
      "__________________________________________________________________________________________________\n",
      "dense_8 (Dense)                 (None, 128)          16512       add_6[0][0]                      \n",
      "__________________________________________________________________________________________________\n",
      "add_7 (Add)                     (None, 128)          0           add_6[0][0]                      \n",
      "                                                                 dense_8[0][0]                    \n",
      "__________________________________________________________________________________________________\n",
      "dense_9 (Dense)                 (None, 128)          16512       add_7[0][0]                      \n",
      "__________________________________________________________________________________________________\n",
      "add_8 (Add)                     (None, 128)          0           add_7[0][0]                      \n",
      "                                                                 dense_9[0][0]                    \n",
      "__________________________________________________________________________________________________\n",
      "dense_10 (Dense)                (None, 128)          16512       add_8[0][0]                      \n",
      "__________________________________________________________________________________________________\n",
      "add_9 (Add)                     (None, 128)          0           add_8[0][0]                      \n",
      "                                                                 dense_10[0][0]                   \n",
      "__________________________________________________________________________________________________\n",
      "dense_11 (Dense)                (None, 1)            129         add_9[0][0]                      \n",
      "==================================================================================================\n",
      "Total params: 166,913\n",
      "Trainable params: 166,913\n",
      "Non-trainable params: 0\n",
      "__________________________________________________________________________________________________\n"
     ]
    }
   ],
   "source": [
    "input = tf.keras.layers.Input(batch_input_shape=[None]+X.shape[1:])\n",
    "x = tf.keras.layers.Dense(\n",
    "    128, activation='tanh',\n",
    "    kernel_initializer='he_normal',\n",
    "    kernel_regularizer=tf.keras.regularizers.L2(1e-3)\n",
    ")(input)\n",
    "\n",
    "for i in range(10):\n",
    "    r = tf.keras.layers.Dense(128, activation='tanh', kernel_initializer='zeros')(x)\n",
    "    x = tf.keras.layers.Add()([x, r])\n",
    "x = tf.keras.layers.Dense(1, activation='sigmoid', kernel_initializer='he_normal')(x)\n",
    "\n",
    "model = tf.keras.Model(inputs=[input], outputs=[x])\n",
    "model.summary()"
   ]
  },
  {
   "cell_type": "markdown",
   "id": "2a0087b1-11c1-4f6a-9070-035b6a82ded4",
   "metadata": {},
   "source": [
    "The rest of the training procedure is rather standard:\n",
    " * loss function: [binary cross-entropy](https://www.tensorflow.org/api_docs/python/tf/keras/losses/BinaryCrossentropy)\n",
    " * optimizer: [RMSprop](https://www.tensorflow.org/api_docs/python/tf/keras/optimizers/experimental/RMSprop) or [Adam](https://www.tensorflow.org/api_docs/python/tf/keras/optimizers/Adam)"
   ]
  },
  {
   "cell_type": "code",
   "execution_count": 7,
   "id": "ca8c457b-076b-4340-996f-695ae7598c3c",
   "metadata": {},
   "outputs": [],
   "source": [
    "from tensorflow.keras.losses import BinaryCrossentropy\n",
    "from tensorflow.keras.optimizers import RMSprop"
   ]
  },
  {
   "cell_type": "markdown",
   "id": "6285d8a9-5e39-4fc9-a6c1-ce4d7e5027bb",
   "metadata": {},
   "source": [
    "To speed up convergence, we split the training procedure in two steps. \n",
    "First, we proceed at high learning rate and then we operate some fine tuning of the network drastrically reducing it.\n",
    "Similar results might be obtained in a more elegant way using a keras [LearningRateScheduler](https://keras.io/api/callbacks/learning_rate_scheduler/).\n",
    "\n",
    "Instead of setting a fixed number of epochs, we switch from one learning rate to the next one upon lack of improvement for at least 5 epochs."
   ]
  },
  {
   "cell_type": "code",
   "execution_count": 8,
   "id": "134972ba-596f-45fc-a754-22ab990fcf10",
   "metadata": {},
   "outputs": [
    {
     "name": "stdout",
     "output_type": "stream",
     "text": [
      "Epoch 1/50\n",
      "501/501 [==============================] - 90s 176ms/step - loss: 0.3761 - val_loss: 0.2535\n",
      "Epoch 2/50\n",
      "501/501 [==============================] - 85s 168ms/step - loss: 0.2224 - val_loss: 0.2068\n",
      "Epoch 3/50\n",
      "501/501 [==============================] - 84s 166ms/step - loss: 0.2054 - val_loss: 0.1941\n",
      "Epoch 4/50\n",
      "501/501 [==============================] - 84s 167ms/step - loss: 0.1973 - val_loss: 0.1961\n",
      "Epoch 5/50\n",
      "501/501 [==============================] - 85s 169ms/step - loss: 0.1932 - val_loss: 0.1911\n",
      "Epoch 6/50\n",
      "501/501 [==============================] - 88s 175ms/step - loss: 0.1886 - val_loss: 0.1841\n",
      "Epoch 7/50\n",
      "501/501 [==============================] - 85s 168ms/step - loss: 0.1848 - val_loss: 0.1819\n",
      "Epoch 8/50\n",
      "501/501 [==============================] - 88s 174ms/step - loss: 0.1833 - val_loss: 0.1928\n",
      "Epoch 9/50\n",
      "501/501 [==============================] - 87s 172ms/step - loss: 0.1794 - val_loss: 0.1818\n",
      "Epoch 10/50\n",
      "501/501 [==============================] - 86s 171ms/step - loss: 0.1783 - val_loss: 0.1707\n",
      "Epoch 11/50\n",
      "501/501 [==============================] - 84s 166ms/step - loss: 0.1773 - val_loss: 0.1719\n",
      "Epoch 12/50\n",
      "501/501 [==============================] - 83s 164ms/step - loss: 0.1754 - val_loss: 0.1815\n",
      "Epoch 13/50\n",
      "501/501 [==============================] - 85s 168ms/step - loss: 0.1751 - val_loss: 0.1847\n"
     ]
    }
   ],
   "source": [
    "model.compile(loss=BinaryCrossentropy(label_smoothing=0.01), optimizer=RMSprop(10e-3))\n",
    "early_stopping = tf.keras.callbacks.EarlyStopping(monitor='val_loss', patience=3)\n",
    "\n",
    "batch_size=100_000\n",
    "\n",
    "training_data = train_dataset.batch(batch_size, drop_remainder=True).prefetch(tf.data.AUTOTUNE)\n",
    "validation_data=next(iter(validation_dataset.batch(batch_size)))\n",
    "\n",
    "history = model.fit(training_data, epochs=50, validation_data=validation_data, callbacks=[early_stopping])"
   ]
  },
  {
   "cell_type": "code",
   "execution_count": 9,
   "id": "d65cec0c-e525-4d8f-a0bc-127f6bd10347",
   "metadata": {},
   "outputs": [
    {
     "name": "stdout",
     "output_type": "stream",
     "text": [
      "Epoch 1/50\n",
      "501/501 [==============================] - 82s 161ms/step - loss: 0.1314 - val_loss: 0.1297\n",
      "Epoch 2/50\n",
      "501/501 [==============================] - 86s 171ms/step - loss: 0.1270 - val_loss: 0.1290\n",
      "Epoch 3/50\n",
      "501/501 [==============================] - 84s 165ms/step - loss: 0.1255 - val_loss: 0.1261\n",
      "Epoch 4/50\n",
      "501/501 [==============================] - 85s 169ms/step - loss: 0.1228 - val_loss: 0.1234\n",
      "Epoch 5/50\n",
      "501/501 [==============================] - 86s 171ms/step - loss: 0.1219 - val_loss: 0.1229\n",
      "Epoch 6/50\n",
      "501/501 [==============================] - 82s 163ms/step - loss: 0.1201 - val_loss: 0.1206\n",
      "Epoch 7/50\n",
      "501/501 [==============================] - 85s 168ms/step - loss: 0.1188 - val_loss: 0.1192\n",
      "Epoch 8/50\n",
      "501/501 [==============================] - 86s 169ms/step - loss: 0.1181 - val_loss: 0.1189\n",
      "Epoch 9/50\n",
      "501/501 [==============================] - 82s 161ms/step - loss: 0.1166 - val_loss: 0.1177\n",
      "Epoch 10/50\n",
      "501/501 [==============================] - 88s 175ms/step - loss: 0.1156 - val_loss: 0.1165\n",
      "Epoch 11/50\n",
      "501/501 [==============================] - 86s 171ms/step - loss: 0.1148 - val_loss: 0.1164\n",
      "Epoch 12/50\n",
      "501/501 [==============================] - 86s 171ms/step - loss: 0.1146 - val_loss: 0.1165\n",
      "Epoch 13/50\n",
      "501/501 [==============================] - 84s 166ms/step - loss: 0.1132 - val_loss: 0.1140\n",
      "Epoch 14/50\n",
      "501/501 [==============================] - 82s 162ms/step - loss: 0.1128 - val_loss: 0.1147\n",
      "Epoch 15/50\n",
      "501/501 [==============================] - 87s 172ms/step - loss: 0.1130 - val_loss: 0.1137\n",
      "Epoch 16/50\n",
      "501/501 [==============================] - 82s 163ms/step - loss: 0.1118 - val_loss: 0.1128\n",
      "Epoch 17/50\n",
      "501/501 [==============================] - 86s 170ms/step - loss: 0.1112 - val_loss: 0.1130\n",
      "Epoch 18/50\n",
      "501/501 [==============================] - 84s 166ms/step - loss: 0.1112 - val_loss: 0.1123\n",
      "Epoch 19/50\n",
      "501/501 [==============================] - 83s 164ms/step - loss: 0.1109 - val_loss: 0.1119\n",
      "Epoch 20/50\n",
      "501/501 [==============================] - 84s 166ms/step - loss: 0.1099 - val_loss: 0.1107\n",
      "Epoch 21/50\n",
      "501/501 [==============================] - 82s 163ms/step - loss: 0.1094 - val_loss: 0.1102\n",
      "Epoch 22/50\n",
      "501/501 [==============================] - 82s 163ms/step - loss: 0.1091 - val_loss: 0.1104\n",
      "Epoch 23/50\n",
      "501/501 [==============================] - 83s 164ms/step - loss: 0.1091 - val_loss: 0.1114\n",
      "Epoch 24/50\n",
      "501/501 [==============================] - 83s 165ms/step - loss: 0.1088 - val_loss: 0.1108\n",
      "Epoch 25/50\n",
      "501/501 [==============================] - 81s 160ms/step - loss: 0.1083 - val_loss: 0.1099\n",
      "Epoch 26/50\n",
      "501/501 [==============================] - 86s 170ms/step - loss: 0.1083 - val_loss: 0.1093\n",
      "Epoch 27/50\n",
      "501/501 [==============================] - 82s 162ms/step - loss: 0.1083 - val_loss: 0.1092\n",
      "Epoch 28/50\n",
      "501/501 [==============================] - 82s 163ms/step - loss: 0.1079 - val_loss: 0.1100\n",
      "Epoch 29/50\n",
      "501/501 [==============================] - 80s 159ms/step - loss: 0.1078 - val_loss: 0.1093\n",
      "Epoch 30/50\n",
      "501/501 [==============================] - 81s 161ms/step - loss: 0.1073 - val_loss: 0.1091\n",
      "Epoch 31/50\n",
      "501/501 [==============================] - 81s 161ms/step - loss: 0.1072 - val_loss: 0.1089\n",
      "Epoch 32/50\n",
      "501/501 [==============================] - 82s 163ms/step - loss: 0.1070 - val_loss: 0.1084\n",
      "Epoch 33/50\n",
      "501/501 [==============================] - 83s 164ms/step - loss: 0.1070 - val_loss: 0.1083\n",
      "Epoch 34/50\n",
      "501/501 [==============================] - 85s 168ms/step - loss: 0.1069 - val_loss: 0.1080\n",
      "Epoch 35/50\n",
      "501/501 [==============================] - 81s 160ms/step - loss: 0.1064 - val_loss: 0.1076\n",
      "Epoch 36/50\n",
      "501/501 [==============================] - 84s 165ms/step - loss: 0.1066 - val_loss: 0.1087\n",
      "Epoch 37/50\n",
      "501/501 [==============================] - 84s 166ms/step - loss: 0.1065 - val_loss: 0.1083\n",
      "Epoch 38/50\n",
      "501/501 [==============================] - 82s 162ms/step - loss: 0.1062 - val_loss: 0.1070\n",
      "Epoch 39/50\n",
      "501/501 [==============================] - 81s 160ms/step - loss: 0.1056 - val_loss: 0.1095\n",
      "Epoch 40/50\n",
      "501/501 [==============================] - 81s 160ms/step - loss: 0.1058 - val_loss: 0.1085\n",
      "Epoch 41/50\n",
      "501/501 [==============================] - 81s 160ms/step - loss: 0.1089 - val_loss: 0.1107\n",
      "Epoch 42/50\n",
      "501/501 [==============================] - 80s 158ms/step - loss: 0.1083 - val_loss: 0.1085\n",
      "Epoch 43/50\n",
      "501/501 [==============================] - 80s 159ms/step - loss: 0.1075 - val_loss: 0.1076\n"
     ]
    }
   ],
   "source": [
    "model.compile(loss=BinaryCrossentropy(label_smoothing=0.00), optimizer=RMSprop(1e-3))\n",
    "early_stopping = tf.keras.callbacks.EarlyStopping(monitor='val_loss', patience=5)\n",
    "history_ft = model.fit(training_data, epochs=50, validation_data=validation_data, callbacks=[early_stopping])"
   ]
  },
  {
   "cell_type": "markdown",
   "id": "6221a98c-9320-49cd-b8fc-0a306082864f",
   "metadata": {},
   "source": [
    "The two regimes are well visibile in the plot below, combining the two training phases in a single epoch count."
   ]
  },
  {
   "cell_type": "code",
   "execution_count": 10,
   "id": "a8a5d610-777b-4c14-b3d8-f84b39ae4ea0",
   "metadata": {},
   "outputs": [
    {
     "data": {
      "image/png": "[encoded data removed]",
      "text/plain": [
       "<Figure size 640x480 with 1 Axes>"
      ]
     },
     "metadata": {},
     "output_type": "display_data"
    }
   ],
   "source": [
    "plt.plot(history.history['loss'] + history_ft.history['loss'], label=\"Loss (train)\")\n",
    "plt.plot(history.history['val_loss'] + history_ft.history['val_loss'], label=\"Loss (validation)\")\n",
    "plt.xlabel(\"Epoch\")\n",
    "plt.ylabel(\"Binary cross-entropy\")\n",
    "plt.yscale('log')\n",
    "plt.legend()\n",
    "plt.show()"
   ]
  },
  {
   "cell_type": "markdown",
   "id": "243a88a7-a195-4e99-b443-6537e3849fca",
   "metadata": {},
   "source": [
    "## A first, rough validation\n",
    "\n",
    "While a proper validation of the model is demanded to a dedicated notebook, here we check that the training was not completely failed and provides reasonable numbers.\n",
    "\n",
    "In particular, we compare the distributions of the training lables and of the predictions.\n",
    "\n",
    "Clearly, the training labels are either 1 or 0 because a particle is either in acceptance or not. Instead, the output of the neural network is a probability and hence it will be distributed between 0 and 1. \n",
    "\n",
    "The comparison is used to ensure that both the training labels and the network output are not unreasonable, for example collapsed into a single value or with training labels belonging to a single category."
   ]
  },
  {
   "cell_type": "code",
   "execution_count": 11,
   "id": "82af7a02",
   "metadata": {
    "collapsed": false,
    "jupyter": {
     "outputs_hidden": false
    },
    "pycharm": {
     "name": "#%%\n"
    }
   },
   "outputs": [
    {
     "data": {
      "image/png": "[encoded data removed]",
      "text/plain": [
       "<Figure size 640x480 with 1 Axes>"
      ]
     },
     "metadata": {},
     "output_type": "display_data"
    }
   ],
   "source": [
    "Xv, yv = next(iter(validation_dataset.batch(1_000_000).as_numpy_iterator()))\n",
    "yv_hat = model.predict(Xv, batch_size=len(Xv))\n",
    "bins = np.linspace(0, 1, 11)\n",
    "plt.hist(yv, bins=bins, label=\"Training labels\")\n",
    "plt.hist(yv_hat, bins=bins, histtype='step', linewidth=2, label=\"Prediction\")\n",
    "plt.legend()\n",
    "plt.show()"
   ]
  },
  {
   "cell_type": "markdown",
   "id": "dc11205b-e3b6-478f-8b4d-da28fc5e3ec1",
   "metadata": {},
   "source": [
    "Then we can compare the distribution of a preprocessed variable before and after the application of the acceptance requirement.\n",
    "\n",
    "Here, for example, we consider the preprocessed log-value of the momentum.\n",
    "\n",
    "Since the variable is preprocessed, without applying any cut (**Generated**) we have a perfectly normalized Gaussian.\n",
    "\n",
    "Applying the criterion `acceptance == 1` we get another distribution that we expect to model with decent approximation by applying the response of the trained neural networks as weights to the **Generated** dataset.\n",
    "\n",
    "The comparison of the two histograms (obtained by applying a cut on the true acceptance or applying a weight on the acceptance probability) provides a first validation on the quality of the parametrization."
   ]
  },
  {
   "cell_type": "code",
   "execution_count": 12,
   "id": "86b205bd",
   "metadata": {
    "collapsed": false,
    "jupyter": {
     "outputs_hidden": false
    },
    "pycharm": {
     "name": "#%%\n"
    }
   },
   "outputs": [
    {
     "data": {
      "image/png": "[encoded data removed]",
      "text/plain": [
       "<Figure size 640x480 with 1 Axes>"
      ]
     },
     "metadata": {},
     "output_type": "display_data"
    }
   ],
   "source": [
    "log_p = Xv[:,3]\n",
    "bins = np.linspace(-4, 4, 121)\n",
    "denominator, _ = np.histogram(log_p, bins=bins)\n",
    "true_numerator, _ = np.histogram(log_p, bins=bins, weights=yv.flatten())\n",
    "predicted_numerator, _ = np.histogram(log_p, bins=bins, weights=yv_hat.flatten())\n",
    "\n",
    "plt.hist((bins[1:] + bins[:-1])/2, bins=bins, weights=denominator, label=\"Generated\", histtype='step')\n",
    "plt.hist((bins[1:] + bins[:-1])/2, bins=bins, weights=predicted_numerator, label=\"In acceptance (model)\", histtype='step', linewidth=2)\n",
    "#plt.plot((bins[1:] + bins[:-1])/2, predicted_numerator, label=\"In acceptance (model)\")\n",
    "plt.fill_between(\n",
    "    (bins[1:] + bins[:-1])/2, np.zeros(len(true_numerator)), true_numerator,\n",
    "    label=\"In acceptance (validation)\",\n",
    "    color='#88ee88'\n",
    ")\n",
    "plt.xlabel(r\"$\\log_{10} \\left(p / (1 \\mathrm{MeV}/c\\right)$\")\n",
    "plt.legend()\n",
    "plt.show()"
   ]
  },
  {
   "cell_type": "markdown",
   "id": "4155fdbf-2e13-4a66-9ff2-4ef64137f032",
   "metadata": {},
   "source": [
    "## Export the model\n",
    "Finally, we export the model to the same folder where the pretraining step was stored."
   ]
  },
  {
   "cell_type": "code",
   "execution_count": 13,
   "id": "e0989f48-83a5-4635-8fc9-c2647dfea999",
   "metadata": {},
   "outputs": [
    {
     "name": "stdout",
     "output_type": "stream",
     "text": [
      "INFO:tensorflow:Assets written to: /workarea/local/shared/scapelli/trained_models/2016MU/10134000/models/acceptance/assets\n"
     ]
    },
    {
     "name": "stderr",
     "output_type": "stream",
     "text": [
      "/usr/local/miniconda3/envs/tf_on_gpu/lib/python3.9/site-packages/keras/utils/generic_utils.py:494: CustomMaskWarning: Custom mask layers require a config and must override get_config. When loading, the custom mask layer must be passed to the custom_objects argument.\n",
      "  warnings.warn('Custom mask layers require a config and must override '\n"
     ]
    }
   ],
   "source": [
    "import os\n",
    "default_output_model = \"/workarea/cloud-storage/anderlinil/models/acceptance/saved_model.pb\"\n",
    "output_model = os.path.dirname(environ['OUTPUT_MODEL']) if 'OUTPUT_MODEL' in environ else default_output_model\n",
    "base_dir = os.path.dirname(output_model)\n",
    "if not os.path.exists(base_dir):\n",
    "    os.mkdir(base_dir)\n",
    "model.save(output_model)"
   ]
  },
  {
   "cell_type": "markdown",
   "id": "6a41945b-80fe-491e-9dcc-211c052c9f5a",
   "metadata": {},
   "source": [
    "## Conclusion\n",
    "\n",
    "In this notebook we have:\n",
    " * loaded the training and validation data\n",
    " * defined a neural network model for the acceptance\n",
    " * trained the model on simulated data\n",
    " * performed a couple of sanity checks to ensure the training procedure did not fail\n",
    " * exported the model to disk\n",
    " \n",
    "In the next notebook we will perform a more detaile validation, by splitting the sample in kinematic bins and comparing for each bin the distribution of particles in acceptance."
   ]
  },
  {
   "cell_type": "code",
   "execution_count": 14,
   "id": "716296c6-9f67-4a9a-9b1f-dabe9ee40f90",
   "metadata": {},
   "outputs": [
    {
     "name": "stdout",
     "output_type": "stream",
     "text": [
      "Exported Acceptance.ipynb as html,pdf in /workarea/local/shared/scapelli/notebooks_exports/2016MU/10134000\n"
     ]
    }
   ],
   "source": [
    "### export notebooks for comparisons\n",
    "if environ.get('NB_EXPORT',\"False\")==\"True\":\n",
    "    import os\n",
    "    nb_save  = \"/workarea/local/shared/scapelli/notebooks_exports\"         # export output dir\n",
    "    nb_save  = nb_save+environ['TRAINING_DATA_FOLDER']                     # according to train data\n",
    "    if not os.path.isdir(nb_save): os.makedirs(nb_save)                    # create if not exists\n",
    "    nbs_path = \"/workarea/local/shared/scapelli/lb-trksim-train/notebooks\" # notebooks folder\n",
    "    nb_filename = \"Acceptance.ipynb\"                                       # notebook name\n",
    "    extensions  = [\"html\",\"pdf\"]                                           # export formats\n",
    "    for ext in extensions:\n",
    "        os.system(\"jupyter nbconvert --log-level=40 --no-input --output-dir {0} --to {1} {2}/{3}\".format(nb_save,ext.upper(),nbs_path,nb_filename))\n",
    "    print(\"Exported {} as {} in {}\".format(nb_filename,','.join(extensions),nb_save))"
   ]
  }
 ],
 "metadata": {
  "kernelspec": {
   "display_name": "TensorFlow on GPU",
   "language": "python",
   "name": "tf_on_gpu"
  },
  "language_info": {
   "codemirror_mode": {
    "name": "ipython",
    "version": 3
   },
   "file_extension": ".py",
   "mimetype": "text/x-python",
   "name": "python",
   "nbconvert_exporter": "python",
   "pygments_lexer": "ipython3",
   "version": "3.9.15"
  }
 },
 "nbformat": 4,
 "nbformat_minor": 5
}
