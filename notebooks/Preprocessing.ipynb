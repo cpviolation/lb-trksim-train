{
 "cells": [
  {
   "cell_type": "code",
   "execution_count": null,
   "id": "88872d5f-ae4f-4c60-b136-5155f793e194",
   "metadata": {},
   "outputs": [],
   "source": [
    "### Defining Environment variables pointing to user folders if not already defined by terminal\n",
    "from os import environ\n",
    "from glob import glob\n",
    "\n",
    "environ.setdefault('DATA_STORAGE',\"/mlinfn/minio/lhcb-data/anderlinil/LamarrBenderTrain\")\n",
    "\n",
    "environ.setdefault('HOME_DIR', \"/mlinfn/shared/lamarr/\"+ environ['USERNAME'])\n",
    "environ.setdefault('TRAINING_DATA_FOLDER',\"/j100\")\n",
    "environ.setdefault('MODEL_STORAGE',environ['HOME_DIR']+\"/trained_models\"+environ['TRAINING_DATA_FOLDER'])\n",
    "\n",
    "environ.setdefault('INPUT_PATH',environ['DATA_STORAGE']+environ['TRAINING_DATA_FOLDER']+\"/*.root\")\n",
    "environ.setdefault('INPUT_FILES',\" \".join(glob(environ['INPUT_PATH'])))\n",
    "\n",
    "environ.setdefault(\"FEATHER_FOLDER\"       , environ['HOME_DIR']+\"/lb-trksim-train/notebooks/feather_folder\"+environ['TRAINING_DATA_FOLDER'])\n",
    "environ.setdefault(\"ACCEPTANCE_TRAIN\"     , environ[\"FEATHER_FOLDER\"]+\"/acceptance-train\")\n",
    "environ.setdefault(\"ACCEPTANCE_TEST\"      , environ[\"FEATHER_FOLDER\"]+\"/acceptance-test\")\n",
    "environ.setdefault(\"ACCEPTANCE_VALIDATION\", environ[\"FEATHER_FOLDER\"]+\"/acceptance-validation\")\n",
    "environ.setdefault(\"EFFICIENCY_TRAIN\"     , environ[\"FEATHER_FOLDER\"]+\"/efficiency-train\")\n",
    "environ.setdefault(\"EFFICIENCY_TEST\"      , environ[\"FEATHER_FOLDER\"]+\"/efficiency-test\")\n",
    "environ.setdefault(\"EFFICIENCY_VALIDATION\", environ[\"FEATHER_FOLDER\"]+\"/efficiency-validation\")\n",
    "\n",
    "_ = environ.setdefault('NB_EXPORT',\"True\")"
   ]
  },
  {
   "cell_type": "markdown",
   "id": "d7a1bbe1-eda9-47c0-8006-8c14037c1c9d",
   "metadata": {
    "tags": []
   },
   "source": [
    "# Preprocessing steps for *Acceptance* and *Efficiency* models\n",
    "##### Tested on environment `LHCb Analysis Facility` of Docker image [`landerlini/lhcbaf:v0p8`](https://hub.docker.com/r/landerlini/lhcbaf)\n",
    "\n",
    "This is the first notebook of the processing chain. Here, we obtain the data from the remote storage and convert them from ROOT format to pandas DataFrames. Then we apply a `QuantileTransformer` from `scikit-learn` to present to the Artificial Neural Networks Gaussian distributed data. Finally we store to remote storage the preprocessing steps.\n",
    "\n",
    "This is the notebook where the input features and the labels are defined.\n",
    "\n",
    "### Technologies and libraries\n",
    "On top of the standard Python echosystem we are using:\n",
    " * `uproot` to convert data from `ROOT TTrees` to `pandas DataFrames`\n",
    " * `dask DataFrame` to enable processing datasets larger than the available RAM. Dask takes care of flushing from disk to RAM the data, converting from ROOT to pandas data format on demand.\n",
    " * `Arrow Feather` data format to cache in local storage the training dataset\n",
    "     * Note that custom wrappers to Dask and TensorFlow, as defined in `feather_io.py` are needed "
   ]
  },
  {
   "cell_type": "code",
   "execution_count": null,
   "id": "95bf707b-a587-4808-b895-2996cff1f5b7",
   "metadata": {},
   "outputs": [],
   "source": [
    "import numpy as np\n",
    "import pandas as pd\n",
    "!conda run -n tf_on_gpu python3 -m pip install -q \"dask[diagnostics]\"\n",
    "import dask.dataframe as ddf\n",
    "import uproot\n",
    "from os import environ"
   ]
  },
  {
   "cell_type": "markdown",
   "id": "7abd926d-768c-43f3-a81f-dab780e88eae",
   "metadata": {},
   "source": [
    "### Loading data\n",
    "Input data are obtained from the environment variable `$INPUT_FILES`.\n",
    "For debugging purpose a default value is provided."
   ]
  },
  {
   "cell_type": "code",
   "execution_count": 2,
   "id": "8fbc3902-5d74-45c2-bddc-0e31c6b43d19",
   "metadata": {},
   "outputs": [
    {
     "name": "stdout",
     "output_type": "stream",
     "text": [
      "Found 10 files from /workarea/local/private/cache/data/j100/*.root\n"
     ]
    }
   ],
   "source": [
    "from glob import glob\n",
    "file_pattern = \"/mlinfn/minio/anderlinil/LamarrBenderTrain/j100/*.root\" # default path\n",
    "default_file_path = environ.get(\"INPUT_PATH\", file_pattern)\n",
    "file_list = environ.get(\"INPUT_FILES\", \" \".join(glob(default_file_path))).split(\" \")\n",
    "\n",
    "print (f\"Found {len(file_list)} files from {default_file_path}\")  "
   ]
  },
  {
   "cell_type": "markdown",
   "id": "da4836af-374e-42ad-b2ed-c8274700db7a",
   "metadata": {},
   "source": [
    "### Conversion from `ROOT TTree` to `Pandas DataFrame`\n",
    "\n",
    "Training data is obtained from a Bender job running on simulated data.\n",
    "The ROOT files obtained from Bender are structured in multiple `TDirector`ies for the training of different models.\n",
    "Here we are considering only the *Tracking* part, corresponding to the `TDirectory` named `\"TrackingTuple\"`.\n",
    "\n",
    "Two `TTree`s are defined:\n",
    " * `sim` with the generator-level particles, possibly matched to reconstructed tracks\n",
    " * `reco` reconstructed tracks with additional information on the reconstructed track parameters and their uncertainties.\n",
    "\n"
   ]
  },
  {
   "cell_type": "code",
   "execution_count": 4,
   "id": "ff180672-b5b3-446a-8fcf-ee28c5f1bd36",
   "metadata": {},
   "outputs": [],
   "source": [
    "def read_root(filename, tree=None):\n",
    "    if tree is None:\n",
    "        return uproot.open(filename)\n",
    "    \n",
    "    return pd.DataFrame(uproot.open(filename)[tree].arrays(library='np'))\n",
    "\n",
    "from functools import partial\n",
    "sim = (ddf.from_map (partial(read_root, tree=\"TrackingTupler/sim\"), file_list)\n",
    "          .query(\"acceptance <= 1\")\n",
    "       )"
   ]
  },
  {
   "cell_type": "markdown",
   "id": "21bf3a27-f559-49f8-a5b4-e714470a491d",
   "metadata": {},
   "source": [
    "#### `sim`: Generator-level particles\n",
    "The complte list of variables defined for all generator-level particles is provided below."
   ]
  },
  {
   "cell_type": "code",
   "execution_count": 5,
   "id": "4fdf3a24-41d8-4630-9d8b-c18e49659be2",
   "metadata": {},
   "outputs": [
    {
     "data": {
      "text/html": [
       "<UL><LI> <PRE>mc_key</PRE> \n",
       "<LI> <PRE>evtNumber</PRE> \n",
       "<LI> <PRE>runNumber</PRE> \n",
       "<LI> <PRE>acceptance</PRE> \n",
       "<LI> <PRE>reconstructible</PRE> \n",
       "<LI> <PRE>recobleCat</PRE> \n",
       "<LI> <PRE>mcID</PRE> \n",
       "<LI> <PRE>mcIDmother</PRE> \n",
       "<LI> <PRE>mc_charge</PRE> \n",
       "<LI> <PRE>fromSignal</PRE> \n",
       "<LI> <PRE>reconstructed</PRE> \n",
       "<LI> <PRE>type</PRE> \n",
       "<LI> <PRE>mc_vertexType</PRE> \n",
       "<LI> <PRE>mc_primaryVertexType</PRE> \n",
       "<LI> <PRE>mc_motherVertexType</PRE> \n",
       "<LI> <PRE>mc_x</PRE> \n",
       "<LI> <PRE>mc_y</PRE> \n",
       "<LI> <PRE>mc_z</PRE> \n",
       "<LI> <PRE>mc_r</PRE> \n",
       "<LI> <PRE>mc_tx</PRE> \n",
       "<LI> <PRE>mc_ty</PRE> \n",
       "<LI> <PRE>mc_px</PRE> \n",
       "<LI> <PRE>mc_py</PRE> \n",
       "<LI> <PRE>mc_pz</PRE> \n",
       "<LI> <PRE>mc_p</PRE> \n",
       "<LI> <PRE>mc_pt</PRE> \n",
       "<LI> <PRE>mc_eta</PRE> \n",
       "<LI> <PRE>mc_phi</PRE> \n",
       "<LI> <PRE>mc_mass</PRE> \n",
       "<LI> <PRE>x_ClosestToBeam</PRE> \n",
       "<LI> <PRE>y_ClosestToBeam</PRE> \n",
       "<LI> <PRE>z_ClosestToBeam</PRE> \n",
       "<LI> <PRE>tx_ClosestToBeam</PRE> \n",
       "<LI> <PRE>ty_ClosestToBeam</PRE> \n",
       "<LI> <PRE>px_ClosestToBeam</PRE> \n",
       "<LI> <PRE>py_ClosestToBeam</PRE> \n",
       "<LI> <PRE>pz_ClosestToBeam</PRE> \n",
       "<LI> <PRE>p_ClosestToBeam</PRE> \n",
       "<LI> <PRE>pt_ClosestToBeam</PRE> \n",
       "<LI> <PRE>eta_ClosestToBeam</PRE> \n",
       "<LI> <PRE>phi_ClosestToBeam</PRE> \n",
       "<LI> <PRE>mass_ClosestToBeam</PRE> </UL>"
      ],
      "text/plain": [
       "<IPython.core.display.HTML object>"
      ]
     },
     "execution_count": 5,
     "metadata": {},
     "output_type": "execute_result"
    }
   ],
   "source": [
    "from IPython.display import HTML\n",
    "HTML (\"<UL>\" + \"\\n\".join(f\"<LI> <PRE>{var}</PRE> \" for var in sim.columns) + \"</UL>\")"
   ]
  },
  {
   "cell_type": "markdown",
   "id": "232e4b74-4dfa-4aad-b025-a4c8d4aa7c23",
   "metadata": {},
   "source": [
    "## Acceptance model\n",
    "#### Definition of the variables\n",
    "Some useful feature is missing, in particular we are defining the \n",
    " * $\\log_{10} p$ of the particle which ease the job of the Quantile Transformer\n",
    " * $t_x$ and $t_y$ which are the slopes of the track on the origin vertex\n",
    " * `is_e`, `is_mu` and `is_h` providing boolean values used to define whether a particle is an electron, a muon or a hadron (pion, kaon, or proton).\n",
    " "
   ]
  },
  {
   "cell_type": "code",
   "execution_count": 6,
   "id": "eee85a42-58e5-4412-ad30-bed8e999de0b",
   "metadata": {},
   "outputs": [],
   "source": [
    "sim['mc_log10_p'] = (np.log(sim.mc_p)/np.log(10)).astype(np.float32)\n",
    "sim['mc_tx'] = sim.mc_px/sim.mc_pz\n",
    "sim['mc_ty'] = sim.mc_py/sim.mc_pz\n",
    "sim['mc_is_e'] = abs(sim.mcID).isin([11]).astype(np.float32)\n",
    "sim['mc_is_mu'] = abs(sim.mcID).isin([13]).astype(np.float32)\n",
    "sim['mc_is_h'] = abs(sim.mcID).isin([211, 321, 2212]).astype(np.float32)"
   ]
  },
  {
   "cell_type": "markdown",
   "id": "4c6860db-004b-40f4-9ad2-7846cf07ba94",
   "metadata": {},
   "source": [
    "The complete list of variables is provided below"
   ]
  },
  {
   "cell_type": "code",
   "execution_count": 7,
   "id": "f3338ba6-c4f9-40bf-846c-2970f412a881",
   "metadata": {},
   "outputs": [
    {
     "data": {
      "text/html": [
       "<H3>Features</H3><UL><LI> <PRE>mc_x</PRE> \n",
       "<LI> <PRE>mc_y</PRE> \n",
       "<LI> <PRE>mc_z</PRE> \n",
       "<LI> <PRE>mc_log10_p</PRE> \n",
       "<LI> <PRE>mc_tx</PRE> \n",
       "<LI> <PRE>mc_ty</PRE> \n",
       "<LI> <PRE>mc_eta</PRE> \n",
       "<LI> <PRE>mc_phi</PRE> \n",
       "<LI> <PRE>mc_is_e</PRE> \n",
       "<LI> <PRE>mc_is_mu</PRE> \n",
       "<LI> <PRE>mc_is_h</PRE> \n",
       "<LI> <PRE>mc_charge</PRE> </UL>"
      ],
      "text/plain": [
       "<IPython.core.display.HTML object>"
      ]
     },
     "metadata": {},
     "output_type": "display_data"
    },
    {
     "data": {
      "text/html": [
       "<H3>Labels</H3><UL><LI> <PRE>acceptance</PRE> </UL>"
      ],
      "text/plain": [
       "<IPython.core.display.HTML object>"
      ]
     },
     "metadata": {},
     "output_type": "display_data"
    }
   ],
   "source": [
    "acceptance_features = [\"mc_x\", \"mc_y\", \"mc_z\", \"mc_log10_p\", \"mc_tx\", \"mc_ty\", \"mc_eta\", \"mc_phi\"]\n",
    "acceptance_flags = [\"mc_is_e\", \"mc_is_mu\", \"mc_is_h\", \"mc_charge\"]\n",
    "\n",
    "acceptance_vars = acceptance_features + acceptance_flags \n",
    "acceptance_labels = [\"acceptance\"]\n",
    "\n",
    "display(HTML (\"<H3>Features</H3><UL>\" + \"\\n\".join(f\"<LI> <PRE>{var}</PRE> \" for var in acceptance_vars) + \"</UL>\"))\n",
    "display(HTML (\"<H3>Labels</H3><UL>\" + \"\\n\".join(f\"<LI> <PRE>{var}</PRE> \" for var in acceptance_labels) + \"</UL>\"))"
   ]
  },
  {
   "cell_type": "markdown",
   "id": "5ea8826f-a70a-426a-8c57-8d1bb52ddc83",
   "metadata": {},
   "source": [
    "## Preliminary plots and harmful outliers\n",
    "\n",
    "Before preprocessing the data we ensure that the distributions are well behaved.\n",
    "We should pay particular attention to outlayers falling in regions completely dijoint from the core of the distribution.\n",
    "\n",
    "Tails are tractable with the `QuantileTransformer`, while error values used by the reconstruction may lead to very inconsistent training of the neural networks and should be treated explicitely.\n",
    "\n",
    "For the acceptance this does not seem to be an issue.\n"
   ]
  },
  {
   "cell_type": "code",
   "execution_count": 8,
   "id": "27703bbc-6099-4eb9-bf55-756d95d82ea1",
   "metadata": {},
   "outputs": [
    {
     "name": "stderr",
     "output_type": "stream",
     "text": [
      "Matplotlib is building the font cache; this may take a moment.\n"
     ]
    },
    {
     "data": {
      "image/png": "[encoded data removed]",
      "text/plain": [
       "<Figure size 1600x800 with 8 Axes>"
      ]
     },
     "metadata": {},
     "output_type": "display_data"
    }
   ],
   "source": [
    "# Performs checks and plots on the first 100k rows\n",
    "import matplotlib.pyplot as plt\n",
    "\n",
    "df = sim[acceptance_vars].head(1_000_000, npartitions=10)\n",
    "plt.figure(figsize=(16,8))\n",
    "for iVar, var in enumerate(acceptance_vars[:8], 1):\n",
    "    plt.subplot(2, 4, iVar)\n",
    "    plt.hist(df[var], bins=100)\n",
    "    plt.xlabel(var)\n",
    "    plt.yscale('log')\n",
    "\n",
    "plt.tight_layout()\n",
    "plt.show()"
   ]
  },
  {
   "cell_type": "markdown",
   "id": "4eea2824-7be7-4963-b8c1-9a449bbbeced",
   "metadata": {},
   "source": [
    "### Labels\n",
    "\n",
    "A loose acceptance cut is applied already at the time of generating the nTuple, still the fraction of particles in acceptance is small."
   ]
  },
  {
   "cell_type": "code",
   "execution_count": 9,
   "id": "762deb04",
   "metadata": {
    "collapsed": false,
    "jupyter": {
     "outputs_hidden": false
    },
    "pycharm": {
     "name": "#%%\n"
    }
   },
   "outputs": [
    {
     "data": {
      "image/png": "[encoded data removed]",
      "text/plain": [
       "<Figure size 640x480 with 1 Axes>"
      ]
     },
     "metadata": {},
     "output_type": "display_data"
    }
   ],
   "source": [
    "categories = [np.count_nonzero(sim.head(100_000)[label].values) for label in acceptance_labels]\n",
    "categories.append(100_000 - sum(categories))\n",
    "\n",
    "plt.pie(categories, labels=[\"In acceptance\", \"Not in acceptance\"])\n",
    "plt.show()"
   ]
  },
  {
   "cell_type": "markdown",
   "id": "cf7dd9cb-94e1-420a-b5d2-b85e93d0ec9d",
   "metadata": {},
   "source": [
    "## Preprocessing: definintion and training of the `ColumnTransformer`\n",
    "\n",
    "We define a preprocessing step applying different transformations to different variables.\n",
    "Indeed, we plan to use the `QuantileTransformer` on continuous features while we should simply ignore the boolean flags such as `is_mu` or `is_h`.\n",
    "\n",
    "To acheive such a goal we are using `ColumnTransformer` defined in scikit-learn.\n",
    "\n",
    "We are applying the `QuantileTransformer` to the continuos features while we simply `passthrough` the boolean flags."
   ]
  },
  {
   "cell_type": "code",
   "execution_count": 10,
   "id": "52d2a5a7",
   "metadata": {
    "collapsed": false,
    "jupyter": {
     "outputs_hidden": false
    },
    "pycharm": {
     "name": "#%%\n"
    }
   },
   "outputs": [],
   "source": [
    "from sklearn.compose import ColumnTransformer\n",
    "from sklearn.preprocessing import QuantileTransformer\n",
    "\n",
    "X = df.values\n",
    "n_features = len(acceptance_features)\n",
    "n_flags = len(acceptance_flags)\n",
    "\n",
    "preprocessing_step = ColumnTransformer([\n",
    "    (\"quantile\", QuantileTransformer(output_distribution='normal'), np.arange(n_features)),\n",
    "    (\"flags\", \"passthrough\", n_features + np.arange(n_flags)) \n",
    "])\n",
    "preprocessing_step = preprocessing_step.fit(X)"
   ]
  },
  {
   "cell_type": "markdown",
   "id": "38c7969d-3e14-434d-a05b-9410ffe4eda5",
   "metadata": {},
   "source": [
    "Finally we store the trained preprocessing step in the same destination as the model that we are going to train in the next notebook."
   ]
  },
  {
   "cell_type": "code",
   "execution_count": 11,
   "id": "d3663cc7-3a93-47d4-b38a-1903f7999d59",
   "metadata": {},
   "outputs": [
    {
     "name": "stderr",
     "output_type": "stream",
     "text": [
      "2023-03-22 09:59:18.421336: I tensorflow/core/util/util.cc:169] oneDNN custom operations are on. You may see slightly different numerical results due to floating-point round-off errors from different computation orders. To turn them off, set the environment variable `TF_ENABLE_ONEDNN_OPTS=0`.\n"
     ]
    },
    {
     "data": {
      "text/html": [
       "<B>Preprocessing step stored in: </B><PRE>/workarea/local/shared/scapelli/trained_models/2016MU/10134000/models/acceptance/tX.pkl</PRE>"
      ],
      "text/plain": [
       "<IPython.core.display.HTML object>"
      ]
     },
     "metadata": {},
     "output_type": "display_data"
    }
   ],
   "source": [
    "from preprocessing_utils import store_as_pickle\n",
    "display(store_as_pickle(preprocessing_step, \"ACCEPTANCE_PREPROCESSING\", environ.get(\"ACCEPTANCE_PREPROCESSING\",environ['MODEL_STORAGE']+\"/models/acceptance/tX.pkl\")))"
   ]
  },
  {
   "cell_type": "markdown",
   "id": "9359f687-352a-43e5-a845-ca531606ce78",
   "metadata": {},
   "source": [
    "## Train, test and validation\n",
    "\n",
    "We split the sample in three subset:\n",
    " * *train* (50% of the total), used for training\n",
    " * *test* (40% of the total), used to assess the quality of the trained model by comparing the distributions obtained from the model with those of the real data\n",
    " * *validation* (10% of the toal), used to monitor the training procedure using an independent dataset to assess overtraining\n",
    " "
   ]
  },
  {
   "cell_type": "markdown",
   "id": "2da4fc4f-5d04-4722-a9f8-006e5a0ea358",
   "metadata": {},
   "source": [
    "### Cache the preprocessed datasets to local storage\n",
    "\n",
    "Finally, we are ready to process the entire dataset applying the preprocessing step and storing in a local storage the relevant features and labels."
   ]
  },
  {
   "cell_type": "code",
   "execution_count": 12,
   "id": "2f556f6b-17e2-470c-990e-d17553d59b71",
   "metadata": {},
   "outputs": [
    {
     "name": "stdout",
     "output_type": "stream",
     "text": [
      "Processing acceptance-train\n",
      "Processing acceptance-test\n",
      "Processing acceptance-validation\n"
     ]
    },
    {
     "data": {
      "text/html": [
       "<div>\n",
       "<style scoped>\n",
       "    .dataframe tbody tr th:only-of-type {\n",
       "        vertical-align: middle;\n",
       "    }\n",
       "\n",
       "    .dataframe tbody tr th {\n",
       "        vertical-align: top;\n",
       "    }\n",
       "\n",
       "    .dataframe thead th {\n",
       "        text-align: right;\n",
       "    }\n",
       "</style>\n",
       "<table border=\"1\" class=\"dataframe\">\n",
       "  <thead>\n",
       "    <tr style=\"text-align: right;\">\n",
       "      <th></th>\n",
       "      <th>0</th>\n",
       "    </tr>\n",
       "  </thead>\n",
       "  <tbody>\n",
       "    <tr>\n",
       "      <th>Train</th>\n",
       "      <td>50132462</td>\n",
       "    </tr>\n",
       "    <tr>\n",
       "      <th>Test</th>\n",
       "      <td>40104553</td>\n",
       "    </tr>\n",
       "    <tr>\n",
       "      <th>Validation</th>\n",
       "      <td>10032319</td>\n",
       "    </tr>\n",
       "  </tbody>\n",
       "</table>\n",
       "</div>"
      ],
      "text/plain": [
       "                   0\n",
       "Train       50132462\n",
       "Test        40104553\n",
       "Validation  10032319"
      ]
     },
     "execution_count": 12,
     "metadata": {},
     "output_type": "execute_result"
    }
   ],
   "source": [
    "import preprocessing_utils\n",
    "\n",
    "entries = preprocessing_utils.split_and_store(\n",
    "    sim[acceptance_vars + acceptance_labels],\n",
    "    [\n",
    "        (0.5, environ.get(\"ACCEPTANCE_TRAIN\", \"acceptance-train\")),\n",
    "        (0.4, environ.get(\"ACCEPTANCE_TEST\", \"acceptance-test\")),\n",
    "        (0.1, environ.get(\"ACCEPTANCE_VALIDATION\", \"acceptance-validation\"))\n",
    "    ],\n",
    "    chunksize=100_000_000,\n",
    "    features=acceptance_vars,\n",
    "    labels=acceptance_labels,\n",
    "    preprocessorX=preprocessing_step\n",
    ")\n",
    "    \n",
    "pd.DataFrame(entries, index=[\"Train\", \"Test\", \"Validation\"])"
   ]
  },
  {
   "cell_type": "markdown",
   "id": "72c57e80-2e2f-4611-a967-9e7c654dbafb",
   "metadata": {},
   "source": [
    "# Reconstruction efficiency\n",
    "\n",
    "The same steps followed for modelling the acceptance are now to be followed for the model of the reconstruction efficiency of charged particles. \n",
    "The model of the efficiency has a significant difference over the acceptance: while a particle is either in acceptance or not, a particle in acceptance can be reconstructed in different ways, or track classes: \n",
    " - long tracks (type: 3) are tracks obtained combining stubs in the vertex locator, in the upstream tracker and in the downstream tracking stations\n",
    " - upstream tracks (type: 4) are tracks obtained combining stubs in the vertex locator and in the upstream tracker, but without a matching in the downstream tracking section\n",
    " - downstream tracks (type: 5) are tracks obtained combining stubs in the upstream and downstream trackers, but without a matching stub in the vertex locator.\n",
    " \n",
    "Upstream tracks are ususally connected to low momentum particles that were ejected by the magnetic field before reaching the downstream tracker. The resolution on the momentum is rather poor, but the residual magnetic field between the vertex locator and the upstream tracker is sufficient to perform a decent momentum measurement. \n",
    "\n",
    "Downstream tracks are mainly due to particles decaying outside the Vertex Locator. Typical examples are the decay products from\n",
    " * $K^0_S \\to \\pi^+ \\pi^-$\n",
    " * $\\Lambda^0 \\to p \\pi^-$\n",
    " \n",
    "Downstream tracks are crucial for a number of studies involving hyperons.\n",
    "\n",
    "\n",
    "We define the set of labels accordingly, while for simplicity, the same features as for the acceptance the are used."
   ]
  },
  {
   "cell_type": "code",
   "execution_count": 13,
   "id": "ff8b1c0a-3a33-43e0-a805-bac683df1fab",
   "metadata": {},
   "outputs": [
    {
     "data": {
      "text/html": [
       "<H3>Features</H3><UL><LI> <PRE>mc_x</PRE> \n",
       "<LI> <PRE>mc_y</PRE> \n",
       "<LI> <PRE>mc_z</PRE> \n",
       "<LI> <PRE>mc_log10_p</PRE> \n",
       "<LI> <PRE>mc_tx</PRE> \n",
       "<LI> <PRE>mc_ty</PRE> \n",
       "<LI> <PRE>mc_eta</PRE> \n",
       "<LI> <PRE>mc_phi</PRE> \n",
       "<LI> <PRE>mc_is_e</PRE> \n",
       "<LI> <PRE>mc_is_mu</PRE> \n",
       "<LI> <PRE>mc_is_h</PRE> \n",
       "<LI> <PRE>mc_charge</PRE> </UL>"
      ],
      "text/plain": [
       "<IPython.core.display.HTML object>"
      ]
     },
     "metadata": {},
     "output_type": "display_data"
    },
    {
     "data": {
      "text/html": [
       "<H3>Labels</H3><UL><LI> <PRE>not_recoed</PRE> \n",
       "<LI> <PRE>recoed_as_long</PRE> \n",
       "<LI> <PRE>recoed_as_upstream</PRE> \n",
       "<LI> <PRE>recoed_as_downstream</PRE> </UL>"
      ],
      "text/plain": [
       "<IPython.core.display.HTML object>"
      ]
     },
     "metadata": {},
     "output_type": "display_data"
    }
   ],
   "source": [
    "sim['recoed_as_long'] = (sim.type==3).astype(np.float32)\n",
    "sim['recoed_as_upstream'] = (sim.type==4).astype(np.float32)\n",
    "sim['recoed_as_downstream'] = (sim.type==5).astype(np.float32)\n",
    "sim['not_recoed'] = (~sim.type.isin([3,4,5])).astype(np.float32)\n",
    "\n",
    "efficiency_features = acceptance_features\n",
    "efficiency_flags = acceptance_flags\n",
    "\n",
    "efficiency_vars = efficiency_features + efficiency_flags\n",
    "efficiency_labels = ['not_recoed', 'recoed_as_long', 'recoed_as_upstream', 'recoed_as_downstream']\n",
    "\n",
    "display(HTML (\"<H3>Features</H3><UL>\" + \"\\n\".join(f\"<LI> <PRE>{var}</PRE> \" for var in efficiency_vars) + \"</UL>\"))\n",
    "display(HTML (\"<H3>Labels</H3><UL>\" + \"\\n\".join(f\"<LI> <PRE>{var}</PRE> \" for var in efficiency_labels) + \"</UL>\"))"
   ]
  },
  {
   "cell_type": "markdown",
   "id": "67df6989-f843-48a6-a6aa-575f02b3b38a",
   "metadata": {},
   "source": [
    "### Cache preprocessed data to local storage\n",
    "\n",
    "As done for the the preprocessed dataset used to train the acceptance model, we will store in a local folder the datasets ready to be processed with tensorflow."
   ]
  },
  {
   "cell_type": "code",
   "execution_count": 14,
   "id": "7f297aa8-261c-4a68-81dc-1bad3bc6507d",
   "metadata": {},
   "outputs": [
    {
     "name": "stdout",
     "output_type": "stream",
     "text": [
      "Processing efficiency-train\n",
      "Processing efficiency-test\n",
      "Processing efficiency-validation\n"
     ]
    },
    {
     "data": {
      "text/html": [
       "<div>\n",
       "<style scoped>\n",
       "    .dataframe tbody tr th:only-of-type {\n",
       "        vertical-align: middle;\n",
       "    }\n",
       "\n",
       "    .dataframe tbody tr th {\n",
       "        vertical-align: top;\n",
       "    }\n",
       "\n",
       "    .dataframe thead th {\n",
       "        text-align: right;\n",
       "    }\n",
       "</style>\n",
       "<table border=\"1\" class=\"dataframe\">\n",
       "  <thead>\n",
       "    <tr style=\"text-align: right;\">\n",
       "      <th></th>\n",
       "      <th>0</th>\n",
       "    </tr>\n",
       "  </thead>\n",
       "  <tbody>\n",
       "    <tr>\n",
       "      <th>Train</th>\n",
       "      <td>50135896</td>\n",
       "    </tr>\n",
       "    <tr>\n",
       "      <th>Test</th>\n",
       "      <td>40109822</td>\n",
       "    </tr>\n",
       "    <tr>\n",
       "      <th>Validation</th>\n",
       "      <td>10023616</td>\n",
       "    </tr>\n",
       "  </tbody>\n",
       "</table>\n",
       "</div>"
      ],
      "text/plain": [
       "                   0\n",
       "Train       50135896\n",
       "Test        40109822\n",
       "Validation  10023616"
      ]
     },
     "execution_count": 14,
     "metadata": {},
     "output_type": "execute_result"
    }
   ],
   "source": [
    "entries = preprocessing_utils.split_and_store(\n",
    "    sim[efficiency_vars + efficiency_labels],\n",
    "    [\n",
    "        (0.5, environ.get(\"EFFICIENCY_TRAIN\", \"efficiency-train\")),\n",
    "        (0.4, environ.get(\"EFFICIENCY_TEST\", \"efficiency-test\")),\n",
    "        (0.1, environ.get(\"EFFICIENCY_VALIDATION\", \"efficiency-validation\"))\n",
    "    ],\n",
    "    chunksize=100_000_000,\n",
    "    features=efficiency_vars,\n",
    "    labels=efficiency_labels,\n",
    "    preprocessorX=preprocessing_step\n",
    ")\n",
    "    \n",
    "pd.DataFrame(entries, index=[\"Train\", \"Test\", \"Validation\"])"
   ]
  },
  {
   "cell_type": "markdown",
   "id": "6d6fc66b-ce48-45bc-888c-8be2b1851891",
   "metadata": {},
   "source": [
    "Finally we need to publish the preprocessing step to the same target directory that will host the trained model."
   ]
  },
  {
   "cell_type": "code",
   "execution_count": 15,
   "id": "5d3c18cd-abc2-45e4-a18e-eca4af35892e",
   "metadata": {},
   "outputs": [
    {
     "data": {
      "text/html": [
       "<B>Preprocessing step stored in: </B><PRE>/workarea/local/shared/scapelli/trained_models/2016MU/10134000/models/efficiency/tX.pkl</PRE>"
      ],
      "text/plain": [
       "<IPython.core.display.HTML object>"
      ]
     },
     "metadata": {},
     "output_type": "display_data"
    }
   ],
   "source": [
    "from preprocessing_utils import store_as_pickle\n",
    "display(store_as_pickle(preprocessing_step, \"EFFICIENCY_PREPROCESSING\", environ['MODEL_STORAGE']+\"/models/efficiency/tX.pkl\"))"
   ]
  },
  {
   "cell_type": "code",
   "execution_count": 19,
   "id": "3b9597c8-f9a8-42a7-862c-dc48620c1c7e",
   "metadata": {},
   "outputs": [
    {
     "name": "stdout",
     "output_type": "stream",
     "text": [
      "Exported Preprocessing.ipynb as html,pdf in /workarea/local/shared/scapelli/notebooks_exports/2016MU/10134000\n"
     ]
    }
   ],
   "source": [
    "### export notebooks for comparisons\n",
    "if environ.get('NB_EXPORT',\"False\")==\"True\":\n",
    "    from os import system,rename,path,makedirs\n",
    "    nb_save  = f\"{environ['HOME_DIR']}/notebooks_exports\"         # export output dir\n",
    "    nb_save  = nb_save+environ['TRAINING_DATA_FOLDER']            # according to train data\n",
    "    makedirs(nb_save,exist_ok=True)                    \n",
    "    nbs_path = f\"{environ['HOME_DIR']}/lb-trksim-train/notebooks\" # notebooks folder\n",
    "    nb_filename = \"Preprocessing.ipynb\"                           # notebook name\n",
    "    extensions  = [\"html\",\"pdf\"]                                  # export formats\n",
    "    for ext in extensions:\n",
    "        system(\"jupyter nbconvert --log-level=40 --no-input --output-dir {0} --to {1} {2}/{3}\".format(nb_save,ext.upper(),nbs_path,nb_filename))\n",
    "    print(\"Exported {} as {} in {}\".format(nb_filename,','.join(extensions),nb_save))"
   ]
  }
 ],
 "metadata": {
  "kernelspec": {
   "display_name": "HEP",
   "language": "python",
   "name": "hep"
  },
  "language_info": {
   "codemirror_mode": {
    "name": "ipython",
    "version": 3
   },
   "file_extension": ".py",
   "mimetype": "text/x-python",
   "name": "python",
   "nbconvert_exporter": "python",
   "pygments_lexer": "ipython3",
   "version": "3.9.15"
  }
 },
 "nbformat": 4,
 "nbformat_minor": 5
}
